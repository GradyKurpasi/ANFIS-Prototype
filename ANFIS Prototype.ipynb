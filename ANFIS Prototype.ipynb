{
 "metadata": {
  "language_info": {
   "codemirror_mode": {
    "name": "ipython",
    "version": 3
   },
   "file_extension": ".py",
   "mimetype": "text/x-python",
   "name": "python",
   "nbconvert_exporter": "python",
   "pygments_lexer": "ipython3",
   "version": "3.8.5-final"
  },
  "orig_nbformat": 2,
  "kernelspec": {
   "name": "python3",
   "display_name": "Python 3.8.5 64-bit ('anfis616': conda)",
   "metadata": {
    "interpreter": {
     "hash": "c7d3922921487362800321d5fbfd77ae5337f6c7a4cb7128939766aab9b1a031"
    }
   }
  }
 },
 "nbformat": 4,
 "nbformat_minor": 2,
 "cells": [
  {
   "cell_type": "code",
   "execution_count": 3,
   "metadata": {},
   "outputs": [
    {
     "output_type": "execute_result",
     "data": {
      "text/plain": [
       "       X1    X2        Y\n",
       "0     5.0   8.0   9.8014\n",
       "1     5.2   8.0   9.6813\n",
       "2     5.4   8.0   9.1777\n",
       "3     5.6   8.0   8.9374\n",
       "4     5.8   8.0   8.6544\n",
       "..    ...   ...      ...\n",
       "437   9.2  16.0  10.5574\n",
       "438   9.4  16.0  10.9432\n",
       "439   9.6  16.0  11.3713\n",
       "440   9.8  16.0  11.8264\n",
       "441  10.0  16.0  12.2880\n",
       "\n",
       "[442 rows x 3 columns]"
      ],
      "text/html": "<div>\n<style scoped>\n    .dataframe tbody tr th:only-of-type {\n        vertical-align: middle;\n    }\n\n    .dataframe tbody tr th {\n        vertical-align: top;\n    }\n\n    .dataframe thead th {\n        text-align: right;\n    }\n</style>\n<table border=\"1\" class=\"dataframe\">\n  <thead>\n    <tr style=\"text-align: right;\">\n      <th></th>\n      <th>X1</th>\n      <th>X2</th>\n      <th>Y</th>\n    </tr>\n  </thead>\n  <tbody>\n    <tr>\n      <th>0</th>\n      <td>5.0</td>\n      <td>8.0</td>\n      <td>9.8014</td>\n    </tr>\n    <tr>\n      <th>1</th>\n      <td>5.2</td>\n      <td>8.0</td>\n      <td>9.6813</td>\n    </tr>\n    <tr>\n      <th>2</th>\n      <td>5.4</td>\n      <td>8.0</td>\n      <td>9.1777</td>\n    </tr>\n    <tr>\n      <th>3</th>\n      <td>5.6</td>\n      <td>8.0</td>\n      <td>8.9374</td>\n    </tr>\n    <tr>\n      <th>4</th>\n      <td>5.8</td>\n      <td>8.0</td>\n      <td>8.6544</td>\n    </tr>\n    <tr>\n      <th>...</th>\n      <td>...</td>\n      <td>...</td>\n      <td>...</td>\n    </tr>\n    <tr>\n      <th>437</th>\n      <td>9.2</td>\n      <td>16.0</td>\n      <td>10.5574</td>\n    </tr>\n    <tr>\n      <th>438</th>\n      <td>9.4</td>\n      <td>16.0</td>\n      <td>10.9432</td>\n    </tr>\n    <tr>\n      <th>439</th>\n      <td>9.6</td>\n      <td>16.0</td>\n      <td>11.3713</td>\n    </tr>\n    <tr>\n      <th>440</th>\n      <td>9.8</td>\n      <td>16.0</td>\n      <td>11.8264</td>\n    </tr>\n    <tr>\n      <th>441</th>\n      <td>10.0</td>\n      <td>16.0</td>\n      <td>12.2880</td>\n    </tr>\n  </tbody>\n</table>\n<p>442 rows × 3 columns</p>\n</div>"
     },
     "metadata": {},
     "execution_count": 3
    }
   ],
   "source": [
    "#load depdencies and source data\n",
    "\n",
    "import pandas as pd\n",
    "import numpy as np\n",
    "\n",
    "source_data = pd.read_csv('Data to be Modeled with ANFIS.csv')\n",
    "anfis = source_data\n"
   ]
  },
  {
   "cell_type": "code",
   "execution_count": 10,
   "metadata": {},
   "outputs": [
    {
     "output_type": "stream",
     "name": "stdout",
     "text": [
      "       X1    X2        Y  S1\n0     5.0   8.0   9.8014 NaN\n1     5.2   8.0   9.6813 NaN\n2     5.4   8.0   9.1777 NaN\n3     5.6   8.0   8.9374 NaN\n4     5.8   8.0   8.6544 NaN\n..    ...   ...      ...  ..\n437   9.2  16.0  10.5574 NaN\n438   9.4  16.0  10.9432 NaN\n439   9.6  16.0  11.3713 NaN\n440   9.8  16.0  11.8264 NaN\n441  10.0  16.0  12.2880 NaN\n\n[442 rows x 4 columns]\nMIN \nX1    5.000\nX2    8.000\nY     1.376\nS1      NaN\ndtype: float64\nMAX \nX1    10.000\nX2    16.000\nY     12.288\nS1       NaN\ndtype: float64\n"
     ]
    }
   ],
   "source": [
    "#print data summary\n",
    "print(source_data)\n",
    "print('MIN ')\n",
    "print(source_data.min())\n",
    "print('MAX ')\n",
    "print(source_data.max())"
   ]
  },
  {
   "cell_type": "code",
   "execution_count": 20,
   "metadata": {},
   "outputs": [
    {
     "output_type": "execute_result",
     "data": {
      "text/plain": [
       "       X1    X2        Y        S1        M1        L1        S2        M2  \\\n",
       "0     5.0   8.0   9.8014  0.500000  0.058824  0.058824  0.020000  0.020000   \n",
       "1     5.2   8.0   9.6813  0.325351  0.053648  0.053648  0.020000  0.020000   \n",
       "2     5.4   8.0   9.1777  0.206543  0.049116  0.049116  0.020000  0.020000   \n",
       "3     5.6   8.0   8.9374  0.132387  0.045126  0.045126  0.020000  0.020000   \n",
       "4     5.8   8.0   8.6544  0.086975  0.041597  0.041597  0.020000  0.020000   \n",
       "..    ...   ...      ...       ...       ...       ...       ...       ...   \n",
       "437   9.2  16.0  10.5574  0.001366  0.014654  0.014654  0.004425  0.004425   \n",
       "438   9.4  16.0  10.9432  0.001175  0.013974  0.013974  0.004425  0.004425   \n",
       "439   9.6  16.0  11.3713  0.001016  0.013340  0.013340  0.004425  0.004425   \n",
       "440   9.8  16.0  11.8264  0.000883  0.012749  0.012749  0.004425  0.004425   \n",
       "441  10.0  16.0  12.2880  0.000771  0.012195  0.012195  0.004425  0.004425   \n",
       "\n",
       "           L2  \n",
       "0    0.020000  \n",
       "1    0.020000  \n",
       "2    0.020000  \n",
       "3    0.020000  \n",
       "4    0.020000  \n",
       "..        ...  \n",
       "437  0.004425  \n",
       "438  0.004425  \n",
       "439  0.004425  \n",
       "440  0.004425  \n",
       "441  0.004425  \n",
       "\n",
       "[442 rows x 9 columns]"
      ],
      "text/html": "<div>\n<style scoped>\n    .dataframe tbody tr th:only-of-type {\n        vertical-align: middle;\n    }\n\n    .dataframe tbody tr th {\n        vertical-align: top;\n    }\n\n    .dataframe thead th {\n        text-align: right;\n    }\n</style>\n<table border=\"1\" class=\"dataframe\">\n  <thead>\n    <tr style=\"text-align: right;\">\n      <th></th>\n      <th>X1</th>\n      <th>X2</th>\n      <th>Y</th>\n      <th>S1</th>\n      <th>M1</th>\n      <th>L1</th>\n      <th>S2</th>\n      <th>M2</th>\n      <th>L2</th>\n    </tr>\n  </thead>\n  <tbody>\n    <tr>\n      <th>0</th>\n      <td>5.0</td>\n      <td>8.0</td>\n      <td>9.8014</td>\n      <td>0.500000</td>\n      <td>0.058824</td>\n      <td>0.058824</td>\n      <td>0.020000</td>\n      <td>0.020000</td>\n      <td>0.020000</td>\n    </tr>\n    <tr>\n      <th>1</th>\n      <td>5.2</td>\n      <td>8.0</td>\n      <td>9.6813</td>\n      <td>0.325351</td>\n      <td>0.053648</td>\n      <td>0.053648</td>\n      <td>0.020000</td>\n      <td>0.020000</td>\n      <td>0.020000</td>\n    </tr>\n    <tr>\n      <th>2</th>\n      <td>5.4</td>\n      <td>8.0</td>\n      <td>9.1777</td>\n      <td>0.206543</td>\n      <td>0.049116</td>\n      <td>0.049116</td>\n      <td>0.020000</td>\n      <td>0.020000</td>\n      <td>0.020000</td>\n    </tr>\n    <tr>\n      <th>3</th>\n      <td>5.6</td>\n      <td>8.0</td>\n      <td>8.9374</td>\n      <td>0.132387</td>\n      <td>0.045126</td>\n      <td>0.045126</td>\n      <td>0.020000</td>\n      <td>0.020000</td>\n      <td>0.020000</td>\n    </tr>\n    <tr>\n      <th>4</th>\n      <td>5.8</td>\n      <td>8.0</td>\n      <td>8.6544</td>\n      <td>0.086975</td>\n      <td>0.041597</td>\n      <td>0.041597</td>\n      <td>0.020000</td>\n      <td>0.020000</td>\n      <td>0.020000</td>\n    </tr>\n    <tr>\n      <th>...</th>\n      <td>...</td>\n      <td>...</td>\n      <td>...</td>\n      <td>...</td>\n      <td>...</td>\n      <td>...</td>\n      <td>...</td>\n      <td>...</td>\n      <td>...</td>\n    </tr>\n    <tr>\n      <th>437</th>\n      <td>9.2</td>\n      <td>16.0</td>\n      <td>10.5574</td>\n      <td>0.001366</td>\n      <td>0.014654</td>\n      <td>0.014654</td>\n      <td>0.004425</td>\n      <td>0.004425</td>\n      <td>0.004425</td>\n    </tr>\n    <tr>\n      <th>438</th>\n      <td>9.4</td>\n      <td>16.0</td>\n      <td>10.9432</td>\n      <td>0.001175</td>\n      <td>0.013974</td>\n      <td>0.013974</td>\n      <td>0.004425</td>\n      <td>0.004425</td>\n      <td>0.004425</td>\n    </tr>\n    <tr>\n      <th>439</th>\n      <td>9.6</td>\n      <td>16.0</td>\n      <td>11.3713</td>\n      <td>0.001016</td>\n      <td>0.013340</td>\n      <td>0.013340</td>\n      <td>0.004425</td>\n      <td>0.004425</td>\n      <td>0.004425</td>\n    </tr>\n    <tr>\n      <th>440</th>\n      <td>9.8</td>\n      <td>16.0</td>\n      <td>11.8264</td>\n      <td>0.000883</td>\n      <td>0.012749</td>\n      <td>0.012749</td>\n      <td>0.004425</td>\n      <td>0.004425</td>\n      <td>0.004425</td>\n    </tr>\n    <tr>\n      <th>441</th>\n      <td>10.0</td>\n      <td>16.0</td>\n      <td>12.2880</td>\n      <td>0.000771</td>\n      <td>0.012195</td>\n      <td>0.012195</td>\n      <td>0.004425</td>\n      <td>0.004425</td>\n      <td>0.004425</td>\n    </tr>\n  </tbody>\n</table>\n<p>442 rows × 9 columns</p>\n</div>"
     },
     "metadata": {},
     "execution_count": 20
    }
   ],
   "source": [
    "#LAYER 1\n",
    "# set alpha beta gamma for S1, M1, L1, S2, M2, L2\n",
    "# then calulate membership\n",
    "#     X1 in S1, M1, L1\n",
    "#     X2 in S2, M2, L2\n",
    "# using generalized bell function\n",
    "S1alpha = 1\n",
    "S1beta = 2\n",
    "S1gamma = 4\n",
    "M1alpha = 1\n",
    "M1beta = 1\n",
    "M1gamma = 1\n",
    "L1alpha = 1\n",
    "L1beta = 1\n",
    "L1gamma = 1\n",
    "S2alpha = 1\n",
    "S2beta = 1\n",
    "S2gamma = 1\n",
    "M2alpha = 1\n",
    "M2beta = 1\n",
    "M2gamma = 1\n",
    "L2alpha = 1\n",
    "L2beta = 1\n",
    "L2gamma = 1\n",
    "\n",
    "anfis['S1'] = 1 / (1+abs( (anfis['X1']-S1gamma) / S1alpha)**(2*S1beta) )\n",
    "anfis['M1'] = 1 / (1+abs( (anfis['X1']-M1gamma) / M1alpha)**(2*M1beta) )\n",
    "anfis['L1'] = 1 / (1+abs( (anfis['X1']-L1gamma) / L1alpha)**(2*L1beta) )\n",
    "anfis['S2'] = 1 / (1+abs( (anfis['X2']-S2gamma) / S2alpha)**(2*S2beta) )\n",
    "anfis['M2'] = 1 / (1+abs( (anfis['X2']-M2gamma) / M2alpha)**(2*M2beta) )\n",
    "anfis['L2'] = 1 / (1+abs( (anfis['X2']-L2gamma) / L2alpha)**(2*L2beta) )\n",
    "\n",
    "anfis"
   ]
  },
  {
   "cell_type": "code",
   "execution_count": 21,
   "metadata": {},
   "outputs": [
    {
     "output_type": "execute_result",
     "data": {
      "text/plain": [
       "       X1    X2        Y        S1        M1        L1        S2        M2  \\\n",
       "0     5.0   8.0   9.8014  0.500000  0.058824  0.058824  0.020000  0.020000   \n",
       "1     5.2   8.0   9.6813  0.325351  0.053648  0.053648  0.020000  0.020000   \n",
       "2     5.4   8.0   9.1777  0.206543  0.049116  0.049116  0.020000  0.020000   \n",
       "3     5.6   8.0   8.9374  0.132387  0.045126  0.045126  0.020000  0.020000   \n",
       "4     5.8   8.0   8.6544  0.086975  0.041597  0.041597  0.020000  0.020000   \n",
       "..    ...   ...      ...       ...       ...       ...       ...       ...   \n",
       "437   9.2  16.0  10.5574  0.001366  0.014654  0.014654  0.004425  0.004425   \n",
       "438   9.4  16.0  10.9432  0.001175  0.013974  0.013974  0.004425  0.004425   \n",
       "439   9.6  16.0  11.3713  0.001016  0.013340  0.013340  0.004425  0.004425   \n",
       "440   9.8  16.0  11.8264  0.000883  0.012749  0.012749  0.004425  0.004425   \n",
       "441  10.0  16.0  12.2880  0.000771  0.012195  0.012195  0.004425  0.004425   \n",
       "\n",
       "           L2        R1        R2        R3        R4        R5        R6  \\\n",
       "0    0.020000  0.010000  0.010000  0.010000  0.001176  0.001176  0.001176   \n",
       "1    0.020000  0.006507  0.006507  0.006507  0.001073  0.001073  0.001073   \n",
       "2    0.020000  0.004131  0.004131  0.004131  0.000982  0.000982  0.000982   \n",
       "3    0.020000  0.002648  0.002648  0.002648  0.000903  0.000903  0.000903   \n",
       "4    0.020000  0.001739  0.001739  0.001739  0.000832  0.000832  0.000832   \n",
       "..        ...       ...       ...       ...       ...       ...       ...   \n",
       "437  0.004425  0.000006  0.000006  0.000006  0.000065  0.000065  0.000065   \n",
       "438  0.004425  0.000005  0.000005  0.000005  0.000062  0.000062  0.000062   \n",
       "439  0.004425  0.000004  0.000004  0.000004  0.000059  0.000059  0.000059   \n",
       "440  0.004425  0.000004  0.000004  0.000004  0.000056  0.000056  0.000056   \n",
       "441  0.004425  0.000003  0.000003  0.000003  0.000054  0.000054  0.000054   \n",
       "\n",
       "           R7        R8        R9  \n",
       "0    0.001176  0.001176  0.001176  \n",
       "1    0.001073  0.001073  0.001073  \n",
       "2    0.000982  0.000982  0.000982  \n",
       "3    0.000903  0.000903  0.000903  \n",
       "4    0.000832  0.000832  0.000832  \n",
       "..        ...       ...       ...  \n",
       "437  0.000065  0.000065  0.000065  \n",
       "438  0.000062  0.000062  0.000062  \n",
       "439  0.000059  0.000059  0.000059  \n",
       "440  0.000056  0.000056  0.000056  \n",
       "441  0.000054  0.000054  0.000054  \n",
       "\n",
       "[442 rows x 18 columns]"
      ],
      "text/html": "<div>\n<style scoped>\n    .dataframe tbody tr th:only-of-type {\n        vertical-align: middle;\n    }\n\n    .dataframe tbody tr th {\n        vertical-align: top;\n    }\n\n    .dataframe thead th {\n        text-align: right;\n    }\n</style>\n<table border=\"1\" class=\"dataframe\">\n  <thead>\n    <tr style=\"text-align: right;\">\n      <th></th>\n      <th>X1</th>\n      <th>X2</th>\n      <th>Y</th>\n      <th>S1</th>\n      <th>M1</th>\n      <th>L1</th>\n      <th>S2</th>\n      <th>M2</th>\n      <th>L2</th>\n      <th>R1</th>\n      <th>R2</th>\n      <th>R3</th>\n      <th>R4</th>\n      <th>R5</th>\n      <th>R6</th>\n      <th>R7</th>\n      <th>R8</th>\n      <th>R9</th>\n    </tr>\n  </thead>\n  <tbody>\n    <tr>\n      <th>0</th>\n      <td>5.0</td>\n      <td>8.0</td>\n      <td>9.8014</td>\n      <td>0.500000</td>\n      <td>0.058824</td>\n      <td>0.058824</td>\n      <td>0.020000</td>\n      <td>0.020000</td>\n      <td>0.020000</td>\n      <td>0.010000</td>\n      <td>0.010000</td>\n      <td>0.010000</td>\n      <td>0.001176</td>\n      <td>0.001176</td>\n      <td>0.001176</td>\n      <td>0.001176</td>\n      <td>0.001176</td>\n      <td>0.001176</td>\n    </tr>\n    <tr>\n      <th>1</th>\n      <td>5.2</td>\n      <td>8.0</td>\n      <td>9.6813</td>\n      <td>0.325351</td>\n      <td>0.053648</td>\n      <td>0.053648</td>\n      <td>0.020000</td>\n      <td>0.020000</td>\n      <td>0.020000</td>\n      <td>0.006507</td>\n      <td>0.006507</td>\n      <td>0.006507</td>\n      <td>0.001073</td>\n      <td>0.001073</td>\n      <td>0.001073</td>\n      <td>0.001073</td>\n      <td>0.001073</td>\n      <td>0.001073</td>\n    </tr>\n    <tr>\n      <th>2</th>\n      <td>5.4</td>\n      <td>8.0</td>\n      <td>9.1777</td>\n      <td>0.206543</td>\n      <td>0.049116</td>\n      <td>0.049116</td>\n      <td>0.020000</td>\n      <td>0.020000</td>\n      <td>0.020000</td>\n      <td>0.004131</td>\n      <td>0.004131</td>\n      <td>0.004131</td>\n      <td>0.000982</td>\n      <td>0.000982</td>\n      <td>0.000982</td>\n      <td>0.000982</td>\n      <td>0.000982</td>\n      <td>0.000982</td>\n    </tr>\n    <tr>\n      <th>3</th>\n      <td>5.6</td>\n      <td>8.0</td>\n      <td>8.9374</td>\n      <td>0.132387</td>\n      <td>0.045126</td>\n      <td>0.045126</td>\n      <td>0.020000</td>\n      <td>0.020000</td>\n      <td>0.020000</td>\n      <td>0.002648</td>\n      <td>0.002648</td>\n      <td>0.002648</td>\n      <td>0.000903</td>\n      <td>0.000903</td>\n      <td>0.000903</td>\n      <td>0.000903</td>\n      <td>0.000903</td>\n      <td>0.000903</td>\n    </tr>\n    <tr>\n      <th>4</th>\n      <td>5.8</td>\n      <td>8.0</td>\n      <td>8.6544</td>\n      <td>0.086975</td>\n      <td>0.041597</td>\n      <td>0.041597</td>\n      <td>0.020000</td>\n      <td>0.020000</td>\n      <td>0.020000</td>\n      <td>0.001739</td>\n      <td>0.001739</td>\n      <td>0.001739</td>\n      <td>0.000832</td>\n      <td>0.000832</td>\n      <td>0.000832</td>\n      <td>0.000832</td>\n      <td>0.000832</td>\n      <td>0.000832</td>\n    </tr>\n    <tr>\n      <th>...</th>\n      <td>...</td>\n      <td>...</td>\n      <td>...</td>\n      <td>...</td>\n      <td>...</td>\n      <td>...</td>\n      <td>...</td>\n      <td>...</td>\n      <td>...</td>\n      <td>...</td>\n      <td>...</td>\n      <td>...</td>\n      <td>...</td>\n      <td>...</td>\n      <td>...</td>\n      <td>...</td>\n      <td>...</td>\n      <td>...</td>\n    </tr>\n    <tr>\n      <th>437</th>\n      <td>9.2</td>\n      <td>16.0</td>\n      <td>10.5574</td>\n      <td>0.001366</td>\n      <td>0.014654</td>\n      <td>0.014654</td>\n      <td>0.004425</td>\n      <td>0.004425</td>\n      <td>0.004425</td>\n      <td>0.000006</td>\n      <td>0.000006</td>\n      <td>0.000006</td>\n      <td>0.000065</td>\n      <td>0.000065</td>\n      <td>0.000065</td>\n      <td>0.000065</td>\n      <td>0.000065</td>\n      <td>0.000065</td>\n    </tr>\n    <tr>\n      <th>438</th>\n      <td>9.4</td>\n      <td>16.0</td>\n      <td>10.9432</td>\n      <td>0.001175</td>\n      <td>0.013974</td>\n      <td>0.013974</td>\n      <td>0.004425</td>\n      <td>0.004425</td>\n      <td>0.004425</td>\n      <td>0.000005</td>\n      <td>0.000005</td>\n      <td>0.000005</td>\n      <td>0.000062</td>\n      <td>0.000062</td>\n      <td>0.000062</td>\n      <td>0.000062</td>\n      <td>0.000062</td>\n      <td>0.000062</td>\n    </tr>\n    <tr>\n      <th>439</th>\n      <td>9.6</td>\n      <td>16.0</td>\n      <td>11.3713</td>\n      <td>0.001016</td>\n      <td>0.013340</td>\n      <td>0.013340</td>\n      <td>0.004425</td>\n      <td>0.004425</td>\n      <td>0.004425</td>\n      <td>0.000004</td>\n      <td>0.000004</td>\n      <td>0.000004</td>\n      <td>0.000059</td>\n      <td>0.000059</td>\n      <td>0.000059</td>\n      <td>0.000059</td>\n      <td>0.000059</td>\n      <td>0.000059</td>\n    </tr>\n    <tr>\n      <th>440</th>\n      <td>9.8</td>\n      <td>16.0</td>\n      <td>11.8264</td>\n      <td>0.000883</td>\n      <td>0.012749</td>\n      <td>0.012749</td>\n      <td>0.004425</td>\n      <td>0.004425</td>\n      <td>0.004425</td>\n      <td>0.000004</td>\n      <td>0.000004</td>\n      <td>0.000004</td>\n      <td>0.000056</td>\n      <td>0.000056</td>\n      <td>0.000056</td>\n      <td>0.000056</td>\n      <td>0.000056</td>\n      <td>0.000056</td>\n    </tr>\n    <tr>\n      <th>441</th>\n      <td>10.0</td>\n      <td>16.0</td>\n      <td>12.2880</td>\n      <td>0.000771</td>\n      <td>0.012195</td>\n      <td>0.012195</td>\n      <td>0.004425</td>\n      <td>0.004425</td>\n      <td>0.004425</td>\n      <td>0.000003</td>\n      <td>0.000003</td>\n      <td>0.000003</td>\n      <td>0.000054</td>\n      <td>0.000054</td>\n      <td>0.000054</td>\n      <td>0.000054</td>\n      <td>0.000054</td>\n      <td>0.000054</td>\n    </tr>\n  </tbody>\n</table>\n<p>442 rows × 18 columns</p>\n</div>"
     },
     "metadata": {},
     "execution_count": 21
    }
   ],
   "source": [
    "#calculate rule weights\n",
    "#rule weights = cartesian product of (S1, M1, L1) X (S2, M2, L2)\n",
    "# R1-R9 = raw rule weight\n",
    "\n",
    "anfis['R1'] = anfis['S1'] * anfis['S2']\n",
    "anfis['R2'] = anfis['S1'] * anfis['M2']\n",
    "anfis['R3'] = anfis['S1'] * anfis['L2']\n",
    "anfis['R4'] = anfis['M1'] * anfis['S2']\n",
    "anfis['R5'] = anfis['M1'] * anfis['M2']\n",
    "anfis['R6'] = anfis['M1'] * anfis['L2']\n",
    "anfis['R7'] = anfis['L1'] * anfis['S2']\n",
    "anfis['R8'] = anfis['L1'] * anfis['M2']\n",
    "anfis['R9'] = anfis['L1'] * anfis['L2']\n",
    "\n",
    "anfis"
   ]
  },
  {
   "cell_type": "code",
   "execution_count": 24,
   "metadata": {},
   "outputs": [
    {
     "output_type": "execute_result",
     "data": {
      "text/plain": [
       "       X1    X2        Y        S1        M1        L1        S2        M2  \\\n",
       "0     5.0   8.0   9.8014  0.500000  0.058824  0.058824  0.020000  0.020000   \n",
       "1     5.2   8.0   9.6813  0.325351  0.053648  0.053648  0.020000  0.020000   \n",
       "2     5.4   8.0   9.1777  0.206543  0.049116  0.049116  0.020000  0.020000   \n",
       "3     5.6   8.0   8.9374  0.132387  0.045126  0.045126  0.020000  0.020000   \n",
       "4     5.8   8.0   8.6544  0.086975  0.041597  0.041597  0.020000  0.020000   \n",
       "..    ...   ...      ...       ...       ...       ...       ...       ...   \n",
       "437   9.2  16.0  10.5574  0.001366  0.014654  0.014654  0.004425  0.004425   \n",
       "438   9.4  16.0  10.9432  0.001175  0.013974  0.013974  0.004425  0.004425   \n",
       "439   9.6  16.0  11.3713  0.001016  0.013340  0.013340  0.004425  0.004425   \n",
       "440   9.8  16.0  11.8264  0.000883  0.012749  0.012749  0.004425  0.004425   \n",
       "441  10.0  16.0  12.2880  0.000771  0.012195  0.012195  0.004425  0.004425   \n",
       "\n",
       "           L2        R1  ...        R9        N1        N2        N3  \\\n",
       "0    0.020000  0.010000  ...  0.001176  0.269841  0.269841  0.269841   \n",
       "1    0.020000  0.006507  ...  0.001073  0.250667  0.250667  0.250667   \n",
       "2    0.020000  0.004131  ...  0.000982  0.225897  0.225897  0.225897   \n",
       "3    0.020000  0.002648  ...  0.000903  0.198208  0.198208  0.198208   \n",
       "4    0.020000  0.001739  ...  0.000832  0.170369  0.170369  0.170369   \n",
       "..        ...       ...  ...       ...       ...       ...       ...   \n",
       "437  0.004425  0.000006  ...  0.000065  0.014842  0.014842  0.014842   \n",
       "438  0.004425  0.000005  ...  0.000062  0.013445  0.013445  0.013445   \n",
       "439  0.004425  0.000004  ...  0.000059  0.012225  0.012225  0.012225   \n",
       "440  0.004425  0.000004  ...  0.000056  0.011156  0.011156  0.011156   \n",
       "441  0.004425  0.000003  ...  0.000054  0.010214  0.010214  0.010214   \n",
       "\n",
       "           N4        N5        N6        N7        N8        N9  \n",
       "0    0.031746  0.031746  0.031746  0.031746  0.031746  0.031746  \n",
       "1    0.041333  0.041333  0.041333  0.041333  0.041333  0.041333  \n",
       "2    0.053718  0.053718  0.053718  0.053718  0.053718  0.053718  \n",
       "3    0.067563  0.067563  0.067563  0.067563  0.067563  0.067563  \n",
       "4    0.081482  0.081482  0.081482  0.081482  0.081482  0.081482  \n",
       "..        ...       ...       ...       ...       ...       ...  \n",
       "437  0.159246  0.159246  0.159246  0.159246  0.159246  0.159246  \n",
       "438  0.159944  0.159944  0.159944  0.159944  0.159944  0.159944  \n",
       "439  0.160554  0.160554  0.160554  0.160554  0.160554  0.160554  \n",
       "440  0.161089  0.161089  0.161089  0.161089  0.161089  0.161089  \n",
       "441  0.161560  0.161560  0.161560  0.161560  0.161560  0.161560  \n",
       "\n",
       "[442 rows x 27 columns]"
      ],
      "text/html": "<div>\n<style scoped>\n    .dataframe tbody tr th:only-of-type {\n        vertical-align: middle;\n    }\n\n    .dataframe tbody tr th {\n        vertical-align: top;\n    }\n\n    .dataframe thead th {\n        text-align: right;\n    }\n</style>\n<table border=\"1\" class=\"dataframe\">\n  <thead>\n    <tr style=\"text-align: right;\">\n      <th></th>\n      <th>X1</th>\n      <th>X2</th>\n      <th>Y</th>\n      <th>S1</th>\n      <th>M1</th>\n      <th>L1</th>\n      <th>S2</th>\n      <th>M2</th>\n      <th>L2</th>\n      <th>R1</th>\n      <th>...</th>\n      <th>R9</th>\n      <th>N1</th>\n      <th>N2</th>\n      <th>N3</th>\n      <th>N4</th>\n      <th>N5</th>\n      <th>N6</th>\n      <th>N7</th>\n      <th>N8</th>\n      <th>N9</th>\n    </tr>\n  </thead>\n  <tbody>\n    <tr>\n      <th>0</th>\n      <td>5.0</td>\n      <td>8.0</td>\n      <td>9.8014</td>\n      <td>0.500000</td>\n      <td>0.058824</td>\n      <td>0.058824</td>\n      <td>0.020000</td>\n      <td>0.020000</td>\n      <td>0.020000</td>\n      <td>0.010000</td>\n      <td>...</td>\n      <td>0.001176</td>\n      <td>0.269841</td>\n      <td>0.269841</td>\n      <td>0.269841</td>\n      <td>0.031746</td>\n      <td>0.031746</td>\n      <td>0.031746</td>\n      <td>0.031746</td>\n      <td>0.031746</td>\n      <td>0.031746</td>\n    </tr>\n    <tr>\n      <th>1</th>\n      <td>5.2</td>\n      <td>8.0</td>\n      <td>9.6813</td>\n      <td>0.325351</td>\n      <td>0.053648</td>\n      <td>0.053648</td>\n      <td>0.020000</td>\n      <td>0.020000</td>\n      <td>0.020000</td>\n      <td>0.006507</td>\n      <td>...</td>\n      <td>0.001073</td>\n      <td>0.250667</td>\n      <td>0.250667</td>\n      <td>0.250667</td>\n      <td>0.041333</td>\n      <td>0.041333</td>\n      <td>0.041333</td>\n      <td>0.041333</td>\n      <td>0.041333</td>\n      <td>0.041333</td>\n    </tr>\n    <tr>\n      <th>2</th>\n      <td>5.4</td>\n      <td>8.0</td>\n      <td>9.1777</td>\n      <td>0.206543</td>\n      <td>0.049116</td>\n      <td>0.049116</td>\n      <td>0.020000</td>\n      <td>0.020000</td>\n      <td>0.020000</td>\n      <td>0.004131</td>\n      <td>...</td>\n      <td>0.000982</td>\n      <td>0.225897</td>\n      <td>0.225897</td>\n      <td>0.225897</td>\n      <td>0.053718</td>\n      <td>0.053718</td>\n      <td>0.053718</td>\n      <td>0.053718</td>\n      <td>0.053718</td>\n      <td>0.053718</td>\n    </tr>\n    <tr>\n      <th>3</th>\n      <td>5.6</td>\n      <td>8.0</td>\n      <td>8.9374</td>\n      <td>0.132387</td>\n      <td>0.045126</td>\n      <td>0.045126</td>\n      <td>0.020000</td>\n      <td>0.020000</td>\n      <td>0.020000</td>\n      <td>0.002648</td>\n      <td>...</td>\n      <td>0.000903</td>\n      <td>0.198208</td>\n      <td>0.198208</td>\n      <td>0.198208</td>\n      <td>0.067563</td>\n      <td>0.067563</td>\n      <td>0.067563</td>\n      <td>0.067563</td>\n      <td>0.067563</td>\n      <td>0.067563</td>\n    </tr>\n    <tr>\n      <th>4</th>\n      <td>5.8</td>\n      <td>8.0</td>\n      <td>8.6544</td>\n      <td>0.086975</td>\n      <td>0.041597</td>\n      <td>0.041597</td>\n      <td>0.020000</td>\n      <td>0.020000</td>\n      <td>0.020000</td>\n      <td>0.001739</td>\n      <td>...</td>\n      <td>0.000832</td>\n      <td>0.170369</td>\n      <td>0.170369</td>\n      <td>0.170369</td>\n      <td>0.081482</td>\n      <td>0.081482</td>\n      <td>0.081482</td>\n      <td>0.081482</td>\n      <td>0.081482</td>\n      <td>0.081482</td>\n    </tr>\n    <tr>\n      <th>...</th>\n      <td>...</td>\n      <td>...</td>\n      <td>...</td>\n      <td>...</td>\n      <td>...</td>\n      <td>...</td>\n      <td>...</td>\n      <td>...</td>\n      <td>...</td>\n      <td>...</td>\n      <td>...</td>\n      <td>...</td>\n      <td>...</td>\n      <td>...</td>\n      <td>...</td>\n      <td>...</td>\n      <td>...</td>\n      <td>...</td>\n      <td>...</td>\n      <td>...</td>\n      <td>...</td>\n    </tr>\n    <tr>\n      <th>437</th>\n      <td>9.2</td>\n      <td>16.0</td>\n      <td>10.5574</td>\n      <td>0.001366</td>\n      <td>0.014654</td>\n      <td>0.014654</td>\n      <td>0.004425</td>\n      <td>0.004425</td>\n      <td>0.004425</td>\n      <td>0.000006</td>\n      <td>...</td>\n      <td>0.000065</td>\n      <td>0.014842</td>\n      <td>0.014842</td>\n      <td>0.014842</td>\n      <td>0.159246</td>\n      <td>0.159246</td>\n      <td>0.159246</td>\n      <td>0.159246</td>\n      <td>0.159246</td>\n      <td>0.159246</td>\n    </tr>\n    <tr>\n      <th>438</th>\n      <td>9.4</td>\n      <td>16.0</td>\n      <td>10.9432</td>\n      <td>0.001175</td>\n      <td>0.013974</td>\n      <td>0.013974</td>\n      <td>0.004425</td>\n      <td>0.004425</td>\n      <td>0.004425</td>\n      <td>0.000005</td>\n      <td>...</td>\n      <td>0.000062</td>\n      <td>0.013445</td>\n      <td>0.013445</td>\n      <td>0.013445</td>\n      <td>0.159944</td>\n      <td>0.159944</td>\n      <td>0.159944</td>\n      <td>0.159944</td>\n      <td>0.159944</td>\n      <td>0.159944</td>\n    </tr>\n    <tr>\n      <th>439</th>\n      <td>9.6</td>\n      <td>16.0</td>\n      <td>11.3713</td>\n      <td>0.001016</td>\n      <td>0.013340</td>\n      <td>0.013340</td>\n      <td>0.004425</td>\n      <td>0.004425</td>\n      <td>0.004425</td>\n      <td>0.000004</td>\n      <td>...</td>\n      <td>0.000059</td>\n      <td>0.012225</td>\n      <td>0.012225</td>\n      <td>0.012225</td>\n      <td>0.160554</td>\n      <td>0.160554</td>\n      <td>0.160554</td>\n      <td>0.160554</td>\n      <td>0.160554</td>\n      <td>0.160554</td>\n    </tr>\n    <tr>\n      <th>440</th>\n      <td>9.8</td>\n      <td>16.0</td>\n      <td>11.8264</td>\n      <td>0.000883</td>\n      <td>0.012749</td>\n      <td>0.012749</td>\n      <td>0.004425</td>\n      <td>0.004425</td>\n      <td>0.004425</td>\n      <td>0.000004</td>\n      <td>...</td>\n      <td>0.000056</td>\n      <td>0.011156</td>\n      <td>0.011156</td>\n      <td>0.011156</td>\n      <td>0.161089</td>\n      <td>0.161089</td>\n      <td>0.161089</td>\n      <td>0.161089</td>\n      <td>0.161089</td>\n      <td>0.161089</td>\n    </tr>\n    <tr>\n      <th>441</th>\n      <td>10.0</td>\n      <td>16.0</td>\n      <td>12.2880</td>\n      <td>0.000771</td>\n      <td>0.012195</td>\n      <td>0.012195</td>\n      <td>0.004425</td>\n      <td>0.004425</td>\n      <td>0.004425</td>\n      <td>0.000003</td>\n      <td>...</td>\n      <td>0.000054</td>\n      <td>0.010214</td>\n      <td>0.010214</td>\n      <td>0.010214</td>\n      <td>0.161560</td>\n      <td>0.161560</td>\n      <td>0.161560</td>\n      <td>0.161560</td>\n      <td>0.161560</td>\n      <td>0.161560</td>\n    </tr>\n  </tbody>\n</table>\n<p>442 rows × 27 columns</p>\n</div>"
     },
     "metadata": {},
     "execution_count": 24
    }
   ],
   "source": [
    "# normalize rule weights\n",
    "# Divide rule weight (R1...R9) by summation of all rule weights (R1 + R2 + ... R9)\n",
    "# N1-N9 = normalized rule weights\n",
    "\n",
    "anfis['N1'] = anfis['R1'] / (anfis['R1'] + anfis['R2'] + anfis['R3'] + anfis['R4'] + anfis['R5'] + anfis['R6'] + \n",
    "    anfis['R7'] + anfis['R8'] + anfis['R9'])\n",
    "\n",
    "anfis['N2'] = anfis['R2'] / (anfis['R1'] + anfis['R2'] + anfis['R3'] + anfis['R4'] + anfis['R5'] + anfis['R6'] + \n",
    "    anfis['R7'] + anfis['R8'] + anfis['R9'])\n",
    "\n",
    "anfis['N3'] = anfis['R3'] / (anfis['R1'] + anfis['R2'] + anfis['R3'] + anfis['R4'] + anfis['R5'] + anfis['R6'] + \n",
    "    anfis['R7'] + anfis['R8'] + anfis['R9'])\n",
    "\n",
    "anfis['N4'] = anfis['R4'] / (anfis['R1'] + anfis['R2'] + anfis['R3'] + anfis['R4'] + anfis['R5'] + anfis['R6'] + \n",
    "    anfis['R7'] + anfis['R8'] + anfis['R9'])\n",
    "\n",
    "anfis['N5'] = anfis['R5'] / (anfis['R1'] + anfis['R2'] + anfis['R3'] + anfis['R4'] + anfis['R5'] + anfis['R6'] + \n",
    "    anfis['R7'] + anfis['R8'] + anfis['R9'])\n",
    "\n",
    "anfis['N6'] = anfis['R6'] / (anfis['R1'] + anfis['R2'] + anfis['R3'] + anfis['R4'] + anfis['R5'] + anfis['R6'] + \n",
    "    anfis['R7'] + anfis['R8'] + anfis['R9'])\n",
    "\n",
    "anfis['N7'] = anfis['R7'] / (anfis['R1'] + anfis['R2'] + anfis['R3'] + anfis['R4'] + anfis['R5'] + anfis['R6'] + \n",
    "    anfis['R7'] + anfis['R8'] + anfis['R9'])\n",
    "\n",
    "anfis['N8'] = anfis['R8'] / (anfis['R1'] + anfis['R2'] + anfis['R3'] + anfis['R4'] + anfis['R5'] + anfis['R6'] + \n",
    "    anfis['R7'] + anfis['R8'] + anfis['R9'])\n",
    "\n",
    "anfis['N9'] = anfis['R9'] / (anfis['R1'] + anfis['R2'] + anfis['R3'] + anfis['R4'] + anfis['R5'] + anfis['R6'] + \n",
    "    anfis['R7'] + anfis['R8'] + anfis['R9'])\n",
    "\n",
    "anfis\n"
   ]
  },
  {
   "cell_type": "code",
   "execution_count": null,
   "metadata": {},
   "outputs": [],
   "source": [
    "#ASSUMING (FOR NOW) C1, C2, C3 all to be 1\n",
    "#calculate function activation for each rule\n",
    "# F1 = N1 X (X1 + X2 + Y)\n",
    "# F1 - F9 = function activations\n",
    "\n",
    "\n",
    "\n",
    "\n"
   ]
  }
 ]
}