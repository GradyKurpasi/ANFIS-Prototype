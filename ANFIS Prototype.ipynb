{
 "metadata": {
  "language_info": {
   "codemirror_mode": {
    "name": "ipython",
    "version": 3
   },
   "file_extension": ".py",
   "mimetype": "text/x-python",
   "name": "python",
   "nbconvert_exporter": "python",
   "pygments_lexer": "ipython3",
   "version": "3.8.5-final"
  },
  "orig_nbformat": 2,
  "kernelspec": {
   "name": "python3",
   "display_name": "Python 3.8.5 64-bit",
   "metadata": {
    "interpreter": {
     "hash": "c7d3922921487362800321d5fbfd77ae5337f6c7a4cb7128939766aab9b1a031"
    }
   }
  }
 },
 "nbformat": 4,
 "nbformat_minor": 2,
 "cells": [
  {
   "cell_type": "code",
   "execution_count": 22,
   "metadata": {},
   "outputs": [
    {
     "output_type": "stream",
     "name": "stdout",
     "text": [
      "       X1    X2        Y\n0     5.0   8.0   9.8014\n1     5.0   8.5   8.6765\n2     5.0   9.0   7.5033\n3     5.0   9.5   6.1938\n4     5.0  10.0   5.0918\n..    ...   ...      ...\n437  10.0  14.0   7.6936\n438  10.0  14.5   8.3455\n439  10.0  15.0   9.8809\n440  10.0  15.5  10.8375\n441  10.0  16.0  12.2880\n\n[442 rows x 3 columns]\nMIN \nX1    5.000\nX2    8.000\nY     1.376\ndtype: float64\nMAX \nX1    10.000\nX2    16.000\nY     12.288\ndtype: float64\n"
     ]
    }
   ],
   "source": [
    "#load depdencies and source data\n",
    "\n",
    "import pandas as pd\n",
    "import numpy as np\n",
    "import matplotlib.pyplot as plt \n",
    "\n",
    "\n",
    "source_data = pd.read_csv('Data to be Modeled with ANFIS.csv')\n",
    "anfis = source_data\n",
    "\n",
    "#print data summary\n",
    "print(source_data)\n",
    "print('MIN ')\n",
    "print(source_data.min())\n",
    "print('MAX ')\n",
    "print(source_data.max())"
   ]
  },
  {
   "cell_type": "code",
   "execution_count": 23,
   "metadata": {},
   "outputs": [
    {
     "output_type": "execute_result",
     "data": {
      "text/plain": [
       "       X1    X2        Y\n",
       "0     5.0   8.0   9.8014\n",
       "1     5.0   8.5   8.6765\n",
       "2     5.0   9.0   7.5033\n",
       "3     5.0   9.5   6.1938\n",
       "4     5.0  10.0   5.0918\n",
       "..    ...   ...      ...\n",
       "437  10.0  14.0   7.6936\n",
       "438  10.0  14.5   8.3455\n",
       "439  10.0  15.0   9.8809\n",
       "440  10.0  15.5  10.8375\n",
       "441  10.0  16.0  12.2880\n",
       "\n",
       "[442 rows x 3 columns]"
      ],
      "text/html": "<div>\n<style scoped>\n    .dataframe tbody tr th:only-of-type {\n        vertical-align: middle;\n    }\n\n    .dataframe tbody tr th {\n        vertical-align: top;\n    }\n\n    .dataframe thead th {\n        text-align: right;\n    }\n</style>\n<table border=\"1\" class=\"dataframe\">\n  <thead>\n    <tr style=\"text-align: right;\">\n      <th></th>\n      <th>X1</th>\n      <th>X2</th>\n      <th>Y</th>\n    </tr>\n  </thead>\n  <tbody>\n    <tr>\n      <th>0</th>\n      <td>5.0</td>\n      <td>8.0</td>\n      <td>9.8014</td>\n    </tr>\n    <tr>\n      <th>1</th>\n      <td>5.0</td>\n      <td>8.5</td>\n      <td>8.6765</td>\n    </tr>\n    <tr>\n      <th>2</th>\n      <td>5.0</td>\n      <td>9.0</td>\n      <td>7.5033</td>\n    </tr>\n    <tr>\n      <th>3</th>\n      <td>5.0</td>\n      <td>9.5</td>\n      <td>6.1938</td>\n    </tr>\n    <tr>\n      <th>4</th>\n      <td>5.0</td>\n      <td>10.0</td>\n      <td>5.0918</td>\n    </tr>\n    <tr>\n      <th>...</th>\n      <td>...</td>\n      <td>...</td>\n      <td>...</td>\n    </tr>\n    <tr>\n      <th>437</th>\n      <td>10.0</td>\n      <td>14.0</td>\n      <td>7.6936</td>\n    </tr>\n    <tr>\n      <th>438</th>\n      <td>10.0</td>\n      <td>14.5</td>\n      <td>8.3455</td>\n    </tr>\n    <tr>\n      <th>439</th>\n      <td>10.0</td>\n      <td>15.0</td>\n      <td>9.8809</td>\n    </tr>\n    <tr>\n      <th>440</th>\n      <td>10.0</td>\n      <td>15.5</td>\n      <td>10.8375</td>\n    </tr>\n    <tr>\n      <th>441</th>\n      <td>10.0</td>\n      <td>16.0</td>\n      <td>12.2880</td>\n    </tr>\n  </tbody>\n</table>\n<p>442 rows × 3 columns</p>\n</div>"
     },
     "metadata": {},
     "execution_count": 23
    }
   ],
   "source": [
    "#LAYER0\n",
    "# anfis['X1'] = x1\n",
    "# anfis['X2'] = x2\n",
    "\n",
    "anfis"
   ]
  },
  {
   "cell_type": "code",
   "execution_count": 25,
   "metadata": {},
   "outputs": [
    {
     "output_type": "execute_result",
     "data": {
      "text/plain": [
       "       X1    X2        Y\n",
       "0     5.0   8.0   9.8014\n",
       "1     5.0   8.5   8.6765\n",
       "2     5.0   9.0   7.5033\n",
       "3     5.0   9.5   6.1938\n",
       "4     5.0  10.0   5.0918\n",
       "..    ...   ...      ...\n",
       "437  10.0  14.0   7.6936\n",
       "438  10.0  14.5   8.3455\n",
       "439  10.0  15.0   9.8809\n",
       "440  10.0  15.5  10.8375\n",
       "441  10.0  16.0  12.2880\n",
       "\n",
       "[442 rows x 3 columns]"
      ],
      "text/html": "<div>\n<style scoped>\n    .dataframe tbody tr th:only-of-type {\n        vertical-align: middle;\n    }\n\n    .dataframe tbody tr th {\n        vertical-align: top;\n    }\n\n    .dataframe thead th {\n        text-align: right;\n    }\n</style>\n<table border=\"1\" class=\"dataframe\">\n  <thead>\n    <tr style=\"text-align: right;\">\n      <th></th>\n      <th>X1</th>\n      <th>X2</th>\n      <th>Y</th>\n    </tr>\n  </thead>\n  <tbody>\n    <tr>\n      <th>0</th>\n      <td>5.0</td>\n      <td>8.0</td>\n      <td>9.8014</td>\n    </tr>\n    <tr>\n      <th>1</th>\n      <td>5.0</td>\n      <td>8.5</td>\n      <td>8.6765</td>\n    </tr>\n    <tr>\n      <th>2</th>\n      <td>5.0</td>\n      <td>9.0</td>\n      <td>7.5033</td>\n    </tr>\n    <tr>\n      <th>3</th>\n      <td>5.0</td>\n      <td>9.5</td>\n      <td>6.1938</td>\n    </tr>\n    <tr>\n      <th>4</th>\n      <td>5.0</td>\n      <td>10.0</td>\n      <td>5.0918</td>\n    </tr>\n    <tr>\n      <th>...</th>\n      <td>...</td>\n      <td>...</td>\n      <td>...</td>\n    </tr>\n    <tr>\n      <th>437</th>\n      <td>10.0</td>\n      <td>14.0</td>\n      <td>7.6936</td>\n    </tr>\n    <tr>\n      <th>438</th>\n      <td>10.0</td>\n      <td>14.5</td>\n      <td>8.3455</td>\n    </tr>\n    <tr>\n      <th>439</th>\n      <td>10.0</td>\n      <td>15.0</td>\n      <td>9.8809</td>\n    </tr>\n    <tr>\n      <th>440</th>\n      <td>10.0</td>\n      <td>15.5</td>\n      <td>10.8375</td>\n    </tr>\n    <tr>\n      <th>441</th>\n      <td>10.0</td>\n      <td>16.0</td>\n      <td>12.2880</td>\n    </tr>\n  </tbody>\n</table>\n<p>442 rows × 3 columns</p>\n</div>"
     },
     "metadata": {},
     "execution_count": 25
    }
   ],
   "source": [
    "#LAYER 1 (Phase 0)\n",
    "\n",
    "\n",
    "def Layer1Phase0():\n",
    "    \"\"\"\" set starting values for alpha beta gamma for S1, M1, L1, S2, M2, L2\n",
    "         and calculate linguistic term membership\"\"\"\n",
    "    print(\"HEre I aM\")\n",
    "    global anfis\n",
    "\n",
    "    S1alpha = 1.5;  S1beta = 2; S1gamma = 5\n",
    "    M1alpha = 1;    M1beta = 2; M1gamma = 7.5\n",
    "    L1alpha = 1.5;  L1beta = 2; L1gamma = 10\n",
    "    S2alpha = 2.5;  S2beta = 2; S2gamma = 8\n",
    "    M2alpha = 1.5;  M2beta = 2; M2gamma = 12\n",
    "    L2alpha = 2.5;  L2beta = 2; L2gamma = 16\n",
    "\n",
    "    # calulate membership\n",
    "    #     X1 in S1, M1, L1\n",
    "    #     X2 in S2, M2, L2\n",
    "    # using generalized bell function\n",
    "    anfis['S1'] = 1 / (1+abs( (anfis['X1']-S1gamma) / S1alpha)**(2*S1beta) )\n",
    "    anfis['M1'] = 1 / (1+abs( (anfis['X1']-M1gamma) / M1alpha)**(2*M1beta) )\n",
    "    anfis['L1'] = 1 / (1+abs( (anfis['X1']-L1gamma) / L1alpha)**(2*L1beta) )\n",
    "    anfis['S2'] = 1 / (1+abs( (anfis['X2']-S2gamma) / S2alpha)**(2*S2beta) )\n",
    "    anfis['M2'] = 1 / (1+abs( (anfis['X2']-M2gamma) / M2alpha)**(2*M2beta) )\n",
    "    anfis['L2'] = 1 / (1+abs( (anfis['X2']-L2gamma) / L2alpha)**(2*L2beta) )\n",
    "    print (anfis)\n",
    "\n",
    "\n",
    "#LAYER 1 experimentation\n",
    "\n",
    "\n",
    "\n",
    "\n",
    "#plot S1, M1, L1\n",
    "#plt.axis([5, 10, 0, 1])\n",
    "#plt.\n",
    "\n",
    "Layer1Phase0\n",
    "anfis"
   ]
  },
  {
   "cell_type": "code",
   "execution_count": null,
   "metadata": {},
   "outputs": [],
   "source": [
    "#LAYER 1 (Phase 1)\n",
    "# set starting values for alpha beta gamma for S1, M1, L1, S2, M2, L2\n",
    "\n",
    "S1alpha = 1.5;  S1beta = 2; S1gamma = 5\n",
    "M1alpha = 1;    M1beta = 2; M1gamma = 7.5\n",
    "L1alpha = 1.5;  L1beta = 2; L1gamma = 10\n",
    "S2alpha = 2.5;  S2beta = 2; S2gamma = 8\n",
    "M2alpha = 1.5;  M2beta = 2; M2gamma = 12\n",
    "L2alpha = 2.5;  L2beta = 2; L2gamma = 16\n",
    "\n",
    "#plot S1, M1, L1\n",
    "#plt.axis([5, 10, 0, 1])\n",
    "#plt.\n",
    "\n",
    "# calulate membership\n",
    "#     X1 in S1, M1, L1\n",
    "#     X2 in S2, M2, L2\n",
    "# using generalized bell function\n",
    "anfis['S1'] = 1 / (1+abs( (anfis['X1']-S1gamma) / S1alpha)**(2*S1beta) )\n",
    "anfis['M1'] = 1 / (1+abs( (anfis['X1']-M1gamma) / M1alpha)**(2*M1beta) )\n",
    "anfis['L1'] = 1 / (1+abs( (anfis['X1']-L1gamma) / L1alpha)**(2*L1beta) )\n",
    "anfis['S2'] = 1 / (1+abs( (anfis['X2']-S2gamma) / S2alpha)**(2*S2beta) )\n",
    "anfis['M2'] = 1 / (1+abs( (anfis['X2']-M2gamma) / M2alpha)**(2*M2beta) )\n",
    "anfis['L2'] = 1 / (1+abs( (anfis['X2']-L2gamma) / L2alpha)**(2*L2beta) )\n",
    "\n",
    "anfis"
   ]
  },
  {
   "cell_type": "code",
   "execution_count": 73,
   "metadata": {},
   "outputs": [
    {
     "output_type": "execute_result",
     "data": {
      "text/plain": [
       "       X1    X2        Y        S1        M1        L1        S2        M2  \\\n",
       "0     5.0   8.0   9.8014  1.000000  0.024961  0.008035  1.000000  0.019392   \n",
       "1     5.0   8.5   8.6765  1.000000  0.024961  0.008035  0.998403  0.032635   \n",
       "2     5.0   9.0   7.5033  1.000000  0.024961  0.008035  0.975039  0.058824   \n",
       "3     5.0   9.5   6.1938  1.000000  0.024961  0.008035  0.885269  0.114731   \n",
       "4     5.0  10.0   5.0918  1.000000  0.024961  0.008035  0.709421  0.240356   \n",
       "..    ...   ...      ...       ...       ...       ...       ...       ...   \n",
       "437  10.0  14.0   7.6936  0.008035  0.024961  1.000000  0.029259  0.240356   \n",
       "438  10.0  14.5   8.3455  0.008035  0.024961  1.000000  0.021414  0.114731   \n",
       "439  10.0  15.0   9.8809  0.008035  0.024961  1.000000  0.016009  0.058824   \n",
       "440  10.0  15.5  10.8375  0.008035  0.024961  1.000000  0.012195  0.032635   \n",
       "441  10.0  16.0  12.2880  0.008035  0.024961  1.000000  0.009447  0.019392   \n",
       "\n",
       "           L2        R1        R2        R3        R4        R5        R6  \\\n",
       "0    0.009447  1.000000  0.019392  0.009447  0.024961  0.000484  0.000236   \n",
       "1    0.012195  0.998403  0.032635  0.012195  0.024921  0.000815  0.000304   \n",
       "2    0.016009  0.975039  0.058824  0.016009  0.024338  0.001468  0.000400   \n",
       "3    0.021414  0.885269  0.114731  0.021414  0.022097  0.002864  0.000535   \n",
       "4    0.029259  0.709421  0.240356  0.029259  0.017708  0.006000  0.000730   \n",
       "..        ...       ...       ...       ...       ...       ...       ...   \n",
       "437  0.709421  0.000235  0.001931  0.005700  0.000730  0.006000  0.017708   \n",
       "438  0.885269  0.000172  0.000922  0.007113  0.000535  0.002864  0.022097   \n",
       "439  0.975039  0.000129  0.000473  0.007834  0.000400  0.001468  0.024338   \n",
       "440  0.998403  0.000098  0.000262  0.008022  0.000304  0.000815  0.024921   \n",
       "441  1.000000  0.000076  0.000156  0.008035  0.000236  0.000484  0.024961   \n",
       "\n",
       "           R7        R8        R9  \n",
       "0    0.008035  0.000156  0.000076  \n",
       "1    0.008022  0.000262  0.000098  \n",
       "2    0.007834  0.000473  0.000129  \n",
       "3    0.007113  0.000922  0.000172  \n",
       "4    0.005700  0.001931  0.000235  \n",
       "..        ...       ...       ...  \n",
       "437  0.029259  0.240356  0.709421  \n",
       "438  0.021414  0.114731  0.885269  \n",
       "439  0.016009  0.058824  0.975039  \n",
       "440  0.012195  0.032635  0.998403  \n",
       "441  0.009447  0.019392  1.000000  \n",
       "\n",
       "[442 rows x 18 columns]"
      ],
      "text/html": "<div>\n<style scoped>\n    .dataframe tbody tr th:only-of-type {\n        vertical-align: middle;\n    }\n\n    .dataframe tbody tr th {\n        vertical-align: top;\n    }\n\n    .dataframe thead th {\n        text-align: right;\n    }\n</style>\n<table border=\"1\" class=\"dataframe\">\n  <thead>\n    <tr style=\"text-align: right;\">\n      <th></th>\n      <th>X1</th>\n      <th>X2</th>\n      <th>Y</th>\n      <th>S1</th>\n      <th>M1</th>\n      <th>L1</th>\n      <th>S2</th>\n      <th>M2</th>\n      <th>L2</th>\n      <th>R1</th>\n      <th>R2</th>\n      <th>R3</th>\n      <th>R4</th>\n      <th>R5</th>\n      <th>R6</th>\n      <th>R7</th>\n      <th>R8</th>\n      <th>R9</th>\n    </tr>\n  </thead>\n  <tbody>\n    <tr>\n      <th>0</th>\n      <td>5.0</td>\n      <td>8.0</td>\n      <td>9.8014</td>\n      <td>1.000000</td>\n      <td>0.024961</td>\n      <td>0.008035</td>\n      <td>1.000000</td>\n      <td>0.019392</td>\n      <td>0.009447</td>\n      <td>1.000000</td>\n      <td>0.019392</td>\n      <td>0.009447</td>\n      <td>0.024961</td>\n      <td>0.000484</td>\n      <td>0.000236</td>\n      <td>0.008035</td>\n      <td>0.000156</td>\n      <td>0.000076</td>\n    </tr>\n    <tr>\n      <th>1</th>\n      <td>5.0</td>\n      <td>8.5</td>\n      <td>8.6765</td>\n      <td>1.000000</td>\n      <td>0.024961</td>\n      <td>0.008035</td>\n      <td>0.998403</td>\n      <td>0.032635</td>\n      <td>0.012195</td>\n      <td>0.998403</td>\n      <td>0.032635</td>\n      <td>0.012195</td>\n      <td>0.024921</td>\n      <td>0.000815</td>\n      <td>0.000304</td>\n      <td>0.008022</td>\n      <td>0.000262</td>\n      <td>0.000098</td>\n    </tr>\n    <tr>\n      <th>2</th>\n      <td>5.0</td>\n      <td>9.0</td>\n      <td>7.5033</td>\n      <td>1.000000</td>\n      <td>0.024961</td>\n      <td>0.008035</td>\n      <td>0.975039</td>\n      <td>0.058824</td>\n      <td>0.016009</td>\n      <td>0.975039</td>\n      <td>0.058824</td>\n      <td>0.016009</td>\n      <td>0.024338</td>\n      <td>0.001468</td>\n      <td>0.000400</td>\n      <td>0.007834</td>\n      <td>0.000473</td>\n      <td>0.000129</td>\n    </tr>\n    <tr>\n      <th>3</th>\n      <td>5.0</td>\n      <td>9.5</td>\n      <td>6.1938</td>\n      <td>1.000000</td>\n      <td>0.024961</td>\n      <td>0.008035</td>\n      <td>0.885269</td>\n      <td>0.114731</td>\n      <td>0.021414</td>\n      <td>0.885269</td>\n      <td>0.114731</td>\n      <td>0.021414</td>\n      <td>0.022097</td>\n      <td>0.002864</td>\n      <td>0.000535</td>\n      <td>0.007113</td>\n      <td>0.000922</td>\n      <td>0.000172</td>\n    </tr>\n    <tr>\n      <th>4</th>\n      <td>5.0</td>\n      <td>10.0</td>\n      <td>5.0918</td>\n      <td>1.000000</td>\n      <td>0.024961</td>\n      <td>0.008035</td>\n      <td>0.709421</td>\n      <td>0.240356</td>\n      <td>0.029259</td>\n      <td>0.709421</td>\n      <td>0.240356</td>\n      <td>0.029259</td>\n      <td>0.017708</td>\n      <td>0.006000</td>\n      <td>0.000730</td>\n      <td>0.005700</td>\n      <td>0.001931</td>\n      <td>0.000235</td>\n    </tr>\n    <tr>\n      <th>...</th>\n      <td>...</td>\n      <td>...</td>\n      <td>...</td>\n      <td>...</td>\n      <td>...</td>\n      <td>...</td>\n      <td>...</td>\n      <td>...</td>\n      <td>...</td>\n      <td>...</td>\n      <td>...</td>\n      <td>...</td>\n      <td>...</td>\n      <td>...</td>\n      <td>...</td>\n      <td>...</td>\n      <td>...</td>\n      <td>...</td>\n    </tr>\n    <tr>\n      <th>437</th>\n      <td>10.0</td>\n      <td>14.0</td>\n      <td>7.6936</td>\n      <td>0.008035</td>\n      <td>0.024961</td>\n      <td>1.000000</td>\n      <td>0.029259</td>\n      <td>0.240356</td>\n      <td>0.709421</td>\n      <td>0.000235</td>\n      <td>0.001931</td>\n      <td>0.005700</td>\n      <td>0.000730</td>\n      <td>0.006000</td>\n      <td>0.017708</td>\n      <td>0.029259</td>\n      <td>0.240356</td>\n      <td>0.709421</td>\n    </tr>\n    <tr>\n      <th>438</th>\n      <td>10.0</td>\n      <td>14.5</td>\n      <td>8.3455</td>\n      <td>0.008035</td>\n      <td>0.024961</td>\n      <td>1.000000</td>\n      <td>0.021414</td>\n      <td>0.114731</td>\n      <td>0.885269</td>\n      <td>0.000172</td>\n      <td>0.000922</td>\n      <td>0.007113</td>\n      <td>0.000535</td>\n      <td>0.002864</td>\n      <td>0.022097</td>\n      <td>0.021414</td>\n      <td>0.114731</td>\n      <td>0.885269</td>\n    </tr>\n    <tr>\n      <th>439</th>\n      <td>10.0</td>\n      <td>15.0</td>\n      <td>9.8809</td>\n      <td>0.008035</td>\n      <td>0.024961</td>\n      <td>1.000000</td>\n      <td>0.016009</td>\n      <td>0.058824</td>\n      <td>0.975039</td>\n      <td>0.000129</td>\n      <td>0.000473</td>\n      <td>0.007834</td>\n      <td>0.000400</td>\n      <td>0.001468</td>\n      <td>0.024338</td>\n      <td>0.016009</td>\n      <td>0.058824</td>\n      <td>0.975039</td>\n    </tr>\n    <tr>\n      <th>440</th>\n      <td>10.0</td>\n      <td>15.5</td>\n      <td>10.8375</td>\n      <td>0.008035</td>\n      <td>0.024961</td>\n      <td>1.000000</td>\n      <td>0.012195</td>\n      <td>0.032635</td>\n      <td>0.998403</td>\n      <td>0.000098</td>\n      <td>0.000262</td>\n      <td>0.008022</td>\n      <td>0.000304</td>\n      <td>0.000815</td>\n      <td>0.024921</td>\n      <td>0.012195</td>\n      <td>0.032635</td>\n      <td>0.998403</td>\n    </tr>\n    <tr>\n      <th>441</th>\n      <td>10.0</td>\n      <td>16.0</td>\n      <td>12.2880</td>\n      <td>0.008035</td>\n      <td>0.024961</td>\n      <td>1.000000</td>\n      <td>0.009447</td>\n      <td>0.019392</td>\n      <td>1.000000</td>\n      <td>0.000076</td>\n      <td>0.000156</td>\n      <td>0.008035</td>\n      <td>0.000236</td>\n      <td>0.000484</td>\n      <td>0.024961</td>\n      <td>0.009447</td>\n      <td>0.019392</td>\n      <td>1.000000</td>\n    </tr>\n  </tbody>\n</table>\n<p>442 rows × 18 columns</p>\n</div>"
     },
     "metadata": {},
     "execution_count": 73
    }
   ],
   "source": [
    "#LAYER 2\n",
    "#calculate rule weights\n",
    "#rule activation = cartesian product of (S1, M1, L1) X (S2, M2, L2)\n",
    "# R1-R9 = raw rule activation\n",
    "\n",
    "anfis['R1'] = anfis['S1'] * anfis['S2'] # antecedent = when x1 is Small and x2 is Small...\n",
    "anfis['R2'] = anfis['S1'] * anfis['M2']\n",
    "anfis['R3'] = anfis['S1'] * anfis['L2']\n",
    "anfis['R4'] = anfis['M1'] * anfis['S2']\n",
    "anfis['R5'] = anfis['M1'] * anfis['M2']\n",
    "anfis['R6'] = anfis['M1'] * anfis['L2']\n",
    "anfis['R7'] = anfis['L1'] * anfis['S2']\n",
    "anfis['R8'] = anfis['L1'] * anfis['M2']\n",
    "anfis['R9'] = anfis['L1'] * anfis['L2']\n",
    "\n",
    "anfis"
   ]
  },
  {
   "cell_type": "code",
   "execution_count": 74,
   "metadata": {},
   "outputs": [
    {
     "output_type": "execute_result",
     "data": {
      "text/plain": [
       "       X1    X2        Y        S1        M1        L1        S2        M2  \\\n",
       "0     5.0   8.0   9.8014  1.000000  0.024961  0.008035  1.000000  0.019392   \n",
       "1     5.0   8.5   8.6765  1.000000  0.024961  0.008035  0.998403  0.032635   \n",
       "2     5.0   9.0   7.5033  1.000000  0.024961  0.008035  0.975039  0.058824   \n",
       "3     5.0   9.5   6.1938  1.000000  0.024961  0.008035  0.885269  0.114731   \n",
       "4     5.0  10.0   5.0918  1.000000  0.024961  0.008035  0.709421  0.240356   \n",
       "..    ...   ...      ...       ...       ...       ...       ...       ...   \n",
       "437  10.0  14.0   7.6936  0.008035  0.024961  1.000000  0.029259  0.240356   \n",
       "438  10.0  14.5   8.3455  0.008035  0.024961  1.000000  0.021414  0.114731   \n",
       "439  10.0  15.0   9.8809  0.008035  0.024961  1.000000  0.016009  0.058824   \n",
       "440  10.0  15.5  10.8375  0.008035  0.024961  1.000000  0.012195  0.032635   \n",
       "441  10.0  16.0  12.2880  0.008035  0.024961  1.000000  0.009447  0.019392   \n",
       "\n",
       "           L2        R1        R2        R3        R4        R5        R6  \\\n",
       "0    0.009447  1.000000  0.019392  0.009447  0.024961  0.000484  0.000236   \n",
       "1    0.012195  0.998403  0.032635  0.012195  0.024921  0.000815  0.000304   \n",
       "2    0.016009  0.975039  0.058824  0.016009  0.024338  0.001468  0.000400   \n",
       "3    0.021414  0.885269  0.114731  0.021414  0.022097  0.002864  0.000535   \n",
       "4    0.029259  0.709421  0.240356  0.029259  0.017708  0.006000  0.000730   \n",
       "..        ...       ...       ...       ...       ...       ...       ...   \n",
       "437  0.709421  0.000235  0.001931  0.005700  0.000730  0.006000  0.017708   \n",
       "438  0.885269  0.000172  0.000922  0.007113  0.000535  0.002864  0.022097   \n",
       "439  0.975039  0.000129  0.000473  0.007834  0.000400  0.001468  0.024338   \n",
       "440  0.998403  0.000098  0.000262  0.008022  0.000304  0.000815  0.024921   \n",
       "441  1.000000  0.000076  0.000156  0.008035  0.000236  0.000484  0.024961   \n",
       "\n",
       "           R7        R8        R9  RULE_SUM  \n",
       "0    0.008035  0.000156  0.000076  1.062786  \n",
       "1    0.008022  0.000262  0.000098  1.077655  \n",
       "2    0.007834  0.000473  0.000129  1.084513  \n",
       "3    0.007113  0.000922  0.000172  1.055117  \n",
       "4    0.005700  0.001931  0.000235  1.011340  \n",
       "..        ...       ...       ...       ...  \n",
       "437  0.029259  0.240356  0.709421  1.011340  \n",
       "438  0.021414  0.114731  0.885269  1.055117  \n",
       "439  0.016009  0.058824  0.975039  1.084513  \n",
       "440  0.012195  0.032635  0.998403  1.077655  \n",
       "441  0.009447  0.019392  1.000000  1.062786  \n",
       "\n",
       "[442 rows x 19 columns]"
      ],
      "text/html": "<div>\n<style scoped>\n    .dataframe tbody tr th:only-of-type {\n        vertical-align: middle;\n    }\n\n    .dataframe tbody tr th {\n        vertical-align: top;\n    }\n\n    .dataframe thead th {\n        text-align: right;\n    }\n</style>\n<table border=\"1\" class=\"dataframe\">\n  <thead>\n    <tr style=\"text-align: right;\">\n      <th></th>\n      <th>X1</th>\n      <th>X2</th>\n      <th>Y</th>\n      <th>S1</th>\n      <th>M1</th>\n      <th>L1</th>\n      <th>S2</th>\n      <th>M2</th>\n      <th>L2</th>\n      <th>R1</th>\n      <th>R2</th>\n      <th>R3</th>\n      <th>R4</th>\n      <th>R5</th>\n      <th>R6</th>\n      <th>R7</th>\n      <th>R8</th>\n      <th>R9</th>\n      <th>RULE_SUM</th>\n    </tr>\n  </thead>\n  <tbody>\n    <tr>\n      <th>0</th>\n      <td>5.0</td>\n      <td>8.0</td>\n      <td>9.8014</td>\n      <td>1.000000</td>\n      <td>0.024961</td>\n      <td>0.008035</td>\n      <td>1.000000</td>\n      <td>0.019392</td>\n      <td>0.009447</td>\n      <td>1.000000</td>\n      <td>0.019392</td>\n      <td>0.009447</td>\n      <td>0.024961</td>\n      <td>0.000484</td>\n      <td>0.000236</td>\n      <td>0.008035</td>\n      <td>0.000156</td>\n      <td>0.000076</td>\n      <td>1.062786</td>\n    </tr>\n    <tr>\n      <th>1</th>\n      <td>5.0</td>\n      <td>8.5</td>\n      <td>8.6765</td>\n      <td>1.000000</td>\n      <td>0.024961</td>\n      <td>0.008035</td>\n      <td>0.998403</td>\n      <td>0.032635</td>\n      <td>0.012195</td>\n      <td>0.998403</td>\n      <td>0.032635</td>\n      <td>0.012195</td>\n      <td>0.024921</td>\n      <td>0.000815</td>\n      <td>0.000304</td>\n      <td>0.008022</td>\n      <td>0.000262</td>\n      <td>0.000098</td>\n      <td>1.077655</td>\n    </tr>\n    <tr>\n      <th>2</th>\n      <td>5.0</td>\n      <td>9.0</td>\n      <td>7.5033</td>\n      <td>1.000000</td>\n      <td>0.024961</td>\n      <td>0.008035</td>\n      <td>0.975039</td>\n      <td>0.058824</td>\n      <td>0.016009</td>\n      <td>0.975039</td>\n      <td>0.058824</td>\n      <td>0.016009</td>\n      <td>0.024338</td>\n      <td>0.001468</td>\n      <td>0.000400</td>\n      <td>0.007834</td>\n      <td>0.000473</td>\n      <td>0.000129</td>\n      <td>1.084513</td>\n    </tr>\n    <tr>\n      <th>3</th>\n      <td>5.0</td>\n      <td>9.5</td>\n      <td>6.1938</td>\n      <td>1.000000</td>\n      <td>0.024961</td>\n      <td>0.008035</td>\n      <td>0.885269</td>\n      <td>0.114731</td>\n      <td>0.021414</td>\n      <td>0.885269</td>\n      <td>0.114731</td>\n      <td>0.021414</td>\n      <td>0.022097</td>\n      <td>0.002864</td>\n      <td>0.000535</td>\n      <td>0.007113</td>\n      <td>0.000922</td>\n      <td>0.000172</td>\n      <td>1.055117</td>\n    </tr>\n    <tr>\n      <th>4</th>\n      <td>5.0</td>\n      <td>10.0</td>\n      <td>5.0918</td>\n      <td>1.000000</td>\n      <td>0.024961</td>\n      <td>0.008035</td>\n      <td>0.709421</td>\n      <td>0.240356</td>\n      <td>0.029259</td>\n      <td>0.709421</td>\n      <td>0.240356</td>\n      <td>0.029259</td>\n      <td>0.017708</td>\n      <td>0.006000</td>\n      <td>0.000730</td>\n      <td>0.005700</td>\n      <td>0.001931</td>\n      <td>0.000235</td>\n      <td>1.011340</td>\n    </tr>\n    <tr>\n      <th>...</th>\n      <td>...</td>\n      <td>...</td>\n      <td>...</td>\n      <td>...</td>\n      <td>...</td>\n      <td>...</td>\n      <td>...</td>\n      <td>...</td>\n      <td>...</td>\n      <td>...</td>\n      <td>...</td>\n      <td>...</td>\n      <td>...</td>\n      <td>...</td>\n      <td>...</td>\n      <td>...</td>\n      <td>...</td>\n      <td>...</td>\n      <td>...</td>\n    </tr>\n    <tr>\n      <th>437</th>\n      <td>10.0</td>\n      <td>14.0</td>\n      <td>7.6936</td>\n      <td>0.008035</td>\n      <td>0.024961</td>\n      <td>1.000000</td>\n      <td>0.029259</td>\n      <td>0.240356</td>\n      <td>0.709421</td>\n      <td>0.000235</td>\n      <td>0.001931</td>\n      <td>0.005700</td>\n      <td>0.000730</td>\n      <td>0.006000</td>\n      <td>0.017708</td>\n      <td>0.029259</td>\n      <td>0.240356</td>\n      <td>0.709421</td>\n      <td>1.011340</td>\n    </tr>\n    <tr>\n      <th>438</th>\n      <td>10.0</td>\n      <td>14.5</td>\n      <td>8.3455</td>\n      <td>0.008035</td>\n      <td>0.024961</td>\n      <td>1.000000</td>\n      <td>0.021414</td>\n      <td>0.114731</td>\n      <td>0.885269</td>\n      <td>0.000172</td>\n      <td>0.000922</td>\n      <td>0.007113</td>\n      <td>0.000535</td>\n      <td>0.002864</td>\n      <td>0.022097</td>\n      <td>0.021414</td>\n      <td>0.114731</td>\n      <td>0.885269</td>\n      <td>1.055117</td>\n    </tr>\n    <tr>\n      <th>439</th>\n      <td>10.0</td>\n      <td>15.0</td>\n      <td>9.8809</td>\n      <td>0.008035</td>\n      <td>0.024961</td>\n      <td>1.000000</td>\n      <td>0.016009</td>\n      <td>0.058824</td>\n      <td>0.975039</td>\n      <td>0.000129</td>\n      <td>0.000473</td>\n      <td>0.007834</td>\n      <td>0.000400</td>\n      <td>0.001468</td>\n      <td>0.024338</td>\n      <td>0.016009</td>\n      <td>0.058824</td>\n      <td>0.975039</td>\n      <td>1.084513</td>\n    </tr>\n    <tr>\n      <th>440</th>\n      <td>10.0</td>\n      <td>15.5</td>\n      <td>10.8375</td>\n      <td>0.008035</td>\n      <td>0.024961</td>\n      <td>1.000000</td>\n      <td>0.012195</td>\n      <td>0.032635</td>\n      <td>0.998403</td>\n      <td>0.000098</td>\n      <td>0.000262</td>\n      <td>0.008022</td>\n      <td>0.000304</td>\n      <td>0.000815</td>\n      <td>0.024921</td>\n      <td>0.012195</td>\n      <td>0.032635</td>\n      <td>0.998403</td>\n      <td>1.077655</td>\n    </tr>\n    <tr>\n      <th>441</th>\n      <td>10.0</td>\n      <td>16.0</td>\n      <td>12.2880</td>\n      <td>0.008035</td>\n      <td>0.024961</td>\n      <td>1.000000</td>\n      <td>0.009447</td>\n      <td>0.019392</td>\n      <td>1.000000</td>\n      <td>0.000076</td>\n      <td>0.000156</td>\n      <td>0.008035</td>\n      <td>0.000236</td>\n      <td>0.000484</td>\n      <td>0.024961</td>\n      <td>0.009447</td>\n      <td>0.019392</td>\n      <td>1.000000</td>\n      <td>1.062786</td>\n    </tr>\n  </tbody>\n</table>\n<p>442 rows × 19 columns</p>\n</div>"
     },
     "metadata": {},
     "execution_count": 74
    }
   ],
   "source": [
    "#LAYER 3\n",
    "# sum all Rule activations\n",
    "anfis['RULE_SUM'] = anfis['R1'] + anfis['R2'] + anfis['R3'] + anfis['R4'] + anfis['R5'] + anfis['R6'] + anfis['R7'] + anfis['R8'] + anfis['R9']\n",
    "\n",
    "anfis"
   ]
  },
  {
   "cell_type": "code",
   "execution_count": 75,
   "metadata": {},
   "outputs": [
    {
     "output_type": "execute_result",
     "data": {
      "text/plain": [
       "       X1    X2        Y        S1        M1        L1        S2        M2  \\\n",
       "0     5.0   8.0   9.8014  1.000000  0.024961  0.008035  1.000000  0.019392   \n",
       "1     5.0   8.5   8.6765  1.000000  0.024961  0.008035  0.998403  0.032635   \n",
       "2     5.0   9.0   7.5033  1.000000  0.024961  0.008035  0.975039  0.058824   \n",
       "3     5.0   9.5   6.1938  1.000000  0.024961  0.008035  0.885269  0.114731   \n",
       "4     5.0  10.0   5.0918  1.000000  0.024961  0.008035  0.709421  0.240356   \n",
       "..    ...   ...      ...       ...       ...       ...       ...       ...   \n",
       "437  10.0  14.0   7.6936  0.008035  0.024961  1.000000  0.029259  0.240356   \n",
       "438  10.0  14.5   8.3455  0.008035  0.024961  1.000000  0.021414  0.114731   \n",
       "439  10.0  15.0   9.8809  0.008035  0.024961  1.000000  0.016009  0.058824   \n",
       "440  10.0  15.5  10.8375  0.008035  0.024961  1.000000  0.012195  0.032635   \n",
       "441  10.0  16.0  12.2880  0.008035  0.024961  1.000000  0.009447  0.019392   \n",
       "\n",
       "           L2        R1  ...  RULE_SUM        N1        N2        N3  \\\n",
       "0    0.009447  1.000000  ...  1.062786  0.940923  0.018246  0.008889   \n",
       "1    0.012195  0.998403  ...  1.077655  0.926458  0.030283  0.011316   \n",
       "2    0.016009  0.975039  ...  1.084513  0.899057  0.054240  0.014761   \n",
       "3    0.021414  0.885269  ...  1.055117  0.839025  0.108738  0.020296   \n",
       "4    0.029259  0.709421  ...  1.011340  0.701466  0.237661  0.028931   \n",
       "..        ...       ...  ...       ...       ...       ...       ...   \n",
       "437  0.709421  0.000235  ...  1.011340  0.000232  0.001910  0.005636   \n",
       "438  0.885269  0.000172  ...  1.055117  0.000163  0.000874  0.006741   \n",
       "439  0.975039  0.000129  ...  1.084513  0.000119  0.000436  0.007224   \n",
       "440  0.998403  0.000098  ...  1.077655  0.000091  0.000243  0.007444   \n",
       "441  1.000000  0.000076  ...  1.062786  0.000071  0.000147  0.007560   \n",
       "\n",
       "           N4        N5        N6        N7        N8        N9  \n",
       "0    0.023486  0.000455  0.000222  0.007560  0.000147  0.000071  \n",
       "1    0.023125  0.000756  0.000282  0.007444  0.000243  0.000091  \n",
       "2    0.022441  0.001354  0.000368  0.007224  0.000436  0.000119  \n",
       "3    0.020943  0.002714  0.000507  0.006741  0.000874  0.000163  \n",
       "4    0.017509  0.005932  0.000722  0.005636  0.001910  0.000232  \n",
       "..        ...       ...       ...       ...       ...       ...  \n",
       "437  0.000722  0.005932  0.017509  0.028931  0.237661  0.701466  \n",
       "438  0.000507  0.002714  0.020943  0.020296  0.108738  0.839025  \n",
       "439  0.000368  0.001354  0.022441  0.014761  0.054240  0.899057  \n",
       "440  0.000282  0.000756  0.023125  0.011316  0.030283  0.926458  \n",
       "441  0.000222  0.000455  0.023486  0.008889  0.018246  0.940923  \n",
       "\n",
       "[442 rows x 28 columns]"
      ],
      "text/html": "<div>\n<style scoped>\n    .dataframe tbody tr th:only-of-type {\n        vertical-align: middle;\n    }\n\n    .dataframe tbody tr th {\n        vertical-align: top;\n    }\n\n    .dataframe thead th {\n        text-align: right;\n    }\n</style>\n<table border=\"1\" class=\"dataframe\">\n  <thead>\n    <tr style=\"text-align: right;\">\n      <th></th>\n      <th>X1</th>\n      <th>X2</th>\n      <th>Y</th>\n      <th>S1</th>\n      <th>M1</th>\n      <th>L1</th>\n      <th>S2</th>\n      <th>M2</th>\n      <th>L2</th>\n      <th>R1</th>\n      <th>...</th>\n      <th>RULE_SUM</th>\n      <th>N1</th>\n      <th>N2</th>\n      <th>N3</th>\n      <th>N4</th>\n      <th>N5</th>\n      <th>N6</th>\n      <th>N7</th>\n      <th>N8</th>\n      <th>N9</th>\n    </tr>\n  </thead>\n  <tbody>\n    <tr>\n      <th>0</th>\n      <td>5.0</td>\n      <td>8.0</td>\n      <td>9.8014</td>\n      <td>1.000000</td>\n      <td>0.024961</td>\n      <td>0.008035</td>\n      <td>1.000000</td>\n      <td>0.019392</td>\n      <td>0.009447</td>\n      <td>1.000000</td>\n      <td>...</td>\n      <td>1.062786</td>\n      <td>0.940923</td>\n      <td>0.018246</td>\n      <td>0.008889</td>\n      <td>0.023486</td>\n      <td>0.000455</td>\n      <td>0.000222</td>\n      <td>0.007560</td>\n      <td>0.000147</td>\n      <td>0.000071</td>\n    </tr>\n    <tr>\n      <th>1</th>\n      <td>5.0</td>\n      <td>8.5</td>\n      <td>8.6765</td>\n      <td>1.000000</td>\n      <td>0.024961</td>\n      <td>0.008035</td>\n      <td>0.998403</td>\n      <td>0.032635</td>\n      <td>0.012195</td>\n      <td>0.998403</td>\n      <td>...</td>\n      <td>1.077655</td>\n      <td>0.926458</td>\n      <td>0.030283</td>\n      <td>0.011316</td>\n      <td>0.023125</td>\n      <td>0.000756</td>\n      <td>0.000282</td>\n      <td>0.007444</td>\n      <td>0.000243</td>\n      <td>0.000091</td>\n    </tr>\n    <tr>\n      <th>2</th>\n      <td>5.0</td>\n      <td>9.0</td>\n      <td>7.5033</td>\n      <td>1.000000</td>\n      <td>0.024961</td>\n      <td>0.008035</td>\n      <td>0.975039</td>\n      <td>0.058824</td>\n      <td>0.016009</td>\n      <td>0.975039</td>\n      <td>...</td>\n      <td>1.084513</td>\n      <td>0.899057</td>\n      <td>0.054240</td>\n      <td>0.014761</td>\n      <td>0.022441</td>\n      <td>0.001354</td>\n      <td>0.000368</td>\n      <td>0.007224</td>\n      <td>0.000436</td>\n      <td>0.000119</td>\n    </tr>\n    <tr>\n      <th>3</th>\n      <td>5.0</td>\n      <td>9.5</td>\n      <td>6.1938</td>\n      <td>1.000000</td>\n      <td>0.024961</td>\n      <td>0.008035</td>\n      <td>0.885269</td>\n      <td>0.114731</td>\n      <td>0.021414</td>\n      <td>0.885269</td>\n      <td>...</td>\n      <td>1.055117</td>\n      <td>0.839025</td>\n      <td>0.108738</td>\n      <td>0.020296</td>\n      <td>0.020943</td>\n      <td>0.002714</td>\n      <td>0.000507</td>\n      <td>0.006741</td>\n      <td>0.000874</td>\n      <td>0.000163</td>\n    </tr>\n    <tr>\n      <th>4</th>\n      <td>5.0</td>\n      <td>10.0</td>\n      <td>5.0918</td>\n      <td>1.000000</td>\n      <td>0.024961</td>\n      <td>0.008035</td>\n      <td>0.709421</td>\n      <td>0.240356</td>\n      <td>0.029259</td>\n      <td>0.709421</td>\n      <td>...</td>\n      <td>1.011340</td>\n      <td>0.701466</td>\n      <td>0.237661</td>\n      <td>0.028931</td>\n      <td>0.017509</td>\n      <td>0.005932</td>\n      <td>0.000722</td>\n      <td>0.005636</td>\n      <td>0.001910</td>\n      <td>0.000232</td>\n    </tr>\n    <tr>\n      <th>...</th>\n      <td>...</td>\n      <td>...</td>\n      <td>...</td>\n      <td>...</td>\n      <td>...</td>\n      <td>...</td>\n      <td>...</td>\n      <td>...</td>\n      <td>...</td>\n      <td>...</td>\n      <td>...</td>\n      <td>...</td>\n      <td>...</td>\n      <td>...</td>\n      <td>...</td>\n      <td>...</td>\n      <td>...</td>\n      <td>...</td>\n      <td>...</td>\n      <td>...</td>\n      <td>...</td>\n    </tr>\n    <tr>\n      <th>437</th>\n      <td>10.0</td>\n      <td>14.0</td>\n      <td>7.6936</td>\n      <td>0.008035</td>\n      <td>0.024961</td>\n      <td>1.000000</td>\n      <td>0.029259</td>\n      <td>0.240356</td>\n      <td>0.709421</td>\n      <td>0.000235</td>\n      <td>...</td>\n      <td>1.011340</td>\n      <td>0.000232</td>\n      <td>0.001910</td>\n      <td>0.005636</td>\n      <td>0.000722</td>\n      <td>0.005932</td>\n      <td>0.017509</td>\n      <td>0.028931</td>\n      <td>0.237661</td>\n      <td>0.701466</td>\n    </tr>\n    <tr>\n      <th>438</th>\n      <td>10.0</td>\n      <td>14.5</td>\n      <td>8.3455</td>\n      <td>0.008035</td>\n      <td>0.024961</td>\n      <td>1.000000</td>\n      <td>0.021414</td>\n      <td>0.114731</td>\n      <td>0.885269</td>\n      <td>0.000172</td>\n      <td>...</td>\n      <td>1.055117</td>\n      <td>0.000163</td>\n      <td>0.000874</td>\n      <td>0.006741</td>\n      <td>0.000507</td>\n      <td>0.002714</td>\n      <td>0.020943</td>\n      <td>0.020296</td>\n      <td>0.108738</td>\n      <td>0.839025</td>\n    </tr>\n    <tr>\n      <th>439</th>\n      <td>10.0</td>\n      <td>15.0</td>\n      <td>9.8809</td>\n      <td>0.008035</td>\n      <td>0.024961</td>\n      <td>1.000000</td>\n      <td>0.016009</td>\n      <td>0.058824</td>\n      <td>0.975039</td>\n      <td>0.000129</td>\n      <td>...</td>\n      <td>1.084513</td>\n      <td>0.000119</td>\n      <td>0.000436</td>\n      <td>0.007224</td>\n      <td>0.000368</td>\n      <td>0.001354</td>\n      <td>0.022441</td>\n      <td>0.014761</td>\n      <td>0.054240</td>\n      <td>0.899057</td>\n    </tr>\n    <tr>\n      <th>440</th>\n      <td>10.0</td>\n      <td>15.5</td>\n      <td>10.8375</td>\n      <td>0.008035</td>\n      <td>0.024961</td>\n      <td>1.000000</td>\n      <td>0.012195</td>\n      <td>0.032635</td>\n      <td>0.998403</td>\n      <td>0.000098</td>\n      <td>...</td>\n      <td>1.077655</td>\n      <td>0.000091</td>\n      <td>0.000243</td>\n      <td>0.007444</td>\n      <td>0.000282</td>\n      <td>0.000756</td>\n      <td>0.023125</td>\n      <td>0.011316</td>\n      <td>0.030283</td>\n      <td>0.926458</td>\n    </tr>\n    <tr>\n      <th>441</th>\n      <td>10.0</td>\n      <td>16.0</td>\n      <td>12.2880</td>\n      <td>0.008035</td>\n      <td>0.024961</td>\n      <td>1.000000</td>\n      <td>0.009447</td>\n      <td>0.019392</td>\n      <td>1.000000</td>\n      <td>0.000076</td>\n      <td>...</td>\n      <td>1.062786</td>\n      <td>0.000071</td>\n      <td>0.000147</td>\n      <td>0.007560</td>\n      <td>0.000222</td>\n      <td>0.000455</td>\n      <td>0.023486</td>\n      <td>0.008889</td>\n      <td>0.018246</td>\n      <td>0.940923</td>\n    </tr>\n  </tbody>\n</table>\n<p>442 rows × 28 columns</p>\n</div>"
     },
     "metadata": {},
     "execution_count": 75
    }
   ],
   "source": [
    "#LAYER 4\n",
    "# normalize rule weights\n",
    "# Divide rule weight (R1...R9) by summation of all rule weights (R1 + R2 + ... R9)\n",
    "# N1-N9 = normalized rule weights\n",
    "\n",
    "anfis['N1'] = anfis['R1'] / anfis['RULE_SUM']\n",
    "anfis['N2'] = anfis['R2'] / anfis['RULE_SUM']\n",
    "anfis['N3'] = anfis['R3'] / anfis['RULE_SUM']\n",
    "anfis['N4'] = anfis['R4'] / anfis['RULE_SUM']\n",
    "anfis['N5'] = anfis['R5'] / anfis['RULE_SUM']\n",
    "anfis['N6'] = anfis['R6'] / anfis['RULE_SUM']\n",
    "anfis['N7'] = anfis['R7'] / anfis['RULE_SUM']\n",
    "anfis['N8'] = anfis['R8'] / anfis['RULE_SUM']\n",
    "anfis['N9'] = anfis['R9'] / anfis['RULE_SUM']\n",
    "anfis\n"
   ]
  },
  {
   "cell_type": "code",
   "execution_count": 76,
   "metadata": {},
   "outputs": [],
   "source": [
    "#LAYER 5 (Phase 0)\n",
    "\n",
    "#intial C0, C1, C2 for rules 1-9\n",
    "R1C0 = 29;      R1C1 = -1.2;    R1C2 = -2.4\n",
    "R2C0 = 6.4;     R2C1 = -1.4;    R2C2 = .35\n",
    "R3C0 = -15;     R3C1 = -1.2;    R3C2 = 1.9\n",
    "R4C0 = 22;      R4C1 = .6;      R4C2 = -2.4\n",
    "R5C0 = -7.2;    R5C1 = .7;      R5C2 = .3\n",
    "R6C0 = -24.5;   R6C1 = .6;      R6C2 = 1.7\n",
    "R7C0 = 9;       R7C1 = 1.4;     R7C2 = -1.7\n",
    "R8C0 = -12.1;   R8C1 = 1.6;     R8C2 = .1\n",
    "R9C0 = -46.5;   R9C1 = 1.9;     R9C2 = 2.5\n",
    "\n",
    "# F1 = N1 X (C0 + C1*X1 + C2*X2)\n",
    "# F1 - F9 = function activations\n",
    "anfis['F1'] = anfis['N1'] * ( R1C0 + R1C1 * anfis['X1'] + R1C2 * anfis['X2'])\n",
    "anfis['F2'] = anfis['N2'] * ( R2C0 + R2C1 * anfis['X1'] + R2C2 * anfis['X2'])\n",
    "anfis['F3'] = anfis['N3'] * ( R3C0 + R3C1 * anfis['X1'] + R3C2 * anfis['X2'])\n",
    "anfis['F4'] = anfis['N4'] * ( R4C0 + R4C1 * anfis['X1'] + R4C2 * anfis['X2'])\n",
    "anfis['F5'] = anfis['N5'] * ( R5C0 + R5C1 * anfis['X1'] + R5C2 * anfis['X2'])\n",
    "anfis['F6'] = anfis['N6'] * ( R6C0 + R6C1 * anfis['X1'] + R6C2 * anfis['X2'])\n",
    "anfis['F7'] = anfis['N7'] * ( R7C0 + R7C1 * anfis['X1'] + R7C2 * anfis['X2'])\n",
    "anfis['F8'] = anfis['N8'] * ( R8C0 + R8C1 * anfis['X1'] + R8C2 * anfis['X2'])\n",
    "anfis['F9'] = anfis['N9'] * ( R9C0 + R9C1 * anfis['X1'] + R9C2 * anfis['X2'])\n",
    "\n"
   ]
  },
  {
   "cell_type": "code",
   "execution_count": 77,
   "metadata": {},
   "outputs": [
    {
     "output_type": "execute_result",
     "data": {
      "text/plain": [
       "       X1    X2        Y        S1        M1        L1        S2        M2  \\\n",
       "0     5.0   8.0   9.8014  1.000000  0.024961  0.008035  1.000000  0.019392   \n",
       "1     5.0   8.5   8.6765  1.000000  0.024961  0.008035  0.998403  0.032635   \n",
       "2     5.0   9.0   7.5033  1.000000  0.024961  0.008035  0.975039  0.058824   \n",
       "3     5.0   9.5   6.1938  1.000000  0.024961  0.008035  0.885269  0.114731   \n",
       "4     5.0  10.0   5.0918  1.000000  0.024961  0.008035  0.709421  0.240356   \n",
       "..    ...   ...      ...       ...       ...       ...       ...       ...   \n",
       "437  10.0  14.0   7.6936  0.008035  0.024961  1.000000  0.029259  0.240356   \n",
       "438  10.0  14.5   8.3455  0.008035  0.024961  1.000000  0.021414  0.114731   \n",
       "439  10.0  15.0   9.8809  0.008035  0.024961  1.000000  0.016009  0.058824   \n",
       "440  10.0  15.5  10.8375  0.008035  0.024961  1.000000  0.012195  0.032635   \n",
       "441  10.0  16.0  12.2880  0.008035  0.024961  1.000000  0.009447  0.019392   \n",
       "\n",
       "           L2        R1  ...        N9        F1        F2        F3  \\\n",
       "0    0.009447  1.000000  ...  0.000071  3.575508  0.040142 -0.051554   \n",
       "1    0.012195  0.998403  ...  0.000091  2.408792  0.071923 -0.054884   \n",
       "2    0.016009  0.975039  ...  0.000119  1.258680  0.138311 -0.057569   \n",
       "3    0.021414  0.885269  ...  0.000163  0.167805  0.296310 -0.059872   \n",
       "4    0.029259  0.709421  ...  0.000232 -0.701466  0.689217 -0.057862   \n",
       "..        ...       ...  ...       ...       ...       ...       ...   \n",
       "437  0.709421  0.000235  ...  0.701466 -0.003859 -0.005156 -0.002254   \n",
       "438  0.885269  0.000172  ...  0.839025 -0.002903 -0.002206  0.003708   \n",
       "439  0.975039  0.000129  ...  0.899057 -0.002254 -0.001024  0.010836   \n",
       "440  0.998403  0.000098  ...  0.926458 -0.001837 -0.000529  0.018238   \n",
       "441  1.000000  0.000076  ...  0.940923 -0.001528 -0.000293  0.025705   \n",
       "\n",
       "           F4        F5        F6        F7        F8         F9  \n",
       "0    0.136221 -0.000592 -0.001753  0.018145 -0.000484  -0.001214  \n",
       "1    0.106376 -0.000869 -0.001991  0.011538 -0.000791  -0.001432  \n",
       "2    0.076301 -0.001354 -0.002284  0.005057 -0.001395  -0.001720  \n",
       "3    0.046074 -0.002307 -0.002710 -0.001011 -0.002752  -0.002161  \n",
       "4    0.017509 -0.004153 -0.003250 -0.005636 -0.005920  -0.002789  \n",
       "..        ...       ...       ...       ...       ...        ...  \n",
       "437 -0.004044  0.023729  0.092799 -0.023145  1.259603   5.260997  \n",
       "438 -0.003445  0.011264  0.128799 -0.033488  0.581746   7.341466  \n",
       "439 -0.002948  0.005822  0.157090 -0.036903  0.292894   8.990572  \n",
       "440 -0.002599  0.003364  0.181534 -0.037910  0.165044  10.422657  \n",
       "441 -0.002307  0.002095  0.204332 -0.037332  0.100355  11.761540  \n",
       "\n",
       "[442 rows x 37 columns]"
      ],
      "text/html": "<div>\n<style scoped>\n    .dataframe tbody tr th:only-of-type {\n        vertical-align: middle;\n    }\n\n    .dataframe tbody tr th {\n        vertical-align: top;\n    }\n\n    .dataframe thead th {\n        text-align: right;\n    }\n</style>\n<table border=\"1\" class=\"dataframe\">\n  <thead>\n    <tr style=\"text-align: right;\">\n      <th></th>\n      <th>X1</th>\n      <th>X2</th>\n      <th>Y</th>\n      <th>S1</th>\n      <th>M1</th>\n      <th>L1</th>\n      <th>S2</th>\n      <th>M2</th>\n      <th>L2</th>\n      <th>R1</th>\n      <th>...</th>\n      <th>N9</th>\n      <th>F1</th>\n      <th>F2</th>\n      <th>F3</th>\n      <th>F4</th>\n      <th>F5</th>\n      <th>F6</th>\n      <th>F7</th>\n      <th>F8</th>\n      <th>F9</th>\n    </tr>\n  </thead>\n  <tbody>\n    <tr>\n      <th>0</th>\n      <td>5.0</td>\n      <td>8.0</td>\n      <td>9.8014</td>\n      <td>1.000000</td>\n      <td>0.024961</td>\n      <td>0.008035</td>\n      <td>1.000000</td>\n      <td>0.019392</td>\n      <td>0.009447</td>\n      <td>1.000000</td>\n      <td>...</td>\n      <td>0.000071</td>\n      <td>3.575508</td>\n      <td>0.040142</td>\n      <td>-0.051554</td>\n      <td>0.136221</td>\n      <td>-0.000592</td>\n      <td>-0.001753</td>\n      <td>0.018145</td>\n      <td>-0.000484</td>\n      <td>-0.001214</td>\n    </tr>\n    <tr>\n      <th>1</th>\n      <td>5.0</td>\n      <td>8.5</td>\n      <td>8.6765</td>\n      <td>1.000000</td>\n      <td>0.024961</td>\n      <td>0.008035</td>\n      <td>0.998403</td>\n      <td>0.032635</td>\n      <td>0.012195</td>\n      <td>0.998403</td>\n      <td>...</td>\n      <td>0.000091</td>\n      <td>2.408792</td>\n      <td>0.071923</td>\n      <td>-0.054884</td>\n      <td>0.106376</td>\n      <td>-0.000869</td>\n      <td>-0.001991</td>\n      <td>0.011538</td>\n      <td>-0.000791</td>\n      <td>-0.001432</td>\n    </tr>\n    <tr>\n      <th>2</th>\n      <td>5.0</td>\n      <td>9.0</td>\n      <td>7.5033</td>\n      <td>1.000000</td>\n      <td>0.024961</td>\n      <td>0.008035</td>\n      <td>0.975039</td>\n      <td>0.058824</td>\n      <td>0.016009</td>\n      <td>0.975039</td>\n      <td>...</td>\n      <td>0.000119</td>\n      <td>1.258680</td>\n      <td>0.138311</td>\n      <td>-0.057569</td>\n      <td>0.076301</td>\n      <td>-0.001354</td>\n      <td>-0.002284</td>\n      <td>0.005057</td>\n      <td>-0.001395</td>\n      <td>-0.001720</td>\n    </tr>\n    <tr>\n      <th>3</th>\n      <td>5.0</td>\n      <td>9.5</td>\n      <td>6.1938</td>\n      <td>1.000000</td>\n      <td>0.024961</td>\n      <td>0.008035</td>\n      <td>0.885269</td>\n      <td>0.114731</td>\n      <td>0.021414</td>\n      <td>0.885269</td>\n      <td>...</td>\n      <td>0.000163</td>\n      <td>0.167805</td>\n      <td>0.296310</td>\n      <td>-0.059872</td>\n      <td>0.046074</td>\n      <td>-0.002307</td>\n      <td>-0.002710</td>\n      <td>-0.001011</td>\n      <td>-0.002752</td>\n      <td>-0.002161</td>\n    </tr>\n    <tr>\n      <th>4</th>\n      <td>5.0</td>\n      <td>10.0</td>\n      <td>5.0918</td>\n      <td>1.000000</td>\n      <td>0.024961</td>\n      <td>0.008035</td>\n      <td>0.709421</td>\n      <td>0.240356</td>\n      <td>0.029259</td>\n      <td>0.709421</td>\n      <td>...</td>\n      <td>0.000232</td>\n      <td>-0.701466</td>\n      <td>0.689217</td>\n      <td>-0.057862</td>\n      <td>0.017509</td>\n      <td>-0.004153</td>\n      <td>-0.003250</td>\n      <td>-0.005636</td>\n      <td>-0.005920</td>\n      <td>-0.002789</td>\n    </tr>\n    <tr>\n      <th>...</th>\n      <td>...</td>\n      <td>...</td>\n      <td>...</td>\n      <td>...</td>\n      <td>...</td>\n      <td>...</td>\n      <td>...</td>\n      <td>...</td>\n      <td>...</td>\n      <td>...</td>\n      <td>...</td>\n      <td>...</td>\n      <td>...</td>\n      <td>...</td>\n      <td>...</td>\n      <td>...</td>\n      <td>...</td>\n      <td>...</td>\n      <td>...</td>\n      <td>...</td>\n      <td>...</td>\n    </tr>\n    <tr>\n      <th>437</th>\n      <td>10.0</td>\n      <td>14.0</td>\n      <td>7.6936</td>\n      <td>0.008035</td>\n      <td>0.024961</td>\n      <td>1.000000</td>\n      <td>0.029259</td>\n      <td>0.240356</td>\n      <td>0.709421</td>\n      <td>0.000235</td>\n      <td>...</td>\n      <td>0.701466</td>\n      <td>-0.003859</td>\n      <td>-0.005156</td>\n      <td>-0.002254</td>\n      <td>-0.004044</td>\n      <td>0.023729</td>\n      <td>0.092799</td>\n      <td>-0.023145</td>\n      <td>1.259603</td>\n      <td>5.260997</td>\n    </tr>\n    <tr>\n      <th>438</th>\n      <td>10.0</td>\n      <td>14.5</td>\n      <td>8.3455</td>\n      <td>0.008035</td>\n      <td>0.024961</td>\n      <td>1.000000</td>\n      <td>0.021414</td>\n      <td>0.114731</td>\n      <td>0.885269</td>\n      <td>0.000172</td>\n      <td>...</td>\n      <td>0.839025</td>\n      <td>-0.002903</td>\n      <td>-0.002206</td>\n      <td>0.003708</td>\n      <td>-0.003445</td>\n      <td>0.011264</td>\n      <td>0.128799</td>\n      <td>-0.033488</td>\n      <td>0.581746</td>\n      <td>7.341466</td>\n    </tr>\n    <tr>\n      <th>439</th>\n      <td>10.0</td>\n      <td>15.0</td>\n      <td>9.8809</td>\n      <td>0.008035</td>\n      <td>0.024961</td>\n      <td>1.000000</td>\n      <td>0.016009</td>\n      <td>0.058824</td>\n      <td>0.975039</td>\n      <td>0.000129</td>\n      <td>...</td>\n      <td>0.899057</td>\n      <td>-0.002254</td>\n      <td>-0.001024</td>\n      <td>0.010836</td>\n      <td>-0.002948</td>\n      <td>0.005822</td>\n      <td>0.157090</td>\n      <td>-0.036903</td>\n      <td>0.292894</td>\n      <td>8.990572</td>\n    </tr>\n    <tr>\n      <th>440</th>\n      <td>10.0</td>\n      <td>15.5</td>\n      <td>10.8375</td>\n      <td>0.008035</td>\n      <td>0.024961</td>\n      <td>1.000000</td>\n      <td>0.012195</td>\n      <td>0.032635</td>\n      <td>0.998403</td>\n      <td>0.000098</td>\n      <td>...</td>\n      <td>0.926458</td>\n      <td>-0.001837</td>\n      <td>-0.000529</td>\n      <td>0.018238</td>\n      <td>-0.002599</td>\n      <td>0.003364</td>\n      <td>0.181534</td>\n      <td>-0.037910</td>\n      <td>0.165044</td>\n      <td>10.422657</td>\n    </tr>\n    <tr>\n      <th>441</th>\n      <td>10.0</td>\n      <td>16.0</td>\n      <td>12.2880</td>\n      <td>0.008035</td>\n      <td>0.024961</td>\n      <td>1.000000</td>\n      <td>0.009447</td>\n      <td>0.019392</td>\n      <td>1.000000</td>\n      <td>0.000076</td>\n      <td>...</td>\n      <td>0.940923</td>\n      <td>-0.001528</td>\n      <td>-0.000293</td>\n      <td>0.025705</td>\n      <td>-0.002307</td>\n      <td>0.002095</td>\n      <td>0.204332</td>\n      <td>-0.037332</td>\n      <td>0.100355</td>\n      <td>11.761540</td>\n    </tr>\n  </tbody>\n</table>\n<p>442 rows × 37 columns</p>\n</div>"
     },
     "metadata": {},
     "execution_count": 77
    }
   ],
   "source": [
    "\n",
    "\n",
    "\n",
    "\n",
    "anfis"
   ]
  },
  {
   "cell_type": "code",
   "execution_count": 78,
   "metadata": {},
   "outputs": [
    {
     "output_type": "execute_result",
     "data": {
      "text/plain": [
       "       X1    X2        Y        S1        M1        L1        S2        M2  \\\n",
       "0     5.0   8.0   9.8014  1.000000  0.024961  0.008035  1.000000  0.019392   \n",
       "1     5.0   8.5   8.6765  1.000000  0.024961  0.008035  0.998403  0.032635   \n",
       "2     5.0   9.0   7.5033  1.000000  0.024961  0.008035  0.975039  0.058824   \n",
       "3     5.0   9.5   6.1938  1.000000  0.024961  0.008035  0.885269  0.114731   \n",
       "4     5.0  10.0   5.0918  1.000000  0.024961  0.008035  0.709421  0.240356   \n",
       "..    ...   ...      ...       ...       ...       ...       ...       ...   \n",
       "437  10.0  14.0   7.6936  0.008035  0.024961  1.000000  0.029259  0.240356   \n",
       "438  10.0  14.5   8.3455  0.008035  0.024961  1.000000  0.021414  0.114731   \n",
       "439  10.0  15.0   9.8809  0.008035  0.024961  1.000000  0.016009  0.058824   \n",
       "440  10.0  15.5  10.8375  0.008035  0.024961  1.000000  0.012195  0.032635   \n",
       "441  10.0  16.0  12.2880  0.008035  0.024961  1.000000  0.009447  0.019392   \n",
       "\n",
       "           L2        R1  ...        F3        F4        F5        F6  \\\n",
       "0    0.009447  1.000000  ... -0.051554  0.136221 -0.000592 -0.001753   \n",
       "1    0.012195  0.998403  ... -0.054884  0.106376 -0.000869 -0.001991   \n",
       "2    0.016009  0.975039  ... -0.057569  0.076301 -0.001354 -0.002284   \n",
       "3    0.021414  0.885269  ... -0.059872  0.046074 -0.002307 -0.002710   \n",
       "4    0.029259  0.709421  ... -0.057862  0.017509 -0.004153 -0.003250   \n",
       "..        ...       ...  ...       ...       ...       ...       ...   \n",
       "437  0.709421  0.000235  ... -0.002254 -0.004044  0.023729  0.092799   \n",
       "438  0.885269  0.000172  ...  0.003708 -0.003445  0.011264  0.128799   \n",
       "439  0.975039  0.000129  ...  0.010836 -0.002948  0.005822  0.157090   \n",
       "440  0.998403  0.000098  ...  0.018238 -0.002599  0.003364  0.181534   \n",
       "441  1.000000  0.000076  ...  0.025705 -0.002307  0.002095  0.204332   \n",
       "\n",
       "           F7        F8         F9          Z       Err     ErrSqr  \n",
       "0    0.018145 -0.000484  -0.001214   3.714419 -6.086981  37.051338  \n",
       "1    0.011538 -0.000791  -0.001432   2.538662 -6.137838  37.673061  \n",
       "2    0.005057 -0.001395  -0.001720   1.414027 -6.089273  37.079251  \n",
       "3   -0.001011 -0.002752  -0.002161   0.439375 -5.754425  33.113403  \n",
       "4   -0.005636 -0.005920  -0.002789  -0.074350 -5.166150  26.689102  \n",
       "..        ...       ...        ...        ...       ...        ...  \n",
       "437 -0.023145  1.259603   5.260997   6.598670 -1.094930   1.198871  \n",
       "438 -0.033488  0.581746   7.341466   8.024941 -0.320559   0.102758  \n",
       "439 -0.036903  0.292894   8.990572   9.414084 -0.466816   0.217917  \n",
       "440 -0.037910  0.165044  10.422657  10.747962 -0.089538   0.008017  \n",
       "441 -0.037332  0.100355  11.761540  12.052565 -0.235435   0.055430  \n",
       "\n",
       "[442 rows x 40 columns]"
      ],
      "text/html": "<div>\n<style scoped>\n    .dataframe tbody tr th:only-of-type {\n        vertical-align: middle;\n    }\n\n    .dataframe tbody tr th {\n        vertical-align: top;\n    }\n\n    .dataframe thead th {\n        text-align: right;\n    }\n</style>\n<table border=\"1\" class=\"dataframe\">\n  <thead>\n    <tr style=\"text-align: right;\">\n      <th></th>\n      <th>X1</th>\n      <th>X2</th>\n      <th>Y</th>\n      <th>S1</th>\n      <th>M1</th>\n      <th>L1</th>\n      <th>S2</th>\n      <th>M2</th>\n      <th>L2</th>\n      <th>R1</th>\n      <th>...</th>\n      <th>F3</th>\n      <th>F4</th>\n      <th>F5</th>\n      <th>F6</th>\n      <th>F7</th>\n      <th>F8</th>\n      <th>F9</th>\n      <th>Z</th>\n      <th>Err</th>\n      <th>ErrSqr</th>\n    </tr>\n  </thead>\n  <tbody>\n    <tr>\n      <th>0</th>\n      <td>5.0</td>\n      <td>8.0</td>\n      <td>9.8014</td>\n      <td>1.000000</td>\n      <td>0.024961</td>\n      <td>0.008035</td>\n      <td>1.000000</td>\n      <td>0.019392</td>\n      <td>0.009447</td>\n      <td>1.000000</td>\n      <td>...</td>\n      <td>-0.051554</td>\n      <td>0.136221</td>\n      <td>-0.000592</td>\n      <td>-0.001753</td>\n      <td>0.018145</td>\n      <td>-0.000484</td>\n      <td>-0.001214</td>\n      <td>3.714419</td>\n      <td>-6.086981</td>\n      <td>37.051338</td>\n    </tr>\n    <tr>\n      <th>1</th>\n      <td>5.0</td>\n      <td>8.5</td>\n      <td>8.6765</td>\n      <td>1.000000</td>\n      <td>0.024961</td>\n      <td>0.008035</td>\n      <td>0.998403</td>\n      <td>0.032635</td>\n      <td>0.012195</td>\n      <td>0.998403</td>\n      <td>...</td>\n      <td>-0.054884</td>\n      <td>0.106376</td>\n      <td>-0.000869</td>\n      <td>-0.001991</td>\n      <td>0.011538</td>\n      <td>-0.000791</td>\n      <td>-0.001432</td>\n      <td>2.538662</td>\n      <td>-6.137838</td>\n      <td>37.673061</td>\n    </tr>\n    <tr>\n      <th>2</th>\n      <td>5.0</td>\n      <td>9.0</td>\n      <td>7.5033</td>\n      <td>1.000000</td>\n      <td>0.024961</td>\n      <td>0.008035</td>\n      <td>0.975039</td>\n      <td>0.058824</td>\n      <td>0.016009</td>\n      <td>0.975039</td>\n      <td>...</td>\n      <td>-0.057569</td>\n      <td>0.076301</td>\n      <td>-0.001354</td>\n      <td>-0.002284</td>\n      <td>0.005057</td>\n      <td>-0.001395</td>\n      <td>-0.001720</td>\n      <td>1.414027</td>\n      <td>-6.089273</td>\n      <td>37.079251</td>\n    </tr>\n    <tr>\n      <th>3</th>\n      <td>5.0</td>\n      <td>9.5</td>\n      <td>6.1938</td>\n      <td>1.000000</td>\n      <td>0.024961</td>\n      <td>0.008035</td>\n      <td>0.885269</td>\n      <td>0.114731</td>\n      <td>0.021414</td>\n      <td>0.885269</td>\n      <td>...</td>\n      <td>-0.059872</td>\n      <td>0.046074</td>\n      <td>-0.002307</td>\n      <td>-0.002710</td>\n      <td>-0.001011</td>\n      <td>-0.002752</td>\n      <td>-0.002161</td>\n      <td>0.439375</td>\n      <td>-5.754425</td>\n      <td>33.113403</td>\n    </tr>\n    <tr>\n      <th>4</th>\n      <td>5.0</td>\n      <td>10.0</td>\n      <td>5.0918</td>\n      <td>1.000000</td>\n      <td>0.024961</td>\n      <td>0.008035</td>\n      <td>0.709421</td>\n      <td>0.240356</td>\n      <td>0.029259</td>\n      <td>0.709421</td>\n      <td>...</td>\n      <td>-0.057862</td>\n      <td>0.017509</td>\n      <td>-0.004153</td>\n      <td>-0.003250</td>\n      <td>-0.005636</td>\n      <td>-0.005920</td>\n      <td>-0.002789</td>\n      <td>-0.074350</td>\n      <td>-5.166150</td>\n      <td>26.689102</td>\n    </tr>\n    <tr>\n      <th>...</th>\n      <td>...</td>\n      <td>...</td>\n      <td>...</td>\n      <td>...</td>\n      <td>...</td>\n      <td>...</td>\n      <td>...</td>\n      <td>...</td>\n      <td>...</td>\n      <td>...</td>\n      <td>...</td>\n      <td>...</td>\n      <td>...</td>\n      <td>...</td>\n      <td>...</td>\n      <td>...</td>\n      <td>...</td>\n      <td>...</td>\n      <td>...</td>\n      <td>...</td>\n      <td>...</td>\n    </tr>\n    <tr>\n      <th>437</th>\n      <td>10.0</td>\n      <td>14.0</td>\n      <td>7.6936</td>\n      <td>0.008035</td>\n      <td>0.024961</td>\n      <td>1.000000</td>\n      <td>0.029259</td>\n      <td>0.240356</td>\n      <td>0.709421</td>\n      <td>0.000235</td>\n      <td>...</td>\n      <td>-0.002254</td>\n      <td>-0.004044</td>\n      <td>0.023729</td>\n      <td>0.092799</td>\n      <td>-0.023145</td>\n      <td>1.259603</td>\n      <td>5.260997</td>\n      <td>6.598670</td>\n      <td>-1.094930</td>\n      <td>1.198871</td>\n    </tr>\n    <tr>\n      <th>438</th>\n      <td>10.0</td>\n      <td>14.5</td>\n      <td>8.3455</td>\n      <td>0.008035</td>\n      <td>0.024961</td>\n      <td>1.000000</td>\n      <td>0.021414</td>\n      <td>0.114731</td>\n      <td>0.885269</td>\n      <td>0.000172</td>\n      <td>...</td>\n      <td>0.003708</td>\n      <td>-0.003445</td>\n      <td>0.011264</td>\n      <td>0.128799</td>\n      <td>-0.033488</td>\n      <td>0.581746</td>\n      <td>7.341466</td>\n      <td>8.024941</td>\n      <td>-0.320559</td>\n      <td>0.102758</td>\n    </tr>\n    <tr>\n      <th>439</th>\n      <td>10.0</td>\n      <td>15.0</td>\n      <td>9.8809</td>\n      <td>0.008035</td>\n      <td>0.024961</td>\n      <td>1.000000</td>\n      <td>0.016009</td>\n      <td>0.058824</td>\n      <td>0.975039</td>\n      <td>0.000129</td>\n      <td>...</td>\n      <td>0.010836</td>\n      <td>-0.002948</td>\n      <td>0.005822</td>\n      <td>0.157090</td>\n      <td>-0.036903</td>\n      <td>0.292894</td>\n      <td>8.990572</td>\n      <td>9.414084</td>\n      <td>-0.466816</td>\n      <td>0.217917</td>\n    </tr>\n    <tr>\n      <th>440</th>\n      <td>10.0</td>\n      <td>15.5</td>\n      <td>10.8375</td>\n      <td>0.008035</td>\n      <td>0.024961</td>\n      <td>1.000000</td>\n      <td>0.012195</td>\n      <td>0.032635</td>\n      <td>0.998403</td>\n      <td>0.000098</td>\n      <td>...</td>\n      <td>0.018238</td>\n      <td>-0.002599</td>\n      <td>0.003364</td>\n      <td>0.181534</td>\n      <td>-0.037910</td>\n      <td>0.165044</td>\n      <td>10.422657</td>\n      <td>10.747962</td>\n      <td>-0.089538</td>\n      <td>0.008017</td>\n    </tr>\n    <tr>\n      <th>441</th>\n      <td>10.0</td>\n      <td>16.0</td>\n      <td>12.2880</td>\n      <td>0.008035</td>\n      <td>0.024961</td>\n      <td>1.000000</td>\n      <td>0.009447</td>\n      <td>0.019392</td>\n      <td>1.000000</td>\n      <td>0.000076</td>\n      <td>...</td>\n      <td>0.025705</td>\n      <td>-0.002307</td>\n      <td>0.002095</td>\n      <td>0.204332</td>\n      <td>-0.037332</td>\n      <td>0.100355</td>\n      <td>11.761540</td>\n      <td>12.052565</td>\n      <td>-0.235435</td>\n      <td>0.055430</td>\n    </tr>\n  </tbody>\n</table>\n<p>442 rows × 40 columns</p>\n</div>"
     },
     "metadata": {},
     "execution_count": 78
    }
   ],
   "source": [
    "#Layer 6 Phase 1\n",
    "\n",
    "# Layer 6 = SUM(F1...F9)\n",
    "\n",
    "anfis['Z'] = anfis['F1'] + anfis['F2'] + anfis['F3'] + anfis['F4'] + anfis['F5'] + anfis['F6'] + anfis['F7'] + anfis['F8'] + anfis['F9']\n",
    "\n",
    "#Error = Z (calculated value) - Y (observed value)\n",
    "anfis['Err'] = anfis['Z'] - anfis['Y']\n",
    "anfis['ErrSqr'] = anfis['Err']**2\n",
    "\n",
    "anfis\n"
   ]
  },
  {
   "cell_type": "code",
   "execution_count": 79,
   "metadata": {},
   "outputs": [
    {
     "output_type": "execute_result",
     "data": {
      "text/plain": [
       "2.1042980049620317"
      ]
     },
     "metadata": {},
     "execution_count": 79
    }
   ],
   "source": [
    "#Root Mean Square Error\n",
    "#RMSE = SQRT ( SUM(ErrSqr)/ #datapoints(rows) )\n",
    "RMSE = np.sqrt( anfis['ErrSqr'].sum() / 442)\n",
    "RMSE"
   ]
  },
  {
   "cell_type": "code",
   "execution_count": null,
   "metadata": {},
   "outputs": [],
   "source": [
    "#PHASE 1 Experimentation\n",
    "\n"
   ]
  },
  {
   "cell_type": "code",
   "execution_count": null,
   "metadata": {},
   "outputs": [],
   "source": [
    "#OLD LAYER 5\n",
    "\n",
    "\n",
    "\n",
    "# calculate initial C0, C1, C2 based on total data\n",
    "\n",
    "# partial derivatives = of E = 1/2 SUM(aX1 + bX2 + c - y)\n",
    "# dE/da = aSUM(X1**2) + bSUM(X1X2) + cSUM(X1) =  SUM(X1Y)\n",
    "# dE/db = aSUM(X1X2) + bSUM(X2**2) + cSUM(X2) = SUM(X2Y)\n",
    "# dE/dc = aSUM(X1) + bSUM(X2) + 10c = SUM(Y)\n",
    "#\n",
    "# this will yield three simultaneous equations, \n",
    "# once solved, a = C1, b = C2, c = C0\n",
    "\n",
    "# anfis['SQRX1'] = anfis['X1']**2\n",
    "# anfis['SQRX2'] = anfis['X2']**2\n",
    "# anfis['X1Y'] = anfis['X1'] * anfis['Y']\n",
    "# anfis['X2Y'] = anfis['X2'] * anfis['Y']\n",
    "# anfis['X1X2'] = anfis['X1'] * anfis['X2']\n",
    "\n",
    "# sumX1 = anfis['X1'].sum(); print('Sum X1 = ', sumX1)\n",
    "# sumX2 = anfis['X2'].sum(); print('Sum X2 = ', sumX2)\n",
    "# sumY = anfis['Y'].sum(); print('Sum Y = ', sumY)\n",
    "# sumSQRX1 = anfis['SQRX1'].sum(); print('Sum X1 squared = ', sumSQRX1)\n",
    "# sumSQRX2 = anfis['SQRX2'].sum(); print('Sum X2 squared = ', sumSQRX2)\n",
    "# sumX1X2 = anfis['X1X2'].sum(); print('Sum X1X2 = ', sumX1X2)\n",
    "# sumX1Y = anfis['X1Y'].sum(); print('Sum X1Y = ', sumX1Y)\n",
    "# sumX2Y = anfis['X2Y'].sum(); print('Sum X2Y = ', sumX1Y)\n",
    "\n",
    "# # Create array of array of a, b, c coefficiencts = [a1, b1, c1], [a2, b2, c2], [a3, b3, c3]\n",
    "# # Create array or ordinate or dependent values [Y1, Y2, Y3] \n",
    "# # such that a1X1 + b1X2 + C1 = Y1, etc.\n",
    "# Coef = np.array([[sumSQRX1, sumX1X2, sumX1], [sumX1X2, sumSQRX2, sumX2], [sumX1, sumX2, 10]])\n",
    "# Ord = np.array([sumX1Y, sumX2Y, sumY])\n",
    "# Params = np.linalg.solve(Coef, Ord)\n",
    "# startC0 = Params[2]; print('C0 = ', startC0)\n",
    "# startC1 = Params[0]; print('C1 = ', startC1)\n",
    "# startC2 = Params[1]; print('C2 = ', startC2)\n",
    "\n",
    "\n",
    "#calculate function activation for each rule, using initial C0, C1, C2 values\n",
    "#\n",
    "\n",
    "\n",
    "\n",
    "# anfis['F1'] = anfis['N1'] * ( startC0 + startC1 * anfis['X1'] + startC2 * anfis['X2'])\n",
    "# anfis['F2'] = anfis['N2'] * ( startC0 + startC1 * anfis['X1'] + startC2 * anfis['X2'])\n",
    "# anfis['F3'] = anfis['N3'] * ( startC0 + startC1 * anfis['X1'] + startC2 * anfis['X2'])\n",
    "# anfis['F4'] = anfis['N4'] * ( startC0 + startC1 * anfis['X1'] + startC2 * anfis['X2'])\n",
    "# anfis['F5'] = anfis['N5'] * ( startC0 + startC1 * anfis['X1'] + startC2 * anfis['X2'])\n",
    "# anfis['F6'] = anfis['N6'] * ( startC0 + startC1 * anfis['X1'] + startC2 * anfis['X2'])\n",
    "# anfis['F7'] = anfis['N7'] * ( startC0 + startC1 * anfis['X1'] + startC2 * anfis['X2'])\n",
    "# anfis['F8'] = anfis['N8'] * ( startC0 + startC1 * anfis['X1'] + startC2 * anfis['X2'])\n",
    "# anfis['F9'] = anfis['N9'] * ( startC0 + startC1 * anfis['X1'] + startC2 * anfis['X2'])"
   ]
  },
  {
   "cell_type": "code",
   "execution_count": 11,
   "metadata": {},
   "outputs": [
    {
     "output_type": "execute_result",
     "data": {
      "text/plain": [
       "4"
      ]
     },
     "metadata": {},
     "execution_count": 11
    }
   ],
   "source": [
    "xx = (1, 2, 3, 4, 5)\n",
    "xx[1]\n",
    "xx.index(5)"
   ]
  },
  {
   "cell_type": "code",
   "execution_count": null,
   "metadata": {},
   "outputs": [],
   "source": [
    "for L1 in ('S1', 'M1', 'L1')\n",
    "    for A1 in range(0) to \n",
    "        for beta in 0 to range step \n",
    "            for gamma in 0 to range step\n",
    "                for L2 in ('S2', 'M2', 'L2')\n",
    "                    for alpha\n",
    "                        for beta    \n",
    "                            for gamma\n"
   ]
  },
  {
   "cell_type": "code",
   "execution_count": 12,
   "metadata": {},
   "outputs": [
    {
     "output_type": "stream",
     "name": "stdout",
     "text": [
      "S2\nS3\nS4\n"
     ]
    }
   ],
   "source": [
    "for mem in ('S2', 'S3', 'S4'):\n",
    "    print (mem)"
   ]
  },
  {
   "cell_type": "code",
   "execution_count": 13,
   "metadata": {},
   "outputs": [
    {
     "output_type": "stream",
     "name": "stdout",
     "text": [
      "3\n6\n9\n12\n15\n18\n21\n24\n27\n"
     ]
    }
   ],
   "source": [
    "for y in range(3, 30, 3):\n",
    "    print(y)\n",
    "    "
   ]
  },
  {
   "cell_type": "code",
   "execution_count": 14,
   "metadata": {},
   "outputs": [
    {
     "output_type": "stream",
     "name": "stdout",
     "text": [
      "('asdf', 1, 2, 3, 's', 5, 5)\n"
     ]
    }
   ],
   "source": [
    "pp = ('asdf', 1, 2, 3, 's', 5, 5)\n",
    "print (pp)"
   ]
  },
  {
   "cell_type": "code",
   "execution_count": 17,
   "metadata": {},
   "outputs": [
    {
     "output_type": "stream",
     "name": "stdout",
     "text": [
      "3\n"
     ]
    }
   ],
   "source": [
    "print(pp[3])\n"
   ]
  },
  {
   "cell_type": "code",
   "execution_count": null,
   "metadata": {},
   "outputs": [],
   "source": []
  }
 ]
}