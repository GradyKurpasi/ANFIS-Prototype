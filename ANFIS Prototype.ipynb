{
 "metadata": {
  "language_info": {
   "codemirror_mode": {
    "name": "ipython",
    "version": 3
   },
   "file_extension": ".py",
   "mimetype": "text/x-python",
   "name": "python",
   "nbconvert_exporter": "python",
   "pygments_lexer": "ipython3",
   "version": "3.8.5-final"
  },
  "orig_nbformat": 2,
  "kernelspec": {
   "name": "python3",
   "display_name": "Python 3.8.5 64-bit ('anfis616': conda)",
   "metadata": {
    "interpreter": {
     "hash": "c7d3922921487362800321d5fbfd77ae5337f6c7a4cb7128939766aab9b1a031"
    }
   }
  }
 },
 "nbformat": 4,
 "nbformat_minor": 2,
 "cells": [
  {
   "cell_type": "code",
   "execution_count": 20,
   "metadata": {},
   "outputs": [
    {
     "output_type": "stream",
     "name": "stdout",
     "text": [
      "       X1    X2        Y\n0     5.0   8.0   9.8014\n1     5.2   8.0   9.6813\n2     5.4   8.0   9.1777\n3     5.6   8.0   8.9374\n4     5.8   8.0   8.6544\n..    ...   ...      ...\n437   9.2  16.0  10.5574\n438   9.4  16.0  10.9432\n439   9.6  16.0  11.3713\n440   9.8  16.0  11.8264\n441  10.0  16.0  12.2880\n\n[442 rows x 3 columns]\nMIN \nX1    5.000\nX2    8.000\nY     1.376\ndtype: float64\nMAX \nX1    10.000\nX2    16.000\nY     12.288\ndtype: float64\n"
     ]
    }
   ],
   "source": [
    "#load depdencies and source data\n",
    "\n",
    "import pandas as pd\n",
    "import numpy as np\n",
    "\n",
    "source_data = pd.read_csv('Data to be Modeled with ANFIS.csv')\n",
    "anfis = source_data\n",
    "\n",
    "#print data summary\n",
    "print(source_data)\n",
    "print('MIN ')\n",
    "print(source_data.min())\n",
    "print('MAX ')\n",
    "print(source_data.max())"
   ]
  },
  {
   "cell_type": "code",
   "execution_count": 21,
   "metadata": {},
   "outputs": [
    {
     "output_type": "execute_result",
     "data": {
      "text/plain": [
       "       X1    X2        Y\n",
       "0     5.0   8.0   9.8014\n",
       "1     5.2   8.0   9.6813\n",
       "2     5.4   8.0   9.1777\n",
       "3     5.6   8.0   8.9374\n",
       "4     5.8   8.0   8.6544\n",
       "..    ...   ...      ...\n",
       "437   9.2  16.0  10.5574\n",
       "438   9.4  16.0  10.9432\n",
       "439   9.6  16.0  11.3713\n",
       "440   9.8  16.0  11.8264\n",
       "441  10.0  16.0  12.2880\n",
       "\n",
       "[442 rows x 3 columns]"
      ],
      "text/html": "<div>\n<style scoped>\n    .dataframe tbody tr th:only-of-type {\n        vertical-align: middle;\n    }\n\n    .dataframe tbody tr th {\n        vertical-align: top;\n    }\n\n    .dataframe thead th {\n        text-align: right;\n    }\n</style>\n<table border=\"1\" class=\"dataframe\">\n  <thead>\n    <tr style=\"text-align: right;\">\n      <th></th>\n      <th>X1</th>\n      <th>X2</th>\n      <th>Y</th>\n    </tr>\n  </thead>\n  <tbody>\n    <tr>\n      <th>0</th>\n      <td>5.0</td>\n      <td>8.0</td>\n      <td>9.8014</td>\n    </tr>\n    <tr>\n      <th>1</th>\n      <td>5.2</td>\n      <td>8.0</td>\n      <td>9.6813</td>\n    </tr>\n    <tr>\n      <th>2</th>\n      <td>5.4</td>\n      <td>8.0</td>\n      <td>9.1777</td>\n    </tr>\n    <tr>\n      <th>3</th>\n      <td>5.6</td>\n      <td>8.0</td>\n      <td>8.9374</td>\n    </tr>\n    <tr>\n      <th>4</th>\n      <td>5.8</td>\n      <td>8.0</td>\n      <td>8.6544</td>\n    </tr>\n    <tr>\n      <th>...</th>\n      <td>...</td>\n      <td>...</td>\n      <td>...</td>\n    </tr>\n    <tr>\n      <th>437</th>\n      <td>9.2</td>\n      <td>16.0</td>\n      <td>10.5574</td>\n    </tr>\n    <tr>\n      <th>438</th>\n      <td>9.4</td>\n      <td>16.0</td>\n      <td>10.9432</td>\n    </tr>\n    <tr>\n      <th>439</th>\n      <td>9.6</td>\n      <td>16.0</td>\n      <td>11.3713</td>\n    </tr>\n    <tr>\n      <th>440</th>\n      <td>9.8</td>\n      <td>16.0</td>\n      <td>11.8264</td>\n    </tr>\n    <tr>\n      <th>441</th>\n      <td>10.0</td>\n      <td>16.0</td>\n      <td>12.2880</td>\n    </tr>\n  </tbody>\n</table>\n<p>442 rows × 3 columns</p>\n</div>"
     },
     "metadata": {},
     "execution_count": 21
    }
   ],
   "source": [
    "#LAYER0\n",
    "# anfis['X1'] = x1\n",
    "# anfis['X2'] = x2\n",
    "\n",
    "anfis"
   ]
  },
  {
   "cell_type": "code",
   "execution_count": 22,
   "metadata": {},
   "outputs": [
    {
     "output_type": "execute_result",
     "data": {
      "text/plain": [
       "       X1    X2        Y        S1        M1        L1        S2        M2  \\\n",
       "0     5.0   8.0   9.8014  0.058824  0.058824  0.058824  0.020000  0.020000   \n",
       "1     5.2   8.0   9.6813  0.053648  0.053648  0.053648  0.020000  0.020000   \n",
       "2     5.4   8.0   9.1777  0.049116  0.049116  0.049116  0.020000  0.020000   \n",
       "3     5.6   8.0   8.9374  0.045126  0.045126  0.045126  0.020000  0.020000   \n",
       "4     5.8   8.0   8.6544  0.041597  0.041597  0.041597  0.020000  0.020000   \n",
       "..    ...   ...      ...       ...       ...       ...       ...       ...   \n",
       "437   9.2  16.0  10.5574  0.014654  0.014654  0.014654  0.004425  0.004425   \n",
       "438   9.4  16.0  10.9432  0.013974  0.013974  0.013974  0.004425  0.004425   \n",
       "439   9.6  16.0  11.3713  0.013340  0.013340  0.013340  0.004425  0.004425   \n",
       "440   9.8  16.0  11.8264  0.012749  0.012749  0.012749  0.004425  0.004425   \n",
       "441  10.0  16.0  12.2880  0.012195  0.012195  0.012195  0.004425  0.004425   \n",
       "\n",
       "           L2  \n",
       "0    0.020000  \n",
       "1    0.020000  \n",
       "2    0.020000  \n",
       "3    0.020000  \n",
       "4    0.020000  \n",
       "..        ...  \n",
       "437  0.004425  \n",
       "438  0.004425  \n",
       "439  0.004425  \n",
       "440  0.004425  \n",
       "441  0.004425  \n",
       "\n",
       "[442 rows x 9 columns]"
      ],
      "text/html": "<div>\n<style scoped>\n    .dataframe tbody tr th:only-of-type {\n        vertical-align: middle;\n    }\n\n    .dataframe tbody tr th {\n        vertical-align: top;\n    }\n\n    .dataframe thead th {\n        text-align: right;\n    }\n</style>\n<table border=\"1\" class=\"dataframe\">\n  <thead>\n    <tr style=\"text-align: right;\">\n      <th></th>\n      <th>X1</th>\n      <th>X2</th>\n      <th>Y</th>\n      <th>S1</th>\n      <th>M1</th>\n      <th>L1</th>\n      <th>S2</th>\n      <th>M2</th>\n      <th>L2</th>\n    </tr>\n  </thead>\n  <tbody>\n    <tr>\n      <th>0</th>\n      <td>5.0</td>\n      <td>8.0</td>\n      <td>9.8014</td>\n      <td>0.058824</td>\n      <td>0.058824</td>\n      <td>0.058824</td>\n      <td>0.020000</td>\n      <td>0.020000</td>\n      <td>0.020000</td>\n    </tr>\n    <tr>\n      <th>1</th>\n      <td>5.2</td>\n      <td>8.0</td>\n      <td>9.6813</td>\n      <td>0.053648</td>\n      <td>0.053648</td>\n      <td>0.053648</td>\n      <td>0.020000</td>\n      <td>0.020000</td>\n      <td>0.020000</td>\n    </tr>\n    <tr>\n      <th>2</th>\n      <td>5.4</td>\n      <td>8.0</td>\n      <td>9.1777</td>\n      <td>0.049116</td>\n      <td>0.049116</td>\n      <td>0.049116</td>\n      <td>0.020000</td>\n      <td>0.020000</td>\n      <td>0.020000</td>\n    </tr>\n    <tr>\n      <th>3</th>\n      <td>5.6</td>\n      <td>8.0</td>\n      <td>8.9374</td>\n      <td>0.045126</td>\n      <td>0.045126</td>\n      <td>0.045126</td>\n      <td>0.020000</td>\n      <td>0.020000</td>\n      <td>0.020000</td>\n    </tr>\n    <tr>\n      <th>4</th>\n      <td>5.8</td>\n      <td>8.0</td>\n      <td>8.6544</td>\n      <td>0.041597</td>\n      <td>0.041597</td>\n      <td>0.041597</td>\n      <td>0.020000</td>\n      <td>0.020000</td>\n      <td>0.020000</td>\n    </tr>\n    <tr>\n      <th>...</th>\n      <td>...</td>\n      <td>...</td>\n      <td>...</td>\n      <td>...</td>\n      <td>...</td>\n      <td>...</td>\n      <td>...</td>\n      <td>...</td>\n      <td>...</td>\n    </tr>\n    <tr>\n      <th>437</th>\n      <td>9.2</td>\n      <td>16.0</td>\n      <td>10.5574</td>\n      <td>0.014654</td>\n      <td>0.014654</td>\n      <td>0.014654</td>\n      <td>0.004425</td>\n      <td>0.004425</td>\n      <td>0.004425</td>\n    </tr>\n    <tr>\n      <th>438</th>\n      <td>9.4</td>\n      <td>16.0</td>\n      <td>10.9432</td>\n      <td>0.013974</td>\n      <td>0.013974</td>\n      <td>0.013974</td>\n      <td>0.004425</td>\n      <td>0.004425</td>\n      <td>0.004425</td>\n    </tr>\n    <tr>\n      <th>439</th>\n      <td>9.6</td>\n      <td>16.0</td>\n      <td>11.3713</td>\n      <td>0.013340</td>\n      <td>0.013340</td>\n      <td>0.013340</td>\n      <td>0.004425</td>\n      <td>0.004425</td>\n      <td>0.004425</td>\n    </tr>\n    <tr>\n      <th>440</th>\n      <td>9.8</td>\n      <td>16.0</td>\n      <td>11.8264</td>\n      <td>0.012749</td>\n      <td>0.012749</td>\n      <td>0.012749</td>\n      <td>0.004425</td>\n      <td>0.004425</td>\n      <td>0.004425</td>\n    </tr>\n    <tr>\n      <th>441</th>\n      <td>10.0</td>\n      <td>16.0</td>\n      <td>12.2880</td>\n      <td>0.012195</td>\n      <td>0.012195</td>\n      <td>0.012195</td>\n      <td>0.004425</td>\n      <td>0.004425</td>\n      <td>0.004425</td>\n    </tr>\n  </tbody>\n</table>\n<p>442 rows × 9 columns</p>\n</div>"
     },
     "metadata": {},
     "execution_count": 22
    }
   ],
   "source": [
    "#LAYER 1\n",
    "# set alpha beta gamma for S1, M1, L1, S2, M2, L2\n",
    "S1alpha = 1\n",
    "S1beta = 1\n",
    "S1gamma = 1\n",
    "M1alpha = 1\n",
    "M1beta = 1\n",
    "M1gamma = 1\n",
    "L1alpha = 1\n",
    "L1beta = 1\n",
    "L1gamma = 1\n",
    "S2alpha = 1\n",
    "S2beta = 1\n",
    "S2gamma = 1\n",
    "M2alpha = 1\n",
    "M2beta = 1\n",
    "M2gamma = 1\n",
    "L2alpha = 1\n",
    "L2beta = 1\n",
    "L2gamma = 1\n",
    "\n",
    "# calulate membership\n",
    "#     X1 in S1, M1, L1\n",
    "#     X2 in S2, M2, L2\n",
    "# using generalized bell function\n",
    "anfis['S1'] = 1 / (1+abs( (anfis['X1']-S1gamma) / S1alpha)**(2*S1beta) )\n",
    "anfis['M1'] = 1 / (1+abs( (anfis['X1']-M1gamma) / M1alpha)**(2*M1beta) )\n",
    "anfis['L1'] = 1 / (1+abs( (anfis['X1']-L1gamma) / L1alpha)**(2*L1beta) )\n",
    "anfis['S2'] = 1 / (1+abs( (anfis['X2']-S2gamma) / S2alpha)**(2*S2beta) )\n",
    "anfis['M2'] = 1 / (1+abs( (anfis['X2']-M2gamma) / M2alpha)**(2*M2beta) )\n",
    "anfis['L2'] = 1 / (1+abs( (anfis['X2']-L2gamma) / L2alpha)**(2*L2beta) )\n",
    "\n",
    "anfis"
   ]
  },
  {
   "cell_type": "code",
   "execution_count": 24,
   "metadata": {},
   "outputs": [
    {
     "output_type": "execute_result",
     "data": {
      "text/plain": [
       "       X1    X2        Y        S1        M1        L1        S2        M2  \\\n",
       "0     5.0   8.0   9.8014  0.058824  0.058824  0.058824  0.020000  0.020000   \n",
       "1     5.2   8.0   9.6813  0.053648  0.053648  0.053648  0.020000  0.020000   \n",
       "2     5.4   8.0   9.1777  0.049116  0.049116  0.049116  0.020000  0.020000   \n",
       "3     5.6   8.0   8.9374  0.045126  0.045126  0.045126  0.020000  0.020000   \n",
       "4     5.8   8.0   8.6544  0.041597  0.041597  0.041597  0.020000  0.020000   \n",
       "..    ...   ...      ...       ...       ...       ...       ...       ...   \n",
       "437   9.2  16.0  10.5574  0.014654  0.014654  0.014654  0.004425  0.004425   \n",
       "438   9.4  16.0  10.9432  0.013974  0.013974  0.013974  0.004425  0.004425   \n",
       "439   9.6  16.0  11.3713  0.013340  0.013340  0.013340  0.004425  0.004425   \n",
       "440   9.8  16.0  11.8264  0.012749  0.012749  0.012749  0.004425  0.004425   \n",
       "441  10.0  16.0  12.2880  0.012195  0.012195  0.012195  0.004425  0.004425   \n",
       "\n",
       "           L2        R1        R2        R3        R4        R5        R6  \\\n",
       "0    0.020000  0.001176  0.001176  0.001176  0.001176  0.001176  0.001176   \n",
       "1    0.020000  0.001073  0.001073  0.001073  0.001073  0.001073  0.001073   \n",
       "2    0.020000  0.000982  0.000982  0.000982  0.000982  0.000982  0.000982   \n",
       "3    0.020000  0.000903  0.000903  0.000903  0.000903  0.000903  0.000903   \n",
       "4    0.020000  0.000832  0.000832  0.000832  0.000832  0.000832  0.000832   \n",
       "..        ...       ...       ...       ...       ...       ...       ...   \n",
       "437  0.004425  0.000065  0.000065  0.000065  0.000065  0.000065  0.000065   \n",
       "438  0.004425  0.000062  0.000062  0.000062  0.000062  0.000062  0.000062   \n",
       "439  0.004425  0.000059  0.000059  0.000059  0.000059  0.000059  0.000059   \n",
       "440  0.004425  0.000056  0.000056  0.000056  0.000056  0.000056  0.000056   \n",
       "441  0.004425  0.000054  0.000054  0.000054  0.000054  0.000054  0.000054   \n",
       "\n",
       "           R7        R8        R9  \n",
       "0    0.001176  0.001176  0.001176  \n",
       "1    0.001073  0.001073  0.001073  \n",
       "2    0.000982  0.000982  0.000982  \n",
       "3    0.000903  0.000903  0.000903  \n",
       "4    0.000832  0.000832  0.000832  \n",
       "..        ...       ...       ...  \n",
       "437  0.000065  0.000065  0.000065  \n",
       "438  0.000062  0.000062  0.000062  \n",
       "439  0.000059  0.000059  0.000059  \n",
       "440  0.000056  0.000056  0.000056  \n",
       "441  0.000054  0.000054  0.000054  \n",
       "\n",
       "[442 rows x 18 columns]"
      ],
      "text/html": "<div>\n<style scoped>\n    .dataframe tbody tr th:only-of-type {\n        vertical-align: middle;\n    }\n\n    .dataframe tbody tr th {\n        vertical-align: top;\n    }\n\n    .dataframe thead th {\n        text-align: right;\n    }\n</style>\n<table border=\"1\" class=\"dataframe\">\n  <thead>\n    <tr style=\"text-align: right;\">\n      <th></th>\n      <th>X1</th>\n      <th>X2</th>\n      <th>Y</th>\n      <th>S1</th>\n      <th>M1</th>\n      <th>L1</th>\n      <th>S2</th>\n      <th>M2</th>\n      <th>L2</th>\n      <th>R1</th>\n      <th>R2</th>\n      <th>R3</th>\n      <th>R4</th>\n      <th>R5</th>\n      <th>R6</th>\n      <th>R7</th>\n      <th>R8</th>\n      <th>R9</th>\n    </tr>\n  </thead>\n  <tbody>\n    <tr>\n      <th>0</th>\n      <td>5.0</td>\n      <td>8.0</td>\n      <td>9.8014</td>\n      <td>0.058824</td>\n      <td>0.058824</td>\n      <td>0.058824</td>\n      <td>0.020000</td>\n      <td>0.020000</td>\n      <td>0.020000</td>\n      <td>0.001176</td>\n      <td>0.001176</td>\n      <td>0.001176</td>\n      <td>0.001176</td>\n      <td>0.001176</td>\n      <td>0.001176</td>\n      <td>0.001176</td>\n      <td>0.001176</td>\n      <td>0.001176</td>\n    </tr>\n    <tr>\n      <th>1</th>\n      <td>5.2</td>\n      <td>8.0</td>\n      <td>9.6813</td>\n      <td>0.053648</td>\n      <td>0.053648</td>\n      <td>0.053648</td>\n      <td>0.020000</td>\n      <td>0.020000</td>\n      <td>0.020000</td>\n      <td>0.001073</td>\n      <td>0.001073</td>\n      <td>0.001073</td>\n      <td>0.001073</td>\n      <td>0.001073</td>\n      <td>0.001073</td>\n      <td>0.001073</td>\n      <td>0.001073</td>\n      <td>0.001073</td>\n    </tr>\n    <tr>\n      <th>2</th>\n      <td>5.4</td>\n      <td>8.0</td>\n      <td>9.1777</td>\n      <td>0.049116</td>\n      <td>0.049116</td>\n      <td>0.049116</td>\n      <td>0.020000</td>\n      <td>0.020000</td>\n      <td>0.020000</td>\n      <td>0.000982</td>\n      <td>0.000982</td>\n      <td>0.000982</td>\n      <td>0.000982</td>\n      <td>0.000982</td>\n      <td>0.000982</td>\n      <td>0.000982</td>\n      <td>0.000982</td>\n      <td>0.000982</td>\n    </tr>\n    <tr>\n      <th>3</th>\n      <td>5.6</td>\n      <td>8.0</td>\n      <td>8.9374</td>\n      <td>0.045126</td>\n      <td>0.045126</td>\n      <td>0.045126</td>\n      <td>0.020000</td>\n      <td>0.020000</td>\n      <td>0.020000</td>\n      <td>0.000903</td>\n      <td>0.000903</td>\n      <td>0.000903</td>\n      <td>0.000903</td>\n      <td>0.000903</td>\n      <td>0.000903</td>\n      <td>0.000903</td>\n      <td>0.000903</td>\n      <td>0.000903</td>\n    </tr>\n    <tr>\n      <th>4</th>\n      <td>5.8</td>\n      <td>8.0</td>\n      <td>8.6544</td>\n      <td>0.041597</td>\n      <td>0.041597</td>\n      <td>0.041597</td>\n      <td>0.020000</td>\n      <td>0.020000</td>\n      <td>0.020000</td>\n      <td>0.000832</td>\n      <td>0.000832</td>\n      <td>0.000832</td>\n      <td>0.000832</td>\n      <td>0.000832</td>\n      <td>0.000832</td>\n      <td>0.000832</td>\n      <td>0.000832</td>\n      <td>0.000832</td>\n    </tr>\n    <tr>\n      <th>...</th>\n      <td>...</td>\n      <td>...</td>\n      <td>...</td>\n      <td>...</td>\n      <td>...</td>\n      <td>...</td>\n      <td>...</td>\n      <td>...</td>\n      <td>...</td>\n      <td>...</td>\n      <td>...</td>\n      <td>...</td>\n      <td>...</td>\n      <td>...</td>\n      <td>...</td>\n      <td>...</td>\n      <td>...</td>\n      <td>...</td>\n    </tr>\n    <tr>\n      <th>437</th>\n      <td>9.2</td>\n      <td>16.0</td>\n      <td>10.5574</td>\n      <td>0.014654</td>\n      <td>0.014654</td>\n      <td>0.014654</td>\n      <td>0.004425</td>\n      <td>0.004425</td>\n      <td>0.004425</td>\n      <td>0.000065</td>\n      <td>0.000065</td>\n      <td>0.000065</td>\n      <td>0.000065</td>\n      <td>0.000065</td>\n      <td>0.000065</td>\n      <td>0.000065</td>\n      <td>0.000065</td>\n      <td>0.000065</td>\n    </tr>\n    <tr>\n      <th>438</th>\n      <td>9.4</td>\n      <td>16.0</td>\n      <td>10.9432</td>\n      <td>0.013974</td>\n      <td>0.013974</td>\n      <td>0.013974</td>\n      <td>0.004425</td>\n      <td>0.004425</td>\n      <td>0.004425</td>\n      <td>0.000062</td>\n      <td>0.000062</td>\n      <td>0.000062</td>\n      <td>0.000062</td>\n      <td>0.000062</td>\n      <td>0.000062</td>\n      <td>0.000062</td>\n      <td>0.000062</td>\n      <td>0.000062</td>\n    </tr>\n    <tr>\n      <th>439</th>\n      <td>9.6</td>\n      <td>16.0</td>\n      <td>11.3713</td>\n      <td>0.013340</td>\n      <td>0.013340</td>\n      <td>0.013340</td>\n      <td>0.004425</td>\n      <td>0.004425</td>\n      <td>0.004425</td>\n      <td>0.000059</td>\n      <td>0.000059</td>\n      <td>0.000059</td>\n      <td>0.000059</td>\n      <td>0.000059</td>\n      <td>0.000059</td>\n      <td>0.000059</td>\n      <td>0.000059</td>\n      <td>0.000059</td>\n    </tr>\n    <tr>\n      <th>440</th>\n      <td>9.8</td>\n      <td>16.0</td>\n      <td>11.8264</td>\n      <td>0.012749</td>\n      <td>0.012749</td>\n      <td>0.012749</td>\n      <td>0.004425</td>\n      <td>0.004425</td>\n      <td>0.004425</td>\n      <td>0.000056</td>\n      <td>0.000056</td>\n      <td>0.000056</td>\n      <td>0.000056</td>\n      <td>0.000056</td>\n      <td>0.000056</td>\n      <td>0.000056</td>\n      <td>0.000056</td>\n      <td>0.000056</td>\n    </tr>\n    <tr>\n      <th>441</th>\n      <td>10.0</td>\n      <td>16.0</td>\n      <td>12.2880</td>\n      <td>0.012195</td>\n      <td>0.012195</td>\n      <td>0.012195</td>\n      <td>0.004425</td>\n      <td>0.004425</td>\n      <td>0.004425</td>\n      <td>0.000054</td>\n      <td>0.000054</td>\n      <td>0.000054</td>\n      <td>0.000054</td>\n      <td>0.000054</td>\n      <td>0.000054</td>\n      <td>0.000054</td>\n      <td>0.000054</td>\n      <td>0.000054</td>\n    </tr>\n  </tbody>\n</table>\n<p>442 rows × 18 columns</p>\n</div>"
     },
     "metadata": {},
     "execution_count": 24
    }
   ],
   "source": [
    "#LAYER 2\n",
    "#calculate rule weights\n",
    "#rule activation = cartesian product of (S1, M1, L1) X (S2, M2, L2)\n",
    "# R1-R9 = raw rule activation\n",
    "\n",
    "anfis['R1'] = anfis['S1'] * anfis['S2'] # antecedent = when x1 is Small and x2 is Small...\n",
    "anfis['R2'] = anfis['S1'] * anfis['M2']\n",
    "anfis['R3'] = anfis['S1'] * anfis['L2']\n",
    "anfis['R4'] = anfis['M1'] * anfis['S2']\n",
    "anfis['R5'] = anfis['M1'] * anfis['M2']\n",
    "anfis['R6'] = anfis['M1'] * anfis['L2']\n",
    "anfis['R7'] = anfis['L1'] * anfis['S2']\n",
    "anfis['R8'] = anfis['L1'] * anfis['M2']\n",
    "anfis['R9'] = anfis['L1'] * anfis['L2']\n",
    "\n",
    "anfis"
   ]
  },
  {
   "cell_type": "code",
   "execution_count": 25,
   "metadata": {},
   "outputs": [
    {
     "output_type": "execute_result",
     "data": {
      "text/plain": [
       "       X1    X2        Y        S1        M1        L1        S2        M2  \\\n",
       "0     5.0   8.0   9.8014  0.058824  0.058824  0.058824  0.020000  0.020000   \n",
       "1     5.2   8.0   9.6813  0.053648  0.053648  0.053648  0.020000  0.020000   \n",
       "2     5.4   8.0   9.1777  0.049116  0.049116  0.049116  0.020000  0.020000   \n",
       "3     5.6   8.0   8.9374  0.045126  0.045126  0.045126  0.020000  0.020000   \n",
       "4     5.8   8.0   8.6544  0.041597  0.041597  0.041597  0.020000  0.020000   \n",
       "..    ...   ...      ...       ...       ...       ...       ...       ...   \n",
       "437   9.2  16.0  10.5574  0.014654  0.014654  0.014654  0.004425  0.004425   \n",
       "438   9.4  16.0  10.9432  0.013974  0.013974  0.013974  0.004425  0.004425   \n",
       "439   9.6  16.0  11.3713  0.013340  0.013340  0.013340  0.004425  0.004425   \n",
       "440   9.8  16.0  11.8264  0.012749  0.012749  0.012749  0.004425  0.004425   \n",
       "441  10.0  16.0  12.2880  0.012195  0.012195  0.012195  0.004425  0.004425   \n",
       "\n",
       "           L2        R1        R2        R3        R4        R5        R6  \\\n",
       "0    0.020000  0.001176  0.001176  0.001176  0.001176  0.001176  0.001176   \n",
       "1    0.020000  0.001073  0.001073  0.001073  0.001073  0.001073  0.001073   \n",
       "2    0.020000  0.000982  0.000982  0.000982  0.000982  0.000982  0.000982   \n",
       "3    0.020000  0.000903  0.000903  0.000903  0.000903  0.000903  0.000903   \n",
       "4    0.020000  0.000832  0.000832  0.000832  0.000832  0.000832  0.000832   \n",
       "..        ...       ...       ...       ...       ...       ...       ...   \n",
       "437  0.004425  0.000065  0.000065  0.000065  0.000065  0.000065  0.000065   \n",
       "438  0.004425  0.000062  0.000062  0.000062  0.000062  0.000062  0.000062   \n",
       "439  0.004425  0.000059  0.000059  0.000059  0.000059  0.000059  0.000059   \n",
       "440  0.004425  0.000056  0.000056  0.000056  0.000056  0.000056  0.000056   \n",
       "441  0.004425  0.000054  0.000054  0.000054  0.000054  0.000054  0.000054   \n",
       "\n",
       "           R7        R8        R9  RULE_SUM  \n",
       "0    0.001176  0.001176  0.001176  0.010588  \n",
       "1    0.001073  0.001073  0.001073  0.009657  \n",
       "2    0.000982  0.000982  0.000982  0.008841  \n",
       "3    0.000903  0.000903  0.000903  0.008123  \n",
       "4    0.000832  0.000832  0.000832  0.007488  \n",
       "..        ...       ...       ...       ...  \n",
       "437  0.000065  0.000065  0.000065  0.000584  \n",
       "438  0.000062  0.000062  0.000062  0.000556  \n",
       "439  0.000059  0.000059  0.000059  0.000531  \n",
       "440  0.000056  0.000056  0.000056  0.000508  \n",
       "441  0.000054  0.000054  0.000054  0.000486  \n",
       "\n",
       "[442 rows x 19 columns]"
      ],
      "text/html": "<div>\n<style scoped>\n    .dataframe tbody tr th:only-of-type {\n        vertical-align: middle;\n    }\n\n    .dataframe tbody tr th {\n        vertical-align: top;\n    }\n\n    .dataframe thead th {\n        text-align: right;\n    }\n</style>\n<table border=\"1\" class=\"dataframe\">\n  <thead>\n    <tr style=\"text-align: right;\">\n      <th></th>\n      <th>X1</th>\n      <th>X2</th>\n      <th>Y</th>\n      <th>S1</th>\n      <th>M1</th>\n      <th>L1</th>\n      <th>S2</th>\n      <th>M2</th>\n      <th>L2</th>\n      <th>R1</th>\n      <th>R2</th>\n      <th>R3</th>\n      <th>R4</th>\n      <th>R5</th>\n      <th>R6</th>\n      <th>R7</th>\n      <th>R8</th>\n      <th>R9</th>\n      <th>RULE_SUM</th>\n    </tr>\n  </thead>\n  <tbody>\n    <tr>\n      <th>0</th>\n      <td>5.0</td>\n      <td>8.0</td>\n      <td>9.8014</td>\n      <td>0.058824</td>\n      <td>0.058824</td>\n      <td>0.058824</td>\n      <td>0.020000</td>\n      <td>0.020000</td>\n      <td>0.020000</td>\n      <td>0.001176</td>\n      <td>0.001176</td>\n      <td>0.001176</td>\n      <td>0.001176</td>\n      <td>0.001176</td>\n      <td>0.001176</td>\n      <td>0.001176</td>\n      <td>0.001176</td>\n      <td>0.001176</td>\n      <td>0.010588</td>\n    </tr>\n    <tr>\n      <th>1</th>\n      <td>5.2</td>\n      <td>8.0</td>\n      <td>9.6813</td>\n      <td>0.053648</td>\n      <td>0.053648</td>\n      <td>0.053648</td>\n      <td>0.020000</td>\n      <td>0.020000</td>\n      <td>0.020000</td>\n      <td>0.001073</td>\n      <td>0.001073</td>\n      <td>0.001073</td>\n      <td>0.001073</td>\n      <td>0.001073</td>\n      <td>0.001073</td>\n      <td>0.001073</td>\n      <td>0.001073</td>\n      <td>0.001073</td>\n      <td>0.009657</td>\n    </tr>\n    <tr>\n      <th>2</th>\n      <td>5.4</td>\n      <td>8.0</td>\n      <td>9.1777</td>\n      <td>0.049116</td>\n      <td>0.049116</td>\n      <td>0.049116</td>\n      <td>0.020000</td>\n      <td>0.020000</td>\n      <td>0.020000</td>\n      <td>0.000982</td>\n      <td>0.000982</td>\n      <td>0.000982</td>\n      <td>0.000982</td>\n      <td>0.000982</td>\n      <td>0.000982</td>\n      <td>0.000982</td>\n      <td>0.000982</td>\n      <td>0.000982</td>\n      <td>0.008841</td>\n    </tr>\n    <tr>\n      <th>3</th>\n      <td>5.6</td>\n      <td>8.0</td>\n      <td>8.9374</td>\n      <td>0.045126</td>\n      <td>0.045126</td>\n      <td>0.045126</td>\n      <td>0.020000</td>\n      <td>0.020000</td>\n      <td>0.020000</td>\n      <td>0.000903</td>\n      <td>0.000903</td>\n      <td>0.000903</td>\n      <td>0.000903</td>\n      <td>0.000903</td>\n      <td>0.000903</td>\n      <td>0.000903</td>\n      <td>0.000903</td>\n      <td>0.000903</td>\n      <td>0.008123</td>\n    </tr>\n    <tr>\n      <th>4</th>\n      <td>5.8</td>\n      <td>8.0</td>\n      <td>8.6544</td>\n      <td>0.041597</td>\n      <td>0.041597</td>\n      <td>0.041597</td>\n      <td>0.020000</td>\n      <td>0.020000</td>\n      <td>0.020000</td>\n      <td>0.000832</td>\n      <td>0.000832</td>\n      <td>0.000832</td>\n      <td>0.000832</td>\n      <td>0.000832</td>\n      <td>0.000832</td>\n      <td>0.000832</td>\n      <td>0.000832</td>\n      <td>0.000832</td>\n      <td>0.007488</td>\n    </tr>\n    <tr>\n      <th>...</th>\n      <td>...</td>\n      <td>...</td>\n      <td>...</td>\n      <td>...</td>\n      <td>...</td>\n      <td>...</td>\n      <td>...</td>\n      <td>...</td>\n      <td>...</td>\n      <td>...</td>\n      <td>...</td>\n      <td>...</td>\n      <td>...</td>\n      <td>...</td>\n      <td>...</td>\n      <td>...</td>\n      <td>...</td>\n      <td>...</td>\n      <td>...</td>\n    </tr>\n    <tr>\n      <th>437</th>\n      <td>9.2</td>\n      <td>16.0</td>\n      <td>10.5574</td>\n      <td>0.014654</td>\n      <td>0.014654</td>\n      <td>0.014654</td>\n      <td>0.004425</td>\n      <td>0.004425</td>\n      <td>0.004425</td>\n      <td>0.000065</td>\n      <td>0.000065</td>\n      <td>0.000065</td>\n      <td>0.000065</td>\n      <td>0.000065</td>\n      <td>0.000065</td>\n      <td>0.000065</td>\n      <td>0.000065</td>\n      <td>0.000065</td>\n      <td>0.000584</td>\n    </tr>\n    <tr>\n      <th>438</th>\n      <td>9.4</td>\n      <td>16.0</td>\n      <td>10.9432</td>\n      <td>0.013974</td>\n      <td>0.013974</td>\n      <td>0.013974</td>\n      <td>0.004425</td>\n      <td>0.004425</td>\n      <td>0.004425</td>\n      <td>0.000062</td>\n      <td>0.000062</td>\n      <td>0.000062</td>\n      <td>0.000062</td>\n      <td>0.000062</td>\n      <td>0.000062</td>\n      <td>0.000062</td>\n      <td>0.000062</td>\n      <td>0.000062</td>\n      <td>0.000556</td>\n    </tr>\n    <tr>\n      <th>439</th>\n      <td>9.6</td>\n      <td>16.0</td>\n      <td>11.3713</td>\n      <td>0.013340</td>\n      <td>0.013340</td>\n      <td>0.013340</td>\n      <td>0.004425</td>\n      <td>0.004425</td>\n      <td>0.004425</td>\n      <td>0.000059</td>\n      <td>0.000059</td>\n      <td>0.000059</td>\n      <td>0.000059</td>\n      <td>0.000059</td>\n      <td>0.000059</td>\n      <td>0.000059</td>\n      <td>0.000059</td>\n      <td>0.000059</td>\n      <td>0.000531</td>\n    </tr>\n    <tr>\n      <th>440</th>\n      <td>9.8</td>\n      <td>16.0</td>\n      <td>11.8264</td>\n      <td>0.012749</td>\n      <td>0.012749</td>\n      <td>0.012749</td>\n      <td>0.004425</td>\n      <td>0.004425</td>\n      <td>0.004425</td>\n      <td>0.000056</td>\n      <td>0.000056</td>\n      <td>0.000056</td>\n      <td>0.000056</td>\n      <td>0.000056</td>\n      <td>0.000056</td>\n      <td>0.000056</td>\n      <td>0.000056</td>\n      <td>0.000056</td>\n      <td>0.000508</td>\n    </tr>\n    <tr>\n      <th>441</th>\n      <td>10.0</td>\n      <td>16.0</td>\n      <td>12.2880</td>\n      <td>0.012195</td>\n      <td>0.012195</td>\n      <td>0.012195</td>\n      <td>0.004425</td>\n      <td>0.004425</td>\n      <td>0.004425</td>\n      <td>0.000054</td>\n      <td>0.000054</td>\n      <td>0.000054</td>\n      <td>0.000054</td>\n      <td>0.000054</td>\n      <td>0.000054</td>\n      <td>0.000054</td>\n      <td>0.000054</td>\n      <td>0.000054</td>\n      <td>0.000486</td>\n    </tr>\n  </tbody>\n</table>\n<p>442 rows × 19 columns</p>\n</div>"
     },
     "metadata": {},
     "execution_count": 25
    }
   ],
   "source": [
    "#LAYER 3\n",
    "# sum all Rule activations\n",
    "anfis['RULE_SUM'] = anfis['R1'] + anfis['R2'] + anfis['R3'] + anfis['R4'] + anfis['R5'] + anfis['R6'] + anfis['R7'] + anfis['R8'] + anfis['R9']\n",
    "\n",
    "anfis"
   ]
  },
  {
   "cell_type": "code",
   "execution_count": 26,
   "metadata": {},
   "outputs": [
    {
     "output_type": "execute_result",
     "data": {
      "text/plain": [
       "       X1    X2        Y        S1        M1        L1        S2        M2  \\\n",
       "0     5.0   8.0   9.8014  0.058824  0.058824  0.058824  0.020000  0.020000   \n",
       "1     5.2   8.0   9.6813  0.053648  0.053648  0.053648  0.020000  0.020000   \n",
       "2     5.4   8.0   9.1777  0.049116  0.049116  0.049116  0.020000  0.020000   \n",
       "3     5.6   8.0   8.9374  0.045126  0.045126  0.045126  0.020000  0.020000   \n",
       "4     5.8   8.0   8.6544  0.041597  0.041597  0.041597  0.020000  0.020000   \n",
       "..    ...   ...      ...       ...       ...       ...       ...       ...   \n",
       "437   9.2  16.0  10.5574  0.014654  0.014654  0.014654  0.004425  0.004425   \n",
       "438   9.4  16.0  10.9432  0.013974  0.013974  0.013974  0.004425  0.004425   \n",
       "439   9.6  16.0  11.3713  0.013340  0.013340  0.013340  0.004425  0.004425   \n",
       "440   9.8  16.0  11.8264  0.012749  0.012749  0.012749  0.004425  0.004425   \n",
       "441  10.0  16.0  12.2880  0.012195  0.012195  0.012195  0.004425  0.004425   \n",
       "\n",
       "           L2        R1  ...  RULE_SUM        N1        N2        N3  \\\n",
       "0    0.020000  0.001176  ...  0.010588  0.111111  0.111111  0.111111   \n",
       "1    0.020000  0.001073  ...  0.009657  0.111111  0.111111  0.111111   \n",
       "2    0.020000  0.000982  ...  0.008841  0.111111  0.111111  0.111111   \n",
       "3    0.020000  0.000903  ...  0.008123  0.111111  0.111111  0.111111   \n",
       "4    0.020000  0.000832  ...  0.007488  0.111111  0.111111  0.111111   \n",
       "..        ...       ...  ...       ...       ...       ...       ...   \n",
       "437  0.004425  0.000065  ...  0.000584  0.111111  0.111111  0.111111   \n",
       "438  0.004425  0.000062  ...  0.000556  0.111111  0.111111  0.111111   \n",
       "439  0.004425  0.000059  ...  0.000531  0.111111  0.111111  0.111111   \n",
       "440  0.004425  0.000056  ...  0.000508  0.111111  0.111111  0.111111   \n",
       "441  0.004425  0.000054  ...  0.000486  0.111111  0.111111  0.111111   \n",
       "\n",
       "           N4        N5        N6        N7        N8        N9  \n",
       "0    0.111111  0.111111  0.111111  0.111111  0.111111  0.111111  \n",
       "1    0.111111  0.111111  0.111111  0.111111  0.111111  0.111111  \n",
       "2    0.111111  0.111111  0.111111  0.111111  0.111111  0.111111  \n",
       "3    0.111111  0.111111  0.111111  0.111111  0.111111  0.111111  \n",
       "4    0.111111  0.111111  0.111111  0.111111  0.111111  0.111111  \n",
       "..        ...       ...       ...       ...       ...       ...  \n",
       "437  0.111111  0.111111  0.111111  0.111111  0.111111  0.111111  \n",
       "438  0.111111  0.111111  0.111111  0.111111  0.111111  0.111111  \n",
       "439  0.111111  0.111111  0.111111  0.111111  0.111111  0.111111  \n",
       "440  0.111111  0.111111  0.111111  0.111111  0.111111  0.111111  \n",
       "441  0.111111  0.111111  0.111111  0.111111  0.111111  0.111111  \n",
       "\n",
       "[442 rows x 28 columns]"
      ],
      "text/html": "<div>\n<style scoped>\n    .dataframe tbody tr th:only-of-type {\n        vertical-align: middle;\n    }\n\n    .dataframe tbody tr th {\n        vertical-align: top;\n    }\n\n    .dataframe thead th {\n        text-align: right;\n    }\n</style>\n<table border=\"1\" class=\"dataframe\">\n  <thead>\n    <tr style=\"text-align: right;\">\n      <th></th>\n      <th>X1</th>\n      <th>X2</th>\n      <th>Y</th>\n      <th>S1</th>\n      <th>M1</th>\n      <th>L1</th>\n      <th>S2</th>\n      <th>M2</th>\n      <th>L2</th>\n      <th>R1</th>\n      <th>...</th>\n      <th>RULE_SUM</th>\n      <th>N1</th>\n      <th>N2</th>\n      <th>N3</th>\n      <th>N4</th>\n      <th>N5</th>\n      <th>N6</th>\n      <th>N7</th>\n      <th>N8</th>\n      <th>N9</th>\n    </tr>\n  </thead>\n  <tbody>\n    <tr>\n      <th>0</th>\n      <td>5.0</td>\n      <td>8.0</td>\n      <td>9.8014</td>\n      <td>0.058824</td>\n      <td>0.058824</td>\n      <td>0.058824</td>\n      <td>0.020000</td>\n      <td>0.020000</td>\n      <td>0.020000</td>\n      <td>0.001176</td>\n      <td>...</td>\n      <td>0.010588</td>\n      <td>0.111111</td>\n      <td>0.111111</td>\n      <td>0.111111</td>\n      <td>0.111111</td>\n      <td>0.111111</td>\n      <td>0.111111</td>\n      <td>0.111111</td>\n      <td>0.111111</td>\n      <td>0.111111</td>\n    </tr>\n    <tr>\n      <th>1</th>\n      <td>5.2</td>\n      <td>8.0</td>\n      <td>9.6813</td>\n      <td>0.053648</td>\n      <td>0.053648</td>\n      <td>0.053648</td>\n      <td>0.020000</td>\n      <td>0.020000</td>\n      <td>0.020000</td>\n      <td>0.001073</td>\n      <td>...</td>\n      <td>0.009657</td>\n      <td>0.111111</td>\n      <td>0.111111</td>\n      <td>0.111111</td>\n      <td>0.111111</td>\n      <td>0.111111</td>\n      <td>0.111111</td>\n      <td>0.111111</td>\n      <td>0.111111</td>\n      <td>0.111111</td>\n    </tr>\n    <tr>\n      <th>2</th>\n      <td>5.4</td>\n      <td>8.0</td>\n      <td>9.1777</td>\n      <td>0.049116</td>\n      <td>0.049116</td>\n      <td>0.049116</td>\n      <td>0.020000</td>\n      <td>0.020000</td>\n      <td>0.020000</td>\n      <td>0.000982</td>\n      <td>...</td>\n      <td>0.008841</td>\n      <td>0.111111</td>\n      <td>0.111111</td>\n      <td>0.111111</td>\n      <td>0.111111</td>\n      <td>0.111111</td>\n      <td>0.111111</td>\n      <td>0.111111</td>\n      <td>0.111111</td>\n      <td>0.111111</td>\n    </tr>\n    <tr>\n      <th>3</th>\n      <td>5.6</td>\n      <td>8.0</td>\n      <td>8.9374</td>\n      <td>0.045126</td>\n      <td>0.045126</td>\n      <td>0.045126</td>\n      <td>0.020000</td>\n      <td>0.020000</td>\n      <td>0.020000</td>\n      <td>0.000903</td>\n      <td>...</td>\n      <td>0.008123</td>\n      <td>0.111111</td>\n      <td>0.111111</td>\n      <td>0.111111</td>\n      <td>0.111111</td>\n      <td>0.111111</td>\n      <td>0.111111</td>\n      <td>0.111111</td>\n      <td>0.111111</td>\n      <td>0.111111</td>\n    </tr>\n    <tr>\n      <th>4</th>\n      <td>5.8</td>\n      <td>8.0</td>\n      <td>8.6544</td>\n      <td>0.041597</td>\n      <td>0.041597</td>\n      <td>0.041597</td>\n      <td>0.020000</td>\n      <td>0.020000</td>\n      <td>0.020000</td>\n      <td>0.000832</td>\n      <td>...</td>\n      <td>0.007488</td>\n      <td>0.111111</td>\n      <td>0.111111</td>\n      <td>0.111111</td>\n      <td>0.111111</td>\n      <td>0.111111</td>\n      <td>0.111111</td>\n      <td>0.111111</td>\n      <td>0.111111</td>\n      <td>0.111111</td>\n    </tr>\n    <tr>\n      <th>...</th>\n      <td>...</td>\n      <td>...</td>\n      <td>...</td>\n      <td>...</td>\n      <td>...</td>\n      <td>...</td>\n      <td>...</td>\n      <td>...</td>\n      <td>...</td>\n      <td>...</td>\n      <td>...</td>\n      <td>...</td>\n      <td>...</td>\n      <td>...</td>\n      <td>...</td>\n      <td>...</td>\n      <td>...</td>\n      <td>...</td>\n      <td>...</td>\n      <td>...</td>\n      <td>...</td>\n    </tr>\n    <tr>\n      <th>437</th>\n      <td>9.2</td>\n      <td>16.0</td>\n      <td>10.5574</td>\n      <td>0.014654</td>\n      <td>0.014654</td>\n      <td>0.014654</td>\n      <td>0.004425</td>\n      <td>0.004425</td>\n      <td>0.004425</td>\n      <td>0.000065</td>\n      <td>...</td>\n      <td>0.000584</td>\n      <td>0.111111</td>\n      <td>0.111111</td>\n      <td>0.111111</td>\n      <td>0.111111</td>\n      <td>0.111111</td>\n      <td>0.111111</td>\n      <td>0.111111</td>\n      <td>0.111111</td>\n      <td>0.111111</td>\n    </tr>\n    <tr>\n      <th>438</th>\n      <td>9.4</td>\n      <td>16.0</td>\n      <td>10.9432</td>\n      <td>0.013974</td>\n      <td>0.013974</td>\n      <td>0.013974</td>\n      <td>0.004425</td>\n      <td>0.004425</td>\n      <td>0.004425</td>\n      <td>0.000062</td>\n      <td>...</td>\n      <td>0.000556</td>\n      <td>0.111111</td>\n      <td>0.111111</td>\n      <td>0.111111</td>\n      <td>0.111111</td>\n      <td>0.111111</td>\n      <td>0.111111</td>\n      <td>0.111111</td>\n      <td>0.111111</td>\n      <td>0.111111</td>\n    </tr>\n    <tr>\n      <th>439</th>\n      <td>9.6</td>\n      <td>16.0</td>\n      <td>11.3713</td>\n      <td>0.013340</td>\n      <td>0.013340</td>\n      <td>0.013340</td>\n      <td>0.004425</td>\n      <td>0.004425</td>\n      <td>0.004425</td>\n      <td>0.000059</td>\n      <td>...</td>\n      <td>0.000531</td>\n      <td>0.111111</td>\n      <td>0.111111</td>\n      <td>0.111111</td>\n      <td>0.111111</td>\n      <td>0.111111</td>\n      <td>0.111111</td>\n      <td>0.111111</td>\n      <td>0.111111</td>\n      <td>0.111111</td>\n    </tr>\n    <tr>\n      <th>440</th>\n      <td>9.8</td>\n      <td>16.0</td>\n      <td>11.8264</td>\n      <td>0.012749</td>\n      <td>0.012749</td>\n      <td>0.012749</td>\n      <td>0.004425</td>\n      <td>0.004425</td>\n      <td>0.004425</td>\n      <td>0.000056</td>\n      <td>...</td>\n      <td>0.000508</td>\n      <td>0.111111</td>\n      <td>0.111111</td>\n      <td>0.111111</td>\n      <td>0.111111</td>\n      <td>0.111111</td>\n      <td>0.111111</td>\n      <td>0.111111</td>\n      <td>0.111111</td>\n      <td>0.111111</td>\n    </tr>\n    <tr>\n      <th>441</th>\n      <td>10.0</td>\n      <td>16.0</td>\n      <td>12.2880</td>\n      <td>0.012195</td>\n      <td>0.012195</td>\n      <td>0.012195</td>\n      <td>0.004425</td>\n      <td>0.004425</td>\n      <td>0.004425</td>\n      <td>0.000054</td>\n      <td>...</td>\n      <td>0.000486</td>\n      <td>0.111111</td>\n      <td>0.111111</td>\n      <td>0.111111</td>\n      <td>0.111111</td>\n      <td>0.111111</td>\n      <td>0.111111</td>\n      <td>0.111111</td>\n      <td>0.111111</td>\n      <td>0.111111</td>\n    </tr>\n  </tbody>\n</table>\n<p>442 rows × 28 columns</p>\n</div>"
     },
     "metadata": {},
     "execution_count": 26
    }
   ],
   "source": [
    "#LAYER 4\n",
    "# normalize rule weights\n",
    "# Divide rule weight (R1...R9) by summation of all rule weights (R1 + R2 + ... R9)\n",
    "# N1-N9 = normalized rule weights\n",
    "\n",
    "anfis['N1'] = anfis['R1'] / anfis['RULE_SUM']\n",
    "anfis['N2'] = anfis['R2'] / anfis['RULE_SUM']\n",
    "anfis['N3'] = anfis['R3'] / anfis['RULE_SUM']\n",
    "anfis['N4'] = anfis['R4'] / anfis['RULE_SUM']\n",
    "anfis['N5'] = anfis['R5'] / anfis['RULE_SUM']\n",
    "anfis['N6'] = anfis['R6'] / anfis['RULE_SUM']\n",
    "anfis['N7'] = anfis['R7'] / anfis['RULE_SUM']\n",
    "anfis['N8'] = anfis['R8'] / anfis['RULE_SUM']\n",
    "anfis['N9'] = anfis['R9'] / anfis['RULE_SUM']\n",
    "anfis\n"
   ]
  },
  {
   "cell_type": "code",
   "execution_count": 31,
   "metadata": {},
   "outputs": [
    {
     "output_type": "stream",
     "name": "stdout",
     "text": [
      "Sum X1 =  3315.0\nSum X2 =  5304.0\nSum Y =  2366.0819\nSum X1 squared =  25857.0\nSum X2 squared =  66300.0\nSum X1X2 =  39780.0\nSum X1Y =  18081.211199999998\nSum X2Y =  18081.211199999998\n"
     ]
    }
   ],
   "source": [
    "#LAYER 5 Phase 1 part 1\n",
    "# calculate initial C0, C1, C2 based on total data\n",
    "\n",
    "# partial derivatives = of E = 1/2 SUM(aX1 + bX2 + c - y)\n",
    "# dE/da = aSUM(X1**2) + bSUM(X1X2) + cSUM(X1) =  SUM(X1Y)\n",
    "# dE/db = aSUM(X1X2) + bSUM(X2**2) + cSUM(X2) = SUM(X2Y)\n",
    "# dE/dc = aSUM(X1) + bSUM(X2) + 10c = SUM(Y)\n",
    "#\n",
    "# this will yield three simultaneous equations, \n",
    "# once solved, a = C1, b = C2, c = C0\n",
    "\n",
    "anfis['SQRX1'] = anfis['X1']**2\n",
    "anfis['SQRX2'] = anfis['X2']**2\n",
    "anfis['X1Y'] = anfis['X1'] * anfis['Y']\n",
    "anfis['X2Y'] = anfis['X2'] * anfis['Y']\n",
    "anfis['X1X2'] = anfis['X1'] * anfis['X2']\n",
    "\n",
    "sumX1 = anfis['X1'].sum(); print('Sum X1 = ', sumX1)\n",
    "sumX2 = anfis['X2'].sum(); print('Sum X2 = ', sumX2)\n",
    "sumY = anfis['Y'].sum(); print('Sum Y = ', sumY)\n",
    "sumSQRX1 = anfis['SQRX1'].sum(); print('Sum X1 squared = ', sumSQRX1)\n",
    "sumSQRX2 = anfis['SQRX2'].sum(); print('Sum X2 squared = ', sumSQRX2)\n",
    "sumX1X2 = anfis['X1X2'].sum(); print('Sum X1X2 = ', sumX1X2)\n",
    "sumX1Y = anfis['X1Y'].sum(); print('Sum X1Y = ', sumX1Y)\n",
    "sumX2Y = anfis['X2Y'].sum(); print('Sum X2Y = ', sumX1Y)\n",
    "\n",
    "# Create array of array of a, b, c coefficiencts = [a1, b1, c1], [a2, b2, c2], [a3, b3, c3]\n",
    "# Create array or ordinate or dependent values [Y1, Y2, Y3] \n",
    "# such that a1X1 + b1X2 + C1 = Y1, etc.\n",
    "Coef = np.array([[sumSQRX1, sumX1X2, sumX1], [sumX1X2, sumSQRX2, sumX2], [sumX1, sumX2, 10]])\n",
    "Ord = np.array([sumX1Y, sumX2Y, sumY])\n",
    "Params = np.linalg.solve(Coef, Ord)\n",
    "Params\n",
    "startC0 = Params[2]\n",
    "startC1 = Params[0]\n",
    "startC2 = Params[1]\n",
    "\n",
    "#intial C0, C1, C2 for rules 1-9\n",
    "R1C0 = startC0\n",
    "R1C1 = startC1\n",
    "R1C2 = startC2\n",
    "R2C0 = startC0\n",
    "R2C1 = startC1\n",
    "R2C2 = startC2\n",
    "R3C0 = startC0\n",
    "R3C1 = startC1\n",
    "R3C2 = startC2\n",
    "R4C0 = startC0\n",
    "R4C1 = startC1\n",
    "R4C2 = startC2\n",
    "R5C0 = startC0\n",
    "R5C1 = startC1\n",
    "R5C2 = startC2\n",
    "R6C0 = startC0\n",
    "R6C1 = startC1\n",
    "R6C2 = startC2\n",
    "R7C0 = startC0\n",
    "R7C1 = startC1\n",
    "R7C2 = startC2\n",
    "R8C0 = startC0\n",
    "R8C1 = startC1\n",
    "R8C2 = startC2\n",
    "R9C0 = startC0\n",
    "R9C1 = startC1\n",
    "R9C2 = startC2\n"
   ]
  },
  {
   "cell_type": "code",
   "execution_count": 32,
   "metadata": {},
   "outputs": [
    {
     "output_type": "execute_result",
     "data": {
      "text/plain": [
       "       X1    X2        Y        S1        M1        L1        S2        M2  \\\n",
       "0     5.0   8.0   9.8014  0.058824  0.058824  0.058824  0.020000  0.020000   \n",
       "1     5.2   8.0   9.6813  0.053648  0.053648  0.053648  0.020000  0.020000   \n",
       "2     5.4   8.0   9.1777  0.049116  0.049116  0.049116  0.020000  0.020000   \n",
       "3     5.6   8.0   8.9374  0.045126  0.045126  0.045126  0.020000  0.020000   \n",
       "4     5.8   8.0   8.6544  0.041597  0.041597  0.041597  0.020000  0.020000   \n",
       "..    ...   ...      ...       ...       ...       ...       ...       ...   \n",
       "437   9.2  16.0  10.5574  0.014654  0.014654  0.014654  0.004425  0.004425   \n",
       "438   9.4  16.0  10.9432  0.013974  0.013974  0.013974  0.004425  0.004425   \n",
       "439   9.6  16.0  11.3713  0.013340  0.013340  0.013340  0.004425  0.004425   \n",
       "440   9.8  16.0  11.8264  0.012749  0.012749  0.012749  0.004425  0.004425   \n",
       "441  10.0  16.0  12.2880  0.012195  0.012195  0.012195  0.004425  0.004425   \n",
       "\n",
       "           L2        R1  ...   X1X2        F1        F2        F3        F4  \\\n",
       "0    0.020000  0.001176  ...   40.0  0.393946  0.393946  0.393946  0.393946   \n",
       "1    0.020000  0.001073  ...   41.6  0.403153  0.403153  0.403153  0.403153   \n",
       "2    0.020000  0.000982  ...   43.2  0.412360  0.412360  0.412360  0.412360   \n",
       "3    0.020000  0.000903  ...   44.8  0.421568  0.421568  0.421568  0.421568   \n",
       "4    0.020000  0.000832  ...   46.4  0.430775  0.430775  0.430775  0.430775   \n",
       "..        ...       ...  ...    ...       ...       ...       ...       ...   \n",
       "437  0.004425  0.000065  ...  147.2  0.753684  0.753684  0.753684  0.753684   \n",
       "438  0.004425  0.000062  ...  150.4  0.762891  0.762891  0.762891  0.762891   \n",
       "439  0.004425  0.000059  ...  153.6  0.772098  0.772098  0.772098  0.772098   \n",
       "440  0.004425  0.000056  ...  156.8  0.781306  0.781306  0.781306  0.781306   \n",
       "441  0.004425  0.000054  ...  160.0  0.790513  0.790513  0.790513  0.790513   \n",
       "\n",
       "           F5        F6        F7        F8        F9  \n",
       "0    0.393946  0.393946  0.393946  0.393946  0.393946  \n",
       "1    0.403153  0.403153  0.403153  0.403153  0.403153  \n",
       "2    0.412360  0.412360  0.412360  0.412360  0.412360  \n",
       "3    0.421568  0.421568  0.421568  0.421568  0.421568  \n",
       "4    0.430775  0.430775  0.430775  0.430775  0.430775  \n",
       "..        ...       ...       ...       ...       ...  \n",
       "437  0.753684  0.753684  0.753684  0.753684  0.753684  \n",
       "438  0.762891  0.762891  0.762891  0.762891  0.762891  \n",
       "439  0.772098  0.772098  0.772098  0.772098  0.772098  \n",
       "440  0.781306  0.781306  0.781306  0.781306  0.781306  \n",
       "441  0.790513  0.790513  0.790513  0.790513  0.790513  \n",
       "\n",
       "[442 rows x 42 columns]"
      ],
      "text/html": "<div>\n<style scoped>\n    .dataframe tbody tr th:only-of-type {\n        vertical-align: middle;\n    }\n\n    .dataframe tbody tr th {\n        vertical-align: top;\n    }\n\n    .dataframe thead th {\n        text-align: right;\n    }\n</style>\n<table border=\"1\" class=\"dataframe\">\n  <thead>\n    <tr style=\"text-align: right;\">\n      <th></th>\n      <th>X1</th>\n      <th>X2</th>\n      <th>Y</th>\n      <th>S1</th>\n      <th>M1</th>\n      <th>L1</th>\n      <th>S2</th>\n      <th>M2</th>\n      <th>L2</th>\n      <th>R1</th>\n      <th>...</th>\n      <th>X1X2</th>\n      <th>F1</th>\n      <th>F2</th>\n      <th>F3</th>\n      <th>F4</th>\n      <th>F5</th>\n      <th>F6</th>\n      <th>F7</th>\n      <th>F8</th>\n      <th>F9</th>\n    </tr>\n  </thead>\n  <tbody>\n    <tr>\n      <th>0</th>\n      <td>5.0</td>\n      <td>8.0</td>\n      <td>9.8014</td>\n      <td>0.058824</td>\n      <td>0.058824</td>\n      <td>0.058824</td>\n      <td>0.020000</td>\n      <td>0.020000</td>\n      <td>0.020000</td>\n      <td>0.001176</td>\n      <td>...</td>\n      <td>40.0</td>\n      <td>0.393946</td>\n      <td>0.393946</td>\n      <td>0.393946</td>\n      <td>0.393946</td>\n      <td>0.393946</td>\n      <td>0.393946</td>\n      <td>0.393946</td>\n      <td>0.393946</td>\n      <td>0.393946</td>\n    </tr>\n    <tr>\n      <th>1</th>\n      <td>5.2</td>\n      <td>8.0</td>\n      <td>9.6813</td>\n      <td>0.053648</td>\n      <td>0.053648</td>\n      <td>0.053648</td>\n      <td>0.020000</td>\n      <td>0.020000</td>\n      <td>0.020000</td>\n      <td>0.001073</td>\n      <td>...</td>\n      <td>41.6</td>\n      <td>0.403153</td>\n      <td>0.403153</td>\n      <td>0.403153</td>\n      <td>0.403153</td>\n      <td>0.403153</td>\n      <td>0.403153</td>\n      <td>0.403153</td>\n      <td>0.403153</td>\n      <td>0.403153</td>\n    </tr>\n    <tr>\n      <th>2</th>\n      <td>5.4</td>\n      <td>8.0</td>\n      <td>9.1777</td>\n      <td>0.049116</td>\n      <td>0.049116</td>\n      <td>0.049116</td>\n      <td>0.020000</td>\n      <td>0.020000</td>\n      <td>0.020000</td>\n      <td>0.000982</td>\n      <td>...</td>\n      <td>43.2</td>\n      <td>0.412360</td>\n      <td>0.412360</td>\n      <td>0.412360</td>\n      <td>0.412360</td>\n      <td>0.412360</td>\n      <td>0.412360</td>\n      <td>0.412360</td>\n      <td>0.412360</td>\n      <td>0.412360</td>\n    </tr>\n    <tr>\n      <th>3</th>\n      <td>5.6</td>\n      <td>8.0</td>\n      <td>8.9374</td>\n      <td>0.045126</td>\n      <td>0.045126</td>\n      <td>0.045126</td>\n      <td>0.020000</td>\n      <td>0.020000</td>\n      <td>0.020000</td>\n      <td>0.000903</td>\n      <td>...</td>\n      <td>44.8</td>\n      <td>0.421568</td>\n      <td>0.421568</td>\n      <td>0.421568</td>\n      <td>0.421568</td>\n      <td>0.421568</td>\n      <td>0.421568</td>\n      <td>0.421568</td>\n      <td>0.421568</td>\n      <td>0.421568</td>\n    </tr>\n    <tr>\n      <th>4</th>\n      <td>5.8</td>\n      <td>8.0</td>\n      <td>8.6544</td>\n      <td>0.041597</td>\n      <td>0.041597</td>\n      <td>0.041597</td>\n      <td>0.020000</td>\n      <td>0.020000</td>\n      <td>0.020000</td>\n      <td>0.000832</td>\n      <td>...</td>\n      <td>46.4</td>\n      <td>0.430775</td>\n      <td>0.430775</td>\n      <td>0.430775</td>\n      <td>0.430775</td>\n      <td>0.430775</td>\n      <td>0.430775</td>\n      <td>0.430775</td>\n      <td>0.430775</td>\n      <td>0.430775</td>\n    </tr>\n    <tr>\n      <th>...</th>\n      <td>...</td>\n      <td>...</td>\n      <td>...</td>\n      <td>...</td>\n      <td>...</td>\n      <td>...</td>\n      <td>...</td>\n      <td>...</td>\n      <td>...</td>\n      <td>...</td>\n      <td>...</td>\n      <td>...</td>\n      <td>...</td>\n      <td>...</td>\n      <td>...</td>\n      <td>...</td>\n      <td>...</td>\n      <td>...</td>\n      <td>...</td>\n      <td>...</td>\n      <td>...</td>\n    </tr>\n    <tr>\n      <th>437</th>\n      <td>9.2</td>\n      <td>16.0</td>\n      <td>10.5574</td>\n      <td>0.014654</td>\n      <td>0.014654</td>\n      <td>0.014654</td>\n      <td>0.004425</td>\n      <td>0.004425</td>\n      <td>0.004425</td>\n      <td>0.000065</td>\n      <td>...</td>\n      <td>147.2</td>\n      <td>0.753684</td>\n      <td>0.753684</td>\n      <td>0.753684</td>\n      <td>0.753684</td>\n      <td>0.753684</td>\n      <td>0.753684</td>\n      <td>0.753684</td>\n      <td>0.753684</td>\n      <td>0.753684</td>\n    </tr>\n    <tr>\n      <th>438</th>\n      <td>9.4</td>\n      <td>16.0</td>\n      <td>10.9432</td>\n      <td>0.013974</td>\n      <td>0.013974</td>\n      <td>0.013974</td>\n      <td>0.004425</td>\n      <td>0.004425</td>\n      <td>0.004425</td>\n      <td>0.000062</td>\n      <td>...</td>\n      <td>150.4</td>\n      <td>0.762891</td>\n      <td>0.762891</td>\n      <td>0.762891</td>\n      <td>0.762891</td>\n      <td>0.762891</td>\n      <td>0.762891</td>\n      <td>0.762891</td>\n      <td>0.762891</td>\n      <td>0.762891</td>\n    </tr>\n    <tr>\n      <th>439</th>\n      <td>9.6</td>\n      <td>16.0</td>\n      <td>11.3713</td>\n      <td>0.013340</td>\n      <td>0.013340</td>\n      <td>0.013340</td>\n      <td>0.004425</td>\n      <td>0.004425</td>\n      <td>0.004425</td>\n      <td>0.000059</td>\n      <td>...</td>\n      <td>153.6</td>\n      <td>0.772098</td>\n      <td>0.772098</td>\n      <td>0.772098</td>\n      <td>0.772098</td>\n      <td>0.772098</td>\n      <td>0.772098</td>\n      <td>0.772098</td>\n      <td>0.772098</td>\n      <td>0.772098</td>\n    </tr>\n    <tr>\n      <th>440</th>\n      <td>9.8</td>\n      <td>16.0</td>\n      <td>11.8264</td>\n      <td>0.012749</td>\n      <td>0.012749</td>\n      <td>0.012749</td>\n      <td>0.004425</td>\n      <td>0.004425</td>\n      <td>0.004425</td>\n      <td>0.000056</td>\n      <td>...</td>\n      <td>156.8</td>\n      <td>0.781306</td>\n      <td>0.781306</td>\n      <td>0.781306</td>\n      <td>0.781306</td>\n      <td>0.781306</td>\n      <td>0.781306</td>\n      <td>0.781306</td>\n      <td>0.781306</td>\n      <td>0.781306</td>\n    </tr>\n    <tr>\n      <th>441</th>\n      <td>10.0</td>\n      <td>16.0</td>\n      <td>12.2880</td>\n      <td>0.012195</td>\n      <td>0.012195</td>\n      <td>0.012195</td>\n      <td>0.004425</td>\n      <td>0.004425</td>\n      <td>0.004425</td>\n      <td>0.000054</td>\n      <td>...</td>\n      <td>160.0</td>\n      <td>0.790513</td>\n      <td>0.790513</td>\n      <td>0.790513</td>\n      <td>0.790513</td>\n      <td>0.790513</td>\n      <td>0.790513</td>\n      <td>0.790513</td>\n      <td>0.790513</td>\n      <td>0.790513</td>\n    </tr>\n  </tbody>\n</table>\n<p>442 rows × 42 columns</p>\n</div>"
     },
     "metadata": {},
     "execution_count": 32
    }
   ],
   "source": [
    "#LAYER 5 Phase 1 part 2\n",
    "\n",
    "#calculate function activation for each rule, using initial C0, C1, C2 values\n",
    "#\n",
    "\n",
    "# F1 = N1 X (C0 + C1*X1 + C2*X2)\n",
    "# F1 - F9 = function activations\n",
    "\n",
    "anfis['F1'] = anfis['N1'] * ( startC0 + startC1 * anfis['X1'] + startC2 * anfis['X2'])\n",
    "anfis['F2'] = anfis['N2'] * ( startC0 + startC1 * anfis['X1'] + startC2 * anfis['X2'])\n",
    "anfis['F3'] = anfis['N3'] * ( startC0 + startC1 * anfis['X1'] + startC2 * anfis['X2'])\n",
    "anfis['F4'] = anfis['N4'] * ( startC0 + startC1 * anfis['X1'] + startC2 * anfis['X2'])\n",
    "anfis['F5'] = anfis['N5'] * ( startC0 + startC1 * anfis['X1'] + startC2 * anfis['X2'])\n",
    "anfis['F6'] = anfis['N6'] * ( startC0 + startC1 * anfis['X1'] + startC2 * anfis['X2'])\n",
    "anfis['F7'] = anfis['N7'] * ( startC0 + startC1 * anfis['X1'] + startC2 * anfis['X2'])\n",
    "anfis['F8'] = anfis['N8'] * ( startC0 + startC1 * anfis['X1'] + startC2 * anfis['X2'])\n",
    "anfis['F9'] = anfis['N9'] * ( startC0 + startC1 * anfis['X1'] + startC2 * anfis['X2'])\n",
    "\n",
    "anfis"
   ]
  },
  {
   "cell_type": "code",
   "execution_count": 33,
   "metadata": {},
   "outputs": [
    {
     "output_type": "execute_result",
     "data": {
      "text/plain": [
       "       X1    X2        Y        S1        M1        L1        S2        M2  \\\n",
       "0     5.0   8.0   9.8014  0.058824  0.058824  0.058824  0.020000  0.020000   \n",
       "1     5.2   8.0   9.6813  0.053648  0.053648  0.053648  0.020000  0.020000   \n",
       "2     5.4   8.0   9.1777  0.049116  0.049116  0.049116  0.020000  0.020000   \n",
       "3     5.6   8.0   8.9374  0.045126  0.045126  0.045126  0.020000  0.020000   \n",
       "4     5.8   8.0   8.6544  0.041597  0.041597  0.041597  0.020000  0.020000   \n",
       "..    ...   ...      ...       ...       ...       ...       ...       ...   \n",
       "437   9.2  16.0  10.5574  0.014654  0.014654  0.014654  0.004425  0.004425   \n",
       "438   9.4  16.0  10.9432  0.013974  0.013974  0.013974  0.004425  0.004425   \n",
       "439   9.6  16.0  11.3713  0.013340  0.013340  0.013340  0.004425  0.004425   \n",
       "440   9.8  16.0  11.8264  0.012749  0.012749  0.012749  0.004425  0.004425   \n",
       "441  10.0  16.0  12.2880  0.012195  0.012195  0.012195  0.004425  0.004425   \n",
       "\n",
       "           L2        R1  ...        F1        F2        F3        F4  \\\n",
       "0    0.020000  0.001176  ...  0.393946  0.393946  0.393946  0.393946   \n",
       "1    0.020000  0.001073  ...  0.403153  0.403153  0.403153  0.403153   \n",
       "2    0.020000  0.000982  ...  0.412360  0.412360  0.412360  0.412360   \n",
       "3    0.020000  0.000903  ...  0.421568  0.421568  0.421568  0.421568   \n",
       "4    0.020000  0.000832  ...  0.430775  0.430775  0.430775  0.430775   \n",
       "..        ...       ...  ...       ...       ...       ...       ...   \n",
       "437  0.004425  0.000065  ...  0.753684  0.753684  0.753684  0.753684   \n",
       "438  0.004425  0.000062  ...  0.762891  0.762891  0.762891  0.762891   \n",
       "439  0.004425  0.000059  ...  0.772098  0.772098  0.772098  0.772098   \n",
       "440  0.004425  0.000056  ...  0.781306  0.781306  0.781306  0.781306   \n",
       "441  0.004425  0.000054  ...  0.790513  0.790513  0.790513  0.790513   \n",
       "\n",
       "           F5        F6        F7        F8        F9         Z  \n",
       "0    0.393946  0.393946  0.393946  0.393946  0.393946  3.545510  \n",
       "1    0.403153  0.403153  0.403153  0.403153  0.403153  3.628376  \n",
       "2    0.412360  0.412360  0.412360  0.412360  0.412360  3.711242  \n",
       "3    0.421568  0.421568  0.421568  0.421568  0.421568  3.794108  \n",
       "4    0.430775  0.430775  0.430775  0.430775  0.430775  3.876973  \n",
       "..        ...       ...       ...       ...       ...       ...  \n",
       "437  0.753684  0.753684  0.753684  0.753684  0.753684  6.783154  \n",
       "438  0.762891  0.762891  0.762891  0.762891  0.762891  6.866020  \n",
       "439  0.772098  0.772098  0.772098  0.772098  0.772098  6.948886  \n",
       "440  0.781306  0.781306  0.781306  0.781306  0.781306  7.031751  \n",
       "441  0.790513  0.790513  0.790513  0.790513  0.790513  7.114617  \n",
       "\n",
       "[442 rows x 43 columns]"
      ],
      "text/html": "<div>\n<style scoped>\n    .dataframe tbody tr th:only-of-type {\n        vertical-align: middle;\n    }\n\n    .dataframe tbody tr th {\n        vertical-align: top;\n    }\n\n    .dataframe thead th {\n        text-align: right;\n    }\n</style>\n<table border=\"1\" class=\"dataframe\">\n  <thead>\n    <tr style=\"text-align: right;\">\n      <th></th>\n      <th>X1</th>\n      <th>X2</th>\n      <th>Y</th>\n      <th>S1</th>\n      <th>M1</th>\n      <th>L1</th>\n      <th>S2</th>\n      <th>M2</th>\n      <th>L2</th>\n      <th>R1</th>\n      <th>...</th>\n      <th>F1</th>\n      <th>F2</th>\n      <th>F3</th>\n      <th>F4</th>\n      <th>F5</th>\n      <th>F6</th>\n      <th>F7</th>\n      <th>F8</th>\n      <th>F9</th>\n      <th>Z</th>\n    </tr>\n  </thead>\n  <tbody>\n    <tr>\n      <th>0</th>\n      <td>5.0</td>\n      <td>8.0</td>\n      <td>9.8014</td>\n      <td>0.058824</td>\n      <td>0.058824</td>\n      <td>0.058824</td>\n      <td>0.020000</td>\n      <td>0.020000</td>\n      <td>0.020000</td>\n      <td>0.001176</td>\n      <td>...</td>\n      <td>0.393946</td>\n      <td>0.393946</td>\n      <td>0.393946</td>\n      <td>0.393946</td>\n      <td>0.393946</td>\n      <td>0.393946</td>\n      <td>0.393946</td>\n      <td>0.393946</td>\n      <td>0.393946</td>\n      <td>3.545510</td>\n    </tr>\n    <tr>\n      <th>1</th>\n      <td>5.2</td>\n      <td>8.0</td>\n      <td>9.6813</td>\n      <td>0.053648</td>\n      <td>0.053648</td>\n      <td>0.053648</td>\n      <td>0.020000</td>\n      <td>0.020000</td>\n      <td>0.020000</td>\n      <td>0.001073</td>\n      <td>...</td>\n      <td>0.403153</td>\n      <td>0.403153</td>\n      <td>0.403153</td>\n      <td>0.403153</td>\n      <td>0.403153</td>\n      <td>0.403153</td>\n      <td>0.403153</td>\n      <td>0.403153</td>\n      <td>0.403153</td>\n      <td>3.628376</td>\n    </tr>\n    <tr>\n      <th>2</th>\n      <td>5.4</td>\n      <td>8.0</td>\n      <td>9.1777</td>\n      <td>0.049116</td>\n      <td>0.049116</td>\n      <td>0.049116</td>\n      <td>0.020000</td>\n      <td>0.020000</td>\n      <td>0.020000</td>\n      <td>0.000982</td>\n      <td>...</td>\n      <td>0.412360</td>\n      <td>0.412360</td>\n      <td>0.412360</td>\n      <td>0.412360</td>\n      <td>0.412360</td>\n      <td>0.412360</td>\n      <td>0.412360</td>\n      <td>0.412360</td>\n      <td>0.412360</td>\n      <td>3.711242</td>\n    </tr>\n    <tr>\n      <th>3</th>\n      <td>5.6</td>\n      <td>8.0</td>\n      <td>8.9374</td>\n      <td>0.045126</td>\n      <td>0.045126</td>\n      <td>0.045126</td>\n      <td>0.020000</td>\n      <td>0.020000</td>\n      <td>0.020000</td>\n      <td>0.000903</td>\n      <td>...</td>\n      <td>0.421568</td>\n      <td>0.421568</td>\n      <td>0.421568</td>\n      <td>0.421568</td>\n      <td>0.421568</td>\n      <td>0.421568</td>\n      <td>0.421568</td>\n      <td>0.421568</td>\n      <td>0.421568</td>\n      <td>3.794108</td>\n    </tr>\n    <tr>\n      <th>4</th>\n      <td>5.8</td>\n      <td>8.0</td>\n      <td>8.6544</td>\n      <td>0.041597</td>\n      <td>0.041597</td>\n      <td>0.041597</td>\n      <td>0.020000</td>\n      <td>0.020000</td>\n      <td>0.020000</td>\n      <td>0.000832</td>\n      <td>...</td>\n      <td>0.430775</td>\n      <td>0.430775</td>\n      <td>0.430775</td>\n      <td>0.430775</td>\n      <td>0.430775</td>\n      <td>0.430775</td>\n      <td>0.430775</td>\n      <td>0.430775</td>\n      <td>0.430775</td>\n      <td>3.876973</td>\n    </tr>\n    <tr>\n      <th>...</th>\n      <td>...</td>\n      <td>...</td>\n      <td>...</td>\n      <td>...</td>\n      <td>...</td>\n      <td>...</td>\n      <td>...</td>\n      <td>...</td>\n      <td>...</td>\n      <td>...</td>\n      <td>...</td>\n      <td>...</td>\n      <td>...</td>\n      <td>...</td>\n      <td>...</td>\n      <td>...</td>\n      <td>...</td>\n      <td>...</td>\n      <td>...</td>\n      <td>...</td>\n      <td>...</td>\n    </tr>\n    <tr>\n      <th>437</th>\n      <td>9.2</td>\n      <td>16.0</td>\n      <td>10.5574</td>\n      <td>0.014654</td>\n      <td>0.014654</td>\n      <td>0.014654</td>\n      <td>0.004425</td>\n      <td>0.004425</td>\n      <td>0.004425</td>\n      <td>0.000065</td>\n      <td>...</td>\n      <td>0.753684</td>\n      <td>0.753684</td>\n      <td>0.753684</td>\n      <td>0.753684</td>\n      <td>0.753684</td>\n      <td>0.753684</td>\n      <td>0.753684</td>\n      <td>0.753684</td>\n      <td>0.753684</td>\n      <td>6.783154</td>\n    </tr>\n    <tr>\n      <th>438</th>\n      <td>9.4</td>\n      <td>16.0</td>\n      <td>10.9432</td>\n      <td>0.013974</td>\n      <td>0.013974</td>\n      <td>0.013974</td>\n      <td>0.004425</td>\n      <td>0.004425</td>\n      <td>0.004425</td>\n      <td>0.000062</td>\n      <td>...</td>\n      <td>0.762891</td>\n      <td>0.762891</td>\n      <td>0.762891</td>\n      <td>0.762891</td>\n      <td>0.762891</td>\n      <td>0.762891</td>\n      <td>0.762891</td>\n      <td>0.762891</td>\n      <td>0.762891</td>\n      <td>6.866020</td>\n    </tr>\n    <tr>\n      <th>439</th>\n      <td>9.6</td>\n      <td>16.0</td>\n      <td>11.3713</td>\n      <td>0.013340</td>\n      <td>0.013340</td>\n      <td>0.013340</td>\n      <td>0.004425</td>\n      <td>0.004425</td>\n      <td>0.004425</td>\n      <td>0.000059</td>\n      <td>...</td>\n      <td>0.772098</td>\n      <td>0.772098</td>\n      <td>0.772098</td>\n      <td>0.772098</td>\n      <td>0.772098</td>\n      <td>0.772098</td>\n      <td>0.772098</td>\n      <td>0.772098</td>\n      <td>0.772098</td>\n      <td>6.948886</td>\n    </tr>\n    <tr>\n      <th>440</th>\n      <td>9.8</td>\n      <td>16.0</td>\n      <td>11.8264</td>\n      <td>0.012749</td>\n      <td>0.012749</td>\n      <td>0.012749</td>\n      <td>0.004425</td>\n      <td>0.004425</td>\n      <td>0.004425</td>\n      <td>0.000056</td>\n      <td>...</td>\n      <td>0.781306</td>\n      <td>0.781306</td>\n      <td>0.781306</td>\n      <td>0.781306</td>\n      <td>0.781306</td>\n      <td>0.781306</td>\n      <td>0.781306</td>\n      <td>0.781306</td>\n      <td>0.781306</td>\n      <td>7.031751</td>\n    </tr>\n    <tr>\n      <th>441</th>\n      <td>10.0</td>\n      <td>16.0</td>\n      <td>12.2880</td>\n      <td>0.012195</td>\n      <td>0.012195</td>\n      <td>0.012195</td>\n      <td>0.004425</td>\n      <td>0.004425</td>\n      <td>0.004425</td>\n      <td>0.000054</td>\n      <td>...</td>\n      <td>0.790513</td>\n      <td>0.790513</td>\n      <td>0.790513</td>\n      <td>0.790513</td>\n      <td>0.790513</td>\n      <td>0.790513</td>\n      <td>0.790513</td>\n      <td>0.790513</td>\n      <td>0.790513</td>\n      <td>7.114617</td>\n    </tr>\n  </tbody>\n</table>\n<p>442 rows × 43 columns</p>\n</div>"
     },
     "metadata": {},
     "execution_count": 33
    }
   ],
   "source": [
    "#Layer 6 Phase 1\n",
    "\n",
    "# Layer 6 = SUM(F1...F9)\n",
    "\n",
    "anfis['Z'] = anfis['F1'] + anfis['F2'] + anfis['F3'] + anfis['F4'] + anfis['F5'] + anfis['F6'] + anfis['F7'] + anfis['F8'] + anfis['F9']\n",
    "\n",
    "anfis\n"
   ]
  },
  {
   "cell_type": "code",
   "execution_count": 34,
   "metadata": {},
   "outputs": [
    {
     "output_type": "execute_result",
     "data": {
      "text/plain": [
       "1280.4240367157242"
      ]
     },
     "metadata": {},
     "execution_count": 34
    }
   ],
   "source": [
    "#ERROR Phase 1\n",
    "\n",
    "#Error = Z (calculated value) - Y (observed value)\n",
    "anfis['Err'] = anfis['Z'] - anfis['Y']\n",
    "anfis['ErrSqr'] = anfis['Err']**2\n",
    "\n",
    "#total Error = 1/2 (SUM(Error**2))\n",
    "TotalError = .5 * anfis['ErrSqr'].sum()\n",
    "TotalError "
   ]
  },
  {
   "cell_type": "code",
   "execution_count": null,
   "metadata": {},
   "outputs": [],
   "source": []
  }
 ]
}